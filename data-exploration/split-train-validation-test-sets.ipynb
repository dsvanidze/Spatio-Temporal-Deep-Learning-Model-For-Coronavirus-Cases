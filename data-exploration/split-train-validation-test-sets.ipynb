{
 "cells": [
  {
   "cell_type": "code",
   "execution_count": 41,
   "metadata": {},
   "outputs": [],
   "source": [
    "import pandas as pd\n",
    "from sklearn.model_selection import train_test_split\n",
    "import numpy as np"
   ]
  },
  {
   "cell_type": "code",
   "execution_count": 42,
   "metadata": {},
   "outputs": [],
   "source": [
    "def train_val_test_split(X, Y):\n",
    "    # check data has been read in properly\n",
    "    _X_train, X_test, _Y_train, Y_test = train_test_split(\n",
    "        X, Y, test_size=0.2, random_state=0)\n",
    "\n",
    "    X_train, X_val, Y_train, Y_val = train_test_split(\n",
    "        _X_train, _Y_train, test_size=0.25, random_state=0)  # 0.25 x 0.8 = 0.2\n",
    "    return X_train, X_val, X_test, Y_train, Y_val, Y_test"
   ]
  },
  {
   "cell_type": "code",
   "execution_count": 53,
   "metadata": {
    "slideshow": {
     "slide_type": "-"
    }
   },
   "outputs": [
    {
     "name": "stdout",
     "output_type": "stream",
     "text": [
      "Number of all rows: 2413\n"
     ]
    },
    {
     "data": {
      "text/html": [
       "<div>\n",
       "<style scoped>\n",
       "    .dataframe tbody tr th:only-of-type {\n",
       "        vertical-align: middle;\n",
       "    }\n",
       "\n",
       "    .dataframe tbody tr th {\n",
       "        vertical-align: top;\n",
       "    }\n",
       "\n",
       "    .dataframe thead th {\n",
       "        text-align: right;\n",
       "    }\n",
       "</style>\n",
       "<table border=\"1\" class=\"dataframe\">\n",
       "  <thead>\n",
       "    <tr style=\"text-align: right;\">\n",
       "      <th></th>\n",
       "      <th>longitude</th>\n",
       "      <th>latitude</th>\n",
       "      <th>adj_cases</th>\n",
       "      <th>Waccess</th>\n",
       "      <th>access</th>\n",
       "      <th>lst</th>\n",
       "      <th>pet</th>\n",
       "      <th>pop.1</th>\n",
       "      <th>urban</th>\n",
       "    </tr>\n",
       "  </thead>\n",
       "  <tbody>\n",
       "    <tr>\n",
       "      <th>0</th>\n",
       "      <td>114.291939</td>\n",
       "      <td>30.567514</td>\n",
       "      <td>29.040283</td>\n",
       "      <td>-4.396702</td>\n",
       "      <td>-2.685036</td>\n",
       "      <td>-1.308296</td>\n",
       "      <td>-0.033009</td>\n",
       "      <td>3.327757</td>\n",
       "      <td>2.880330</td>\n",
       "    </tr>\n",
       "    <tr>\n",
       "      <th>1</th>\n",
       "      <td>114.129100</td>\n",
       "      <td>22.653890</td>\n",
       "      <td>1.331505</td>\n",
       "      <td>-1.013740</td>\n",
       "      <td>-1.744176</td>\n",
       "      <td>-0.562087</td>\n",
       "      <td>0.482712</td>\n",
       "      <td>2.969388</td>\n",
       "      <td>2.730638</td>\n",
       "    </tr>\n",
       "    <tr>\n",
       "      <th>2</th>\n",
       "      <td>121.455500</td>\n",
       "      <td>31.204500</td>\n",
       "      <td>0.526727</td>\n",
       "      <td>-1.423063</td>\n",
       "      <td>-2.456093</td>\n",
       "      <td>-0.873084</td>\n",
       "      <td>0.194353</td>\n",
       "      <td>3.991484</td>\n",
       "      <td>3.653661</td>\n",
       "    </tr>\n",
       "    <tr>\n",
       "      <th>3</th>\n",
       "      <td>110.165400</td>\n",
       "      <td>21.100030</td>\n",
       "      <td>0.309861</td>\n",
       "      <td>-0.764324</td>\n",
       "      <td>-2.039705</td>\n",
       "      <td>-0.145458</td>\n",
       "      <td>1.005834</td>\n",
       "      <td>1.906079</td>\n",
       "      <td>1.568910</td>\n",
       "    </tr>\n",
       "    <tr>\n",
       "      <th>4</th>\n",
       "      <td>102.873900</td>\n",
       "      <td>25.392360</td>\n",
       "      <td>2.272738</td>\n",
       "      <td>-0.246663</td>\n",
       "      <td>-0.485263</td>\n",
       "      <td>0.012917</td>\n",
       "      <td>-0.262118</td>\n",
       "      <td>0.840807</td>\n",
       "      <td>1.027507</td>\n",
       "    </tr>\n",
       "  </tbody>\n",
       "</table>\n",
       "</div>"
      ],
      "text/plain": [
       "    longitude   latitude  adj_cases   Waccess    access       lst       pet  \\\n",
       "0  114.291939  30.567514  29.040283 -4.396702 -2.685036 -1.308296 -0.033009   \n",
       "1  114.129100  22.653890   1.331505 -1.013740 -1.744176 -0.562087  0.482712   \n",
       "2  121.455500  31.204500   0.526727 -1.423063 -2.456093 -0.873084  0.194353   \n",
       "3  110.165400  21.100030   0.309861 -0.764324 -2.039705 -0.145458  1.005834   \n",
       "4  102.873900  25.392360   2.272738 -0.246663 -0.485263  0.012917 -0.262118   \n",
       "\n",
       "      pop.1     urban  \n",
       "0  3.327757  2.880330  \n",
       "1  2.969388  2.730638  \n",
       "2  3.991484  3.653661  \n",
       "3  1.906079  1.568910  \n",
       "4  0.840807  1.027507  "
      ]
     },
     "execution_count": 53,
     "metadata": {},
     "output_type": "execute_result"
    }
   ],
   "source": [
    "raw_data = pd.read_csv(\"../data/csvs/data.v1.1.csv\")\n",
    "print(\"Number of all rows:\", len(raw_data))\n",
    "\n",
    "data = raw_data.drop(raw_data[raw_data.sampling == 0].index).dropna().drop(\n",
    "    columns=['id', 'pop', 'logpop', 'nbHF', 'adjpop', 'sampling', 'total_cases', 'elevation', 'aridity', 'irrigation'])\n",
    "data.head()\n"
   ]
  },
  {
   "cell_type": "code",
   "execution_count": 44,
   "metadata": {},
   "outputs": [
    {
     "data": {
      "text/html": [
       "<div>\n",
       "<style scoped>\n",
       "    .dataframe tbody tr th:only-of-type {\n",
       "        vertical-align: middle;\n",
       "    }\n",
       "\n",
       "    .dataframe tbody tr th {\n",
       "        vertical-align: top;\n",
       "    }\n",
       "\n",
       "    .dataframe thead th {\n",
       "        text-align: right;\n",
       "    }\n",
       "</style>\n",
       "<table border=\"1\" class=\"dataframe\">\n",
       "  <thead>\n",
       "    <tr style=\"text-align: right;\">\n",
       "      <th></th>\n",
       "      <th>longitude</th>\n",
       "      <th>latitude</th>\n",
       "      <th>Waccess</th>\n",
       "      <th>access</th>\n",
       "      <th>lst</th>\n",
       "      <th>pet</th>\n",
       "      <th>pop.1</th>\n",
       "      <th>urban</th>\n",
       "    </tr>\n",
       "  </thead>\n",
       "  <tbody>\n",
       "    <tr>\n",
       "      <th>128</th>\n",
       "      <td>108.8523</td>\n",
       "      <td>31.03847</td>\n",
       "      <td>-1.029790</td>\n",
       "      <td>-1.048688</td>\n",
       "      <td>-1.094926</td>\n",
       "      <td>-0.240211</td>\n",
       "      <td>1.340388</td>\n",
       "      <td>0.791722</td>\n",
       "    </tr>\n",
       "    <tr>\n",
       "      <th>935</th>\n",
       "      <td>112.7700</td>\n",
       "      <td>34.73000</td>\n",
       "      <td>-1.478398</td>\n",
       "      <td>-1.467565</td>\n",
       "      <td>-0.295413</td>\n",
       "      <td>0.737672</td>\n",
       "      <td>2.773557</td>\n",
       "      <td>2.727613</td>\n",
       "    </tr>\n",
       "    <tr>\n",
       "      <th>227</th>\n",
       "      <td>105.0565</td>\n",
       "      <td>34.10804</td>\n",
       "      <td>-0.567336</td>\n",
       "      <td>-0.335427</td>\n",
       "      <td>0.277322</td>\n",
       "      <td>-0.470704</td>\n",
       "      <td>0.746703</td>\n",
       "      <td>0.809682</td>\n",
       "    </tr>\n",
       "    <tr>\n",
       "      <th>1247</th>\n",
       "      <td>121.7500</td>\n",
       "      <td>42.72000</td>\n",
       "      <td>-0.399357</td>\n",
       "      <td>-0.945488</td>\n",
       "      <td>0.063672</td>\n",
       "      <td>0.641952</td>\n",
       "      <td>0.746576</td>\n",
       "      <td>2.402087</td>\n",
       "    </tr>\n",
       "    <tr>\n",
       "      <th>208</th>\n",
       "      <td>118.8534</td>\n",
       "      <td>30.68815</td>\n",
       "      <td>-1.482588</td>\n",
       "      <td>-0.117957</td>\n",
       "      <td>-0.667219</td>\n",
       "      <td>-0.043913</td>\n",
       "      <td>0.860191</td>\n",
       "      <td>1.081039</td>\n",
       "    </tr>\n",
       "  </tbody>\n",
       "</table>\n",
       "</div>"
      ],
      "text/plain": [
       "      longitude  latitude   Waccess    access       lst       pet     pop.1  \\\n",
       "128    108.8523  31.03847 -1.029790 -1.048688 -1.094926 -0.240211  1.340388   \n",
       "935    112.7700  34.73000 -1.478398 -1.467565 -0.295413  0.737672  2.773557   \n",
       "227    105.0565  34.10804 -0.567336 -0.335427  0.277322 -0.470704  0.746703   \n",
       "1247   121.7500  42.72000 -0.399357 -0.945488  0.063672  0.641952  0.746576   \n",
       "208    118.8534  30.68815 -1.482588 -0.117957 -0.667219 -0.043913  0.860191   \n",
       "\n",
       "         urban  \n",
       "128   0.791722  \n",
       "935   2.727613  \n",
       "227   0.809682  \n",
       "1247  2.402087  \n",
       "208   1.081039  "
      ]
     },
     "execution_count": 44,
     "metadata": {},
     "output_type": "execute_result"
    }
   ],
   "source": [
    "# create a dataframe with all training data except the target column\n",
    "X = data.drop(columns=[\"adj_cases\"])\n",
    "\n",
    "# create a dataframe with only the target column\n",
    "Y = data[[\"adj_cases\"]]\n",
    "\n",
    "X_train, X_val, X_test, Y_train, Y_val, Y_test = train_val_test_split(X, Y)\n",
    "X_train.head()"
   ]
  },
  {
   "cell_type": "code",
   "execution_count": 45,
   "metadata": {},
   "outputs": [
    {
     "data": {
      "text/html": [
       "<div>\n",
       "<style scoped>\n",
       "    .dataframe tbody tr th:only-of-type {\n",
       "        vertical-align: middle;\n",
       "    }\n",
       "\n",
       "    .dataframe tbody tr th {\n",
       "        vertical-align: top;\n",
       "    }\n",
       "\n",
       "    .dataframe thead th {\n",
       "        text-align: right;\n",
       "    }\n",
       "</style>\n",
       "<table border=\"1\" class=\"dataframe\">\n",
       "  <thead>\n",
       "    <tr style=\"text-align: right;\">\n",
       "      <th></th>\n",
       "      <th>adj_cases</th>\n",
       "    </tr>\n",
       "  </thead>\n",
       "  <tbody>\n",
       "    <tr>\n",
       "      <th>128</th>\n",
       "      <td>1.814154</td>\n",
       "    </tr>\n",
       "    <tr>\n",
       "      <th>935</th>\n",
       "      <td>0.000000</td>\n",
       "    </tr>\n",
       "    <tr>\n",
       "      <th>227</th>\n",
       "      <td>0.459729</td>\n",
       "    </tr>\n",
       "    <tr>\n",
       "      <th>1247</th>\n",
       "      <td>0.000000</td>\n",
       "    </tr>\n",
       "    <tr>\n",
       "      <th>208</th>\n",
       "      <td>0.350999</td>\n",
       "    </tr>\n",
       "  </tbody>\n",
       "</table>\n",
       "</div>"
      ],
      "text/plain": [
       "      adj_cases\n",
       "128    1.814154\n",
       "935    0.000000\n",
       "227    0.459729\n",
       "1247   0.000000\n",
       "208    0.350999"
      ]
     },
     "execution_count": 45,
     "metadata": {},
     "output_type": "execute_result"
    }
   ],
   "source": [
    "Y_train.head()"
   ]
  },
  {
   "cell_type": "code",
   "execution_count": 52,
   "metadata": {},
   "outputs": [],
   "source": [
    "# Save splitted data in csv files\n",
    "pd.concat([X_train, Y_train], axis=1).to_csv(\"../data/csvs/split/train.csv\", index=True, index_label=\"index\", na_rep=\"NA\")\n",
    "pd.concat([X_val, Y_val], axis=1).to_csv(\"../data/csvs/split/validation.csv\", index=True, index_label=\"index\", na_rep=\"NA\")\n",
    "pd.concat([X_test, Y_test], axis=1).to_csv(\"../data/csvs/split/test.csv\", index=True, index_label=\"index\", na_rep=\"NA\")\n"
   ]
  },
  {
   "cell_type": "code",
   "execution_count": 1,
   "metadata": {},
   "outputs": [
    {
     "name": "stderr",
     "output_type": "stream",
     "text": [
      "/usr/local/Cellar/python/3.7.5/Frameworks/Python.framework/Versions/3.7/lib/python3.7/importlib/_bootstrap.py:219: RuntimeWarning: numpy.ufunc size changed, may indicate binary incompatibility. Expected 192 from C header, got 216 from PyObject\n",
      "  return f(*args, **kwds)\n"
     ]
    }
   ],
   "source": [
    "import pandas as pd\n",
    "import matplotlib.pyplot as plt\n",
    "import descartes\n",
    "import geopandas as gpd\n",
    "from shapely.geometry import Point, Polygon\n",
    "\n",
    "%matplotlib inline"
   ]
  },
  {
   "cell_type": "code",
   "execution_count": 3,
   "metadata": {},
   "outputs": [],
   "source": [
    "china_map = gpd.read_file('../data/shapefiles/China.shp')"
   ]
  },
  {
   "cell_type": "code",
   "execution_count": 6,
   "metadata": {},
   "outputs": [
    {
     "data": {
      "text/plain": [
       "<matplotlib.axes._subplots.AxesSubplot at 0x118aa2110>"
      ]
     },
     "execution_count": 6,
     "metadata": {},
     "output_type": "execute_result"
    },
    {
     "data": {
      "image/png": "[encoded data removed]",
      "text/plain": [
       "<Figure size 1080x1080 with 1 Axes>"
      ]
     },
     "metadata": {
      "needs_background": "light"
     },
     "output_type": "display_data"
    }
   ],
   "source": [
    "fig, ax = plt.subplots(figsize = (15, 15))\n",
    "china_map.plot(ax = ax)"
   ]
  },
  {
   "cell_type": "code",
   "execution_count": null,
   "metadata": {},
   "outputs": [],
   "source": []
  }
 ],
 "metadata": {
  "kernelspec": {
   "display_name": "Python 3",
   "language": "python",
   "name": "python3"
  },
  "language_info": {
   "codemirror_mode": {
    "name": "ipython",
    "version": 3
   },
   "file_extension": ".py",
   "mimetype": "text/x-python",
   "name": "python",
   "nbconvert_exporter": "python",
   "pygments_lexer": "ipython3",
   "version": "3.7.5"
  }
 },
 "nbformat": 4,
 "nbformat_minor": 2
}
