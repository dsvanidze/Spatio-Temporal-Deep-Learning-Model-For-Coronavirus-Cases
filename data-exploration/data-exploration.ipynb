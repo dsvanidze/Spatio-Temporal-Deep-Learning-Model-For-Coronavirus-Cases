{
 "cells": [
  {
   "cell_type": "code",
   "execution_count": 3,
   "metadata": {},
   "outputs": [],
   "source": [
    "import matplotlib.pyplot as plt\n",
    "from sklearn.preprocessing import StandardScaler, MinMaxScaler\n",
    "import pandas as pd\n",
    "import numpy as np\n",
    "\n",
    "%load_ext autoreload\n",
    "%autoreload 2"
   ]
  },
  {
   "cell_type": "code",
   "execution_count": 74,
   "metadata": {},
   "outputs": [],
   "source": [
    "# adj_cases = (total_cases / adjpop) * 100000\n",
    "raw_data = pd.read_csv(\"../data/csvs/data.v1.1.csv\")"
   ]
  },
  {
   "cell_type": "code",
   "execution_count": 77,
   "metadata": {},
   "outputs": [
    {
     "data": {
      "text/html": [
       "<div>\n",
       "<style scoped>\n",
       "    .dataframe tbody tr th:only-of-type {\n",
       "        vertical-align: middle;\n",
       "    }\n",
       "\n",
       "    .dataframe tbody tr th {\n",
       "        vertical-align: top;\n",
       "    }\n",
       "\n",
       "    .dataframe thead th {\n",
       "        text-align: right;\n",
       "    }\n",
       "</style>\n",
       "<table border=\"1\" class=\"dataframe\">\n",
       "  <thead>\n",
       "    <tr style=\"text-align: right;\">\n",
       "      <th></th>\n",
       "      <th>id</th>\n",
       "      <th>pop</th>\n",
       "      <th>logpop</th>\n",
       "      <th>nbHF</th>\n",
       "      <th>adjpop</th>\n",
       "      <th>longitude</th>\n",
       "      <th>latitude</th>\n",
       "      <th>sampling</th>\n",
       "      <th>total_cases</th>\n",
       "      <th>adj_cases</th>\n",
       "      <th>Waccess</th>\n",
       "      <th>access</th>\n",
       "      <th>elevation</th>\n",
       "      <th>aridity</th>\n",
       "      <th>irrigation</th>\n",
       "      <th>lst</th>\n",
       "      <th>pet</th>\n",
       "      <th>pop.1</th>\n",
       "      <th>urban</th>\n",
       "    </tr>\n",
       "  </thead>\n",
       "  <tbody>\n",
       "    <tr>\n",
       "      <th>0</th>\n",
       "      <td>1</td>\n",
       "      <td>9087377.00</td>\n",
       "      <td>16.022397</td>\n",
       "      <td>1</td>\n",
       "      <td>9087377.00</td>\n",
       "      <td>114.291939</td>\n",
       "      <td>30.567514</td>\n",
       "      <td>1</td>\n",
       "      <td>2639.0</td>\n",
       "      <td>29.040283</td>\n",
       "      <td>-4.396702</td>\n",
       "      <td>-2.685036</td>\n",
       "      <td>-1.767525</td>\n",
       "      <td>1.043890</td>\n",
       "      <td>-0.404735</td>\n",
       "      <td>-1.308296</td>\n",
       "      <td>-0.033009</td>\n",
       "      <td>3.327757</td>\n",
       "      <td>2.880330</td>\n",
       "    </tr>\n",
       "    <tr>\n",
       "      <th>1</th>\n",
       "      <td>2</td>\n",
       "      <td>10514420.00</td>\n",
       "      <td>16.168258</td>\n",
       "      <td>1</td>\n",
       "      <td>10514420.00</td>\n",
       "      <td>114.129100</td>\n",
       "      <td>22.653890</td>\n",
       "      <td>1</td>\n",
       "      <td>140.0</td>\n",
       "      <td>1.331505</td>\n",
       "      <td>-1.013740</td>\n",
       "      <td>-1.744176</td>\n",
       "      <td>-1.470888</td>\n",
       "      <td>2.265500</td>\n",
       "      <td>1.000357</td>\n",
       "      <td>-0.562087</td>\n",
       "      <td>0.482712</td>\n",
       "      <td>2.969388</td>\n",
       "      <td>2.730638</td>\n",
       "    </tr>\n",
       "    <tr>\n",
       "      <th>2</th>\n",
       "      <td>3</td>\n",
       "      <td>22972066.00</td>\n",
       "      <td>16.949790</td>\n",
       "      <td>1</td>\n",
       "      <td>22972066.00</td>\n",
       "      <td>121.455500</td>\n",
       "      <td>31.204500</td>\n",
       "      <td>1</td>\n",
       "      <td>121.0</td>\n",
       "      <td>0.526727</td>\n",
       "      <td>-1.423063</td>\n",
       "      <td>-2.456093</td>\n",
       "      <td>-2.095271</td>\n",
       "      <td>0.756405</td>\n",
       "      <td>0.579926</td>\n",
       "      <td>-0.873084</td>\n",
       "      <td>0.194353</td>\n",
       "      <td>3.991484</td>\n",
       "      <td>3.653661</td>\n",
       "    </tr>\n",
       "    <tr>\n",
       "      <th>3</th>\n",
       "      <td>4</td>\n",
       "      <td>2904529.50</td>\n",
       "      <td>14.881782</td>\n",
       "      <td>1</td>\n",
       "      <td>2904529.50</td>\n",
       "      <td>110.165400</td>\n",
       "      <td>21.100030</td>\n",
       "      <td>1</td>\n",
       "      <td>9.0</td>\n",
       "      <td>0.309861</td>\n",
       "      <td>-0.764324</td>\n",
       "      <td>-2.039705</td>\n",
       "      <td>-1.917716</td>\n",
       "      <td>1.191654</td>\n",
       "      <td>0.862389</td>\n",
       "      <td>-0.145458</td>\n",
       "      <td>1.005834</td>\n",
       "      <td>1.906079</td>\n",
       "      <td>1.568910</td>\n",
       "    </tr>\n",
       "    <tr>\n",
       "      <th>4</th>\n",
       "      <td>5</td>\n",
       "      <td>1011995.25</td>\n",
       "      <td>13.827435</td>\n",
       "      <td>1</td>\n",
       "      <td>1011995.25</td>\n",
       "      <td>102.873900</td>\n",
       "      <td>25.392360</td>\n",
       "      <td>1</td>\n",
       "      <td>23.0</td>\n",
       "      <td>2.272738</td>\n",
       "      <td>-0.246663</td>\n",
       "      <td>-0.485263</td>\n",
       "      <td>0.557912</td>\n",
       "      <td>0.747362</td>\n",
       "      <td>-0.404735</td>\n",
       "      <td>0.012917</td>\n",
       "      <td>-0.262118</td>\n",
       "      <td>0.840807</td>\n",
       "      <td>1.027507</td>\n",
       "    </tr>\n",
       "  </tbody>\n",
       "</table>\n",
       "</div>"
      ],
      "text/plain": [
       "   id          pop     logpop  nbHF       adjpop   longitude   latitude  \\\n",
       "0   1   9087377.00  16.022397     1   9087377.00  114.291939  30.567514   \n",
       "1   2  10514420.00  16.168258     1  10514420.00  114.129100  22.653890   \n",
       "2   3  22972066.00  16.949790     1  22972066.00  121.455500  31.204500   \n",
       "3   4   2904529.50  14.881782     1   2904529.50  110.165400  21.100030   \n",
       "4   5   1011995.25  13.827435     1   1011995.25  102.873900  25.392360   \n",
       "\n",
       "   sampling  total_cases  adj_cases   Waccess    access  elevation   aridity  \\\n",
       "0         1       2639.0  29.040283 -4.396702 -2.685036  -1.767525  1.043890   \n",
       "1         1        140.0   1.331505 -1.013740 -1.744176  -1.470888  2.265500   \n",
       "2         1        121.0   0.526727 -1.423063 -2.456093  -2.095271  0.756405   \n",
       "3         1          9.0   0.309861 -0.764324 -2.039705  -1.917716  1.191654   \n",
       "4         1         23.0   2.272738 -0.246663 -0.485263   0.557912  0.747362   \n",
       "\n",
       "   irrigation       lst       pet     pop.1     urban  \n",
       "0   -0.404735 -1.308296 -0.033009  3.327757  2.880330  \n",
       "1    1.000357 -0.562087  0.482712  2.969388  2.730638  \n",
       "2    0.579926 -0.873084  0.194353  3.991484  3.653661  \n",
       "3    0.862389 -0.145458  1.005834  1.906079  1.568910  \n",
       "4   -0.404735  0.012917 -0.262118  0.840807  1.027507  "
      ]
     },
     "execution_count": 77,
     "metadata": {},
     "output_type": "execute_result"
    }
   ],
   "source": [
    "raw_data.head()"
   ]
  },
  {
   "cell_type": "code",
   "execution_count": 18,
   "metadata": {},
   "outputs": [],
   "source": [
    "sample_data = raw_data.drop(raw_data[raw_data.sampling == 0].index).dropna()"
   ]
  },
  {
   "cell_type": "code",
   "execution_count": 19,
   "metadata": {},
   "outputs": [
    {
     "data": {
      "text/plain": [
       "id             False\n",
       "pop            False\n",
       "logpop         False\n",
       "nbHF           False\n",
       "adjpop         False\n",
       "longitude      False\n",
       "latitude       False\n",
       "sampling       False\n",
       "total_cases    False\n",
       "adj_cases      False\n",
       "Waccess        False\n",
       "access         False\n",
       "elevation      False\n",
       "aridity        False\n",
       "irrigation     False\n",
       "lst            False\n",
       "pet            False\n",
       "pop.1          False\n",
       "urban          False\n",
       "dtype: bool"
      ]
     },
     "execution_count": 19,
     "metadata": {},
     "output_type": "execute_result"
    }
   ],
   "source": [
    "sample_data.isna().any()"
   ]
  },
  {
   "cell_type": "code",
   "execution_count": 20,
   "metadata": {},
   "outputs": [
    {
     "data": {
      "text/html": [
       "<div>\n",
       "<style scoped>\n",
       "    .dataframe tbody tr th:only-of-type {\n",
       "        vertical-align: middle;\n",
       "    }\n",
       "\n",
       "    .dataframe tbody tr th {\n",
       "        vertical-align: top;\n",
       "    }\n",
       "\n",
       "    .dataframe thead th {\n",
       "        text-align: right;\n",
       "    }\n",
       "</style>\n",
       "<table border=\"1\" class=\"dataframe\">\n",
       "  <thead>\n",
       "    <tr style=\"text-align: right;\">\n",
       "      <th></th>\n",
       "      <th>id</th>\n",
       "      <th>pop</th>\n",
       "      <th>logpop</th>\n",
       "      <th>nbHF</th>\n",
       "      <th>adjpop</th>\n",
       "      <th>longitude</th>\n",
       "      <th>latitude</th>\n",
       "      <th>sampling</th>\n",
       "      <th>total_cases</th>\n",
       "      <th>adj_cases</th>\n",
       "      <th>Waccess</th>\n",
       "      <th>access</th>\n",
       "      <th>elevation</th>\n",
       "      <th>aridity</th>\n",
       "      <th>irrigation</th>\n",
       "      <th>lst</th>\n",
       "      <th>pet</th>\n",
       "      <th>pop.1</th>\n",
       "      <th>urban</th>\n",
       "    </tr>\n",
       "  </thead>\n",
       "  <tbody>\n",
       "    <tr>\n",
       "      <th>0</th>\n",
       "      <td>1</td>\n",
       "      <td>9087377.00</td>\n",
       "      <td>16.022397</td>\n",
       "      <td>1</td>\n",
       "      <td>9087377.00</td>\n",
       "      <td>114.291939</td>\n",
       "      <td>30.567514</td>\n",
       "      <td>1</td>\n",
       "      <td>2639.0</td>\n",
       "      <td>29.040283</td>\n",
       "      <td>-4.396702</td>\n",
       "      <td>-2.685036</td>\n",
       "      <td>-1.767525</td>\n",
       "      <td>1.043890</td>\n",
       "      <td>-0.404735</td>\n",
       "      <td>-1.308296</td>\n",
       "      <td>-0.033009</td>\n",
       "      <td>3.327757</td>\n",
       "      <td>2.880330</td>\n",
       "    </tr>\n",
       "    <tr>\n",
       "      <th>1</th>\n",
       "      <td>2</td>\n",
       "      <td>10514420.00</td>\n",
       "      <td>16.168258</td>\n",
       "      <td>1</td>\n",
       "      <td>10514420.00</td>\n",
       "      <td>114.129100</td>\n",
       "      <td>22.653890</td>\n",
       "      <td>1</td>\n",
       "      <td>140.0</td>\n",
       "      <td>1.331505</td>\n",
       "      <td>-1.013740</td>\n",
       "      <td>-1.744176</td>\n",
       "      <td>-1.470888</td>\n",
       "      <td>2.265500</td>\n",
       "      <td>1.000357</td>\n",
       "      <td>-0.562087</td>\n",
       "      <td>0.482712</td>\n",
       "      <td>2.969388</td>\n",
       "      <td>2.730638</td>\n",
       "    </tr>\n",
       "    <tr>\n",
       "      <th>2</th>\n",
       "      <td>3</td>\n",
       "      <td>22972066.00</td>\n",
       "      <td>16.949790</td>\n",
       "      <td>1</td>\n",
       "      <td>22972066.00</td>\n",
       "      <td>121.455500</td>\n",
       "      <td>31.204500</td>\n",
       "      <td>1</td>\n",
       "      <td>121.0</td>\n",
       "      <td>0.526727</td>\n",
       "      <td>-1.423063</td>\n",
       "      <td>-2.456093</td>\n",
       "      <td>-2.095271</td>\n",
       "      <td>0.756405</td>\n",
       "      <td>0.579926</td>\n",
       "      <td>-0.873084</td>\n",
       "      <td>0.194353</td>\n",
       "      <td>3.991484</td>\n",
       "      <td>3.653661</td>\n",
       "    </tr>\n",
       "    <tr>\n",
       "      <th>3</th>\n",
       "      <td>4</td>\n",
       "      <td>2904529.50</td>\n",
       "      <td>14.881782</td>\n",
       "      <td>1</td>\n",
       "      <td>2904529.50</td>\n",
       "      <td>110.165400</td>\n",
       "      <td>21.100030</td>\n",
       "      <td>1</td>\n",
       "      <td>9.0</td>\n",
       "      <td>0.309861</td>\n",
       "      <td>-0.764324</td>\n",
       "      <td>-2.039705</td>\n",
       "      <td>-1.917716</td>\n",
       "      <td>1.191654</td>\n",
       "      <td>0.862389</td>\n",
       "      <td>-0.145458</td>\n",
       "      <td>1.005834</td>\n",
       "      <td>1.906079</td>\n",
       "      <td>1.568910</td>\n",
       "    </tr>\n",
       "    <tr>\n",
       "      <th>4</th>\n",
       "      <td>5</td>\n",
       "      <td>1011995.25</td>\n",
       "      <td>13.827435</td>\n",
       "      <td>1</td>\n",
       "      <td>1011995.25</td>\n",
       "      <td>102.873900</td>\n",
       "      <td>25.392360</td>\n",
       "      <td>1</td>\n",
       "      <td>23.0</td>\n",
       "      <td>2.272738</td>\n",
       "      <td>-0.246663</td>\n",
       "      <td>-0.485263</td>\n",
       "      <td>0.557912</td>\n",
       "      <td>0.747362</td>\n",
       "      <td>-0.404735</td>\n",
       "      <td>0.012917</td>\n",
       "      <td>-0.262118</td>\n",
       "      <td>0.840807</td>\n",
       "      <td>1.027507</td>\n",
       "    </tr>\n",
       "  </tbody>\n",
       "</table>\n",
       "</div>"
      ],
      "text/plain": [
       "   id          pop     logpop  nbHF       adjpop   longitude   latitude  \\\n",
       "0   1   9087377.00  16.022397     1   9087377.00  114.291939  30.567514   \n",
       "1   2  10514420.00  16.168258     1  10514420.00  114.129100  22.653890   \n",
       "2   3  22972066.00  16.949790     1  22972066.00  121.455500  31.204500   \n",
       "3   4   2904529.50  14.881782     1   2904529.50  110.165400  21.100030   \n",
       "4   5   1011995.25  13.827435     1   1011995.25  102.873900  25.392360   \n",
       "\n",
       "   sampling  total_cases  adj_cases   Waccess    access  elevation   aridity  \\\n",
       "0         1       2639.0  29.040283 -4.396702 -2.685036  -1.767525  1.043890   \n",
       "1         1        140.0   1.331505 -1.013740 -1.744176  -1.470888  2.265500   \n",
       "2         1        121.0   0.526727 -1.423063 -2.456093  -2.095271  0.756405   \n",
       "3         1          9.0   0.309861 -0.764324 -2.039705  -1.917716  1.191654   \n",
       "4         1         23.0   2.272738 -0.246663 -0.485263   0.557912  0.747362   \n",
       "\n",
       "   irrigation       lst       pet     pop.1     urban  \n",
       "0   -0.404735 -1.308296 -0.033009  3.327757  2.880330  \n",
       "1    1.000357 -0.562087  0.482712  2.969388  2.730638  \n",
       "2    0.579926 -0.873084  0.194353  3.991484  3.653661  \n",
       "3    0.862389 -0.145458  1.005834  1.906079  1.568910  \n",
       "4   -0.404735  0.012917 -0.262118  0.840807  1.027507  "
      ]
     },
     "execution_count": 20,
     "metadata": {},
     "output_type": "execute_result"
    }
   ],
   "source": [
    "sample_data.head()"
   ]
  },
  {
   "cell_type": "code",
   "execution_count": 21,
   "metadata": {},
   "outputs": [
    {
     "data": {
      "text/plain": [
       "count    1368.000000\n",
       "mean        6.150585\n",
       "std        74.538095\n",
       "min         0.000000\n",
       "25%         0.000000\n",
       "50%         0.000000\n",
       "75%         1.000000\n",
       "max      2639.000000\n",
       "Name: total_cases, dtype: float64"
      ]
     },
     "execution_count": 21,
     "metadata": {},
     "output_type": "execute_result"
    }
   ],
   "source": [
    "sample_data[\"total_cases\"].describe()"
   ]
  },
  {
   "cell_type": "code",
   "execution_count": 22,
   "metadata": {},
   "outputs": [],
   "source": [
    "total_cases_without_zero = sample_data.drop(sample_data[sample_data.total_cases == 0].index)[\"total_cases\"]"
   ]
  },
  {
   "cell_type": "code",
   "execution_count": 23,
   "metadata": {},
   "outputs": [
    {
     "data": {
      "text/plain": [
       "count     392.000000\n",
       "mean       21.464286\n",
       "std       138.184275\n",
       "min         1.000000\n",
       "25%         2.000000\n",
       "50%         5.000000\n",
       "75%        12.000000\n",
       "max      2639.000000\n",
       "Name: total_cases, dtype: float64"
      ]
     },
     "execution_count": 23,
     "metadata": {},
     "output_type": "execute_result"
    }
   ],
   "source": [
    "total_cases_without_zero.describe()"
   ]
  },
  {
   "cell_type": "code",
   "execution_count": 24,
   "metadata": {},
   "outputs": [
    {
     "data": {
      "text/plain": [
       "<matplotlib.axes._subplots.AxesSubplot at 0x124ce9290>"
      ]
     },
     "execution_count": 24,
     "metadata": {},
     "output_type": "execute_result"
    },
    {
     "data": {
      "image/png": "[encoded data removed]",
      "text/plain": [
       "<Figure size 432x288 with 1 Axes>"
      ]
     },
     "metadata": {
      "needs_background": "light"
     },
     "output_type": "display_data"
    }
   ],
   "source": [
    "total_cases_without_zero.plot.hist(bins=100, color=\"blue\")"
   ]
  },
  {
   "cell_type": "code",
   "execution_count": 25,
   "metadata": {},
   "outputs": [],
   "source": [
    "adjusted_cases_without_zero = sample_data.drop(sample_data[sample_data.adj_cases == 0].index)[\"adj_cases\"]"
   ]
  },
  {
   "cell_type": "code",
   "execution_count": 27,
   "metadata": {},
   "outputs": [
    {
     "data": {
      "text/plain": [
       "count    392.000000\n",
       "mean       1.100348\n",
       "std        3.487996\n",
       "min        0.014295\n",
       "25%        0.158160\n",
       "50%        0.361438\n",
       "75%        0.809970\n",
       "max       53.239361\n",
       "Name: adj_cases, dtype: float64"
      ]
     },
     "execution_count": 27,
     "metadata": {},
     "output_type": "execute_result"
    }
   ],
   "source": [
    "adjusted_cases_without_zero.describe()"
   ]
  },
  {
   "cell_type": "code",
   "execution_count": 28,
   "metadata": {},
   "outputs": [
    {
     "data": {
      "text/plain": [
       "<matplotlib.axes._subplots.AxesSubplot at 0x116ea2750>"
      ]
     },
     "execution_count": 28,
     "metadata": {},
     "output_type": "execute_result"
    },
    {
     "data": {
      "image/png": "[encoded data removed]",
      "text/plain": [
       "<Figure size 432x288 with 1 Axes>"
      ]
     },
     "metadata": {
      "needs_background": "light"
     },
     "output_type": "display_data"
    }
   ],
   "source": [
    "adjusted_cases_without_zero.plot.hist(bins=100)"
   ]
  },
  {
   "cell_type": "code",
   "execution_count": 29,
   "metadata": {},
   "outputs": [
    {
     "data": {
      "text/plain": [
       "(array([ 1.,  6., 25., 47., 55., 76., 67., 49., 30., 12., 10.,  9.,  3.,\n",
       "         1.,  1.]),\n",
       " array([-4.24786104, -3.69968377, -3.1515065 , -2.60332924, -2.05515197,\n",
       "        -1.5069747 , -0.95879743, -0.41062016,  0.13755711,  0.68573438,\n",
       "         1.23391164,  1.78208891,  2.33026618,  2.87844345,  3.42662072,\n",
       "         3.97479799]),\n",
       " <a list of 15 Patch objects>)"
      ]
     },
     "execution_count": 29,
     "metadata": {},
     "output_type": "execute_result"
    },
    {
     "data": {
      "image/png": "[encoded data removed]",
      "text/plain": [
       "<Figure size 432x288 with 1 Axes>"
      ]
     },
     "metadata": {
      "needs_background": "light"
     },
     "output_type": "display_data"
    }
   ],
   "source": [
    "# Logarithmic transformation of adjusted_cases_without_zero\n",
    "# it looks more like normal distribution\n",
    "plt.hist(np.log(adjusted_cases_without_zero), bins=15)"
   ]
  },
  {
   "cell_type": "code",
   "execution_count": 30,
   "metadata": {},
   "outputs": [],
   "source": [
    "scaler = MinMaxScaler()\n",
    "adjusted_cases_scaled = scaler.fit_transform(sample_data[[\"adj_cases\"]])"
   ]
  },
  {
   "cell_type": "code",
   "execution_count": 31,
   "metadata": {},
   "outputs": [
    {
     "name": "stdout",
     "output_type": "stream",
     "text": [
      "Min : 0.0\n",
      "Mean: 0.0059223927970386845\n",
      "1st Quantile: 0.0\n",
      "Median: 0.0\n",
      "3rd Quantile: 0.001859561858009653\n",
      "Max: 1.0\n"
     ]
    }
   ],
   "source": [
    "print(\"Min :\", adjusted_cases_scaled.min())\n",
    "print(\"Mean:\", adjusted_cases_scaled.mean())\n",
    "print(\"1st Quantile:\", np.quantile(adjusted_cases_scaled, 0.25))\n",
    "print(\"Median:\", np.median(adjusted_cases_scaled))\n",
    "print(\"3rd Quantile:\", np.quantile(adjusted_cases_scaled, 0.75))\n",
    "print(\"Max:\", adjusted_cases_scaled.max())"
   ]
  },
  {
   "cell_type": "code",
   "execution_count": 32,
   "metadata": {},
   "outputs": [
    {
     "data": {
      "text/plain": [
       "<matplotlib.axes._subplots.AxesSubplot at 0x1258bad50>"
      ]
     },
     "execution_count": 32,
     "metadata": {},
     "output_type": "execute_result"
    },
    {
     "data": {
      "image/png": "[encoded data removed]",
      "text/plain": [
       "<Figure size 432x288 with 1 Axes>"
      ]
     },
     "metadata": {
      "needs_background": "light"
     },
     "output_type": "display_data"
    }
   ],
   "source": [
    "sample_data[\"Waccess\"].plot.hist()"
   ]
  },
  {
   "cell_type": "code",
   "execution_count": 33,
   "metadata": {},
   "outputs": [
    {
     "data": {
      "text/plain": [
       "<matplotlib.axes._subplots.AxesSubplot at 0x1258c9650>"
      ]
     },
     "execution_count": 33,
     "metadata": {},
     "output_type": "execute_result"
    },
    {
     "data": {
      "image/png": "[encoded data removed]",
      "text/plain": [
       "<Figure size 432x288 with 1 Axes>"
      ]
     },
     "metadata": {
      "needs_background": "light"
     },
     "output_type": "display_data"
    }
   ],
   "source": [
    "sample_data[\"access\"].plot.hist()"
   ]
  },
  {
   "cell_type": "code",
   "execution_count": 34,
   "metadata": {},
   "outputs": [
    {
     "data": {
      "text/plain": [
       "<matplotlib.axes._subplots.AxesSubplot at 0x1258ae390>"
      ]
     },
     "execution_count": 34,
     "metadata": {},
     "output_type": "execute_result"
    },
    {
     "data": {
      "image/png": "[encoded data removed]",
      "text/plain": [
       "<Figure size 432x288 with 1 Axes>"
      ]
     },
     "metadata": {
      "needs_background": "light"
     },
     "output_type": "display_data"
    }
   ],
   "source": [
    "sample_data[\"elevation\"].plot.hist()"
   ]
  },
  {
   "cell_type": "code",
   "execution_count": 36,
   "metadata": {},
   "outputs": [
    {
     "data": {
      "text/plain": [
       "<matplotlib.axes._subplots.AxesSubplot at 0x121e5b810>"
      ]
     },
     "execution_count": 36,
     "metadata": {},
     "output_type": "execute_result"
    },
    {
     "data": {
      "image/png": "[encoded data removed]",
      "text/plain": [
       "<Figure size 432x288 with 1 Axes>"
      ]
     },
     "metadata": {
      "needs_background": "light"
     },
     "output_type": "display_data"
    }
   ],
   "source": [
    "sample_data[\"aridity\"].plot.hist()"
   ]
  },
  {
   "cell_type": "code",
   "execution_count": 37,
   "metadata": {},
   "outputs": [
    {
     "data": {
      "text/plain": [
       "<matplotlib.axes._subplots.AxesSubplot at 0x121f4de50>"
      ]
     },
     "execution_count": 37,
     "metadata": {},
     "output_type": "execute_result"
    },
    {
     "data": {
      "image/png": "[encoded data removed]",
      "text/plain": [
       "<Figure size 432x288 with 1 Axes>"
      ]
     },
     "metadata": {
      "needs_background": "light"
     },
     "output_type": "display_data"
    }
   ],
   "source": [
    "sample_data[\"lst\"].plot.hist()"
   ]
  },
  {
   "cell_type": "code",
   "execution_count": 38,
   "metadata": {},
   "outputs": [
    {
     "data": {
      "text/plain": [
       "<matplotlib.axes._subplots.AxesSubplot at 0x125a799d0>"
      ]
     },
     "execution_count": 38,
     "metadata": {},
     "output_type": "execute_result"
    },
    {
     "data": {
      "image/png": "[encoded data removed]",
      "text/plain": [
       "<Figure size 432x288 with 1 Axes>"
      ]
     },
     "metadata": {
      "needs_background": "light"
     },
     "output_type": "display_data"
    }
   ],
   "source": [
    "sample_data[\"pet\"].plot.hist()"
   ]
  },
  {
   "cell_type": "code",
   "execution_count": 39,
   "metadata": {},
   "outputs": [
    {
     "data": {
      "text/plain": [
       "<matplotlib.axes._subplots.AxesSubplot at 0x125b54150>"
      ]
     },
     "execution_count": 39,
     "metadata": {},
     "output_type": "execute_result"
    },
    {
     "data": {
      "image/png": "[encoded data removed]",
      "text/plain": [
       "<Figure size 432x288 with 1 Axes>"
      ]
     },
     "metadata": {
      "needs_background": "light"
     },
     "output_type": "display_data"
    }
   ],
   "source": [
    "sample_data[\"pop.1\"].plot.hist()"
   ]
  },
  {
   "cell_type": "code",
   "execution_count": 40,
   "metadata": {},
   "outputs": [
    {
     "data": {
      "text/plain": [
       "<matplotlib.axes._subplots.AxesSubplot at 0x125c5e390>"
      ]
     },
     "execution_count": 40,
     "metadata": {},
     "output_type": "execute_result"
    },
    {
     "data": {
      "image/png": "[encoded data removed]",
      "text/plain": [
       "<Figure size 432x288 with 1 Axes>"
      ]
     },
     "metadata": {
      "needs_background": "light"
     },
     "output_type": "display_data"
    }
   ],
   "source": [
    "sample_data[\"urban\"].plot.hist()"
   ]
  },
  {
   "cell_type": "code",
   "execution_count": 41,
   "metadata": {},
   "outputs": [
    {
     "data": {
      "text/plain": [
       "<matplotlib.axes._subplots.AxesSubplot at 0x125d47e10>"
      ]
     },
     "execution_count": 41,
     "metadata": {},
     "output_type": "execute_result"
    },
    {
     "data": {
      "image/png": "[encoded data removed]",
      "text/plain": [
       "<Figure size 432x288 with 1 Axes>"
      ]
     },
     "metadata": {
      "needs_background": "light"
     },
     "output_type": "display_data"
    }
   ],
   "source": [
    "# \"adjpop\" column is the same as \"pop\" column\n",
    "sample_data[\"adjpop\"].plot.hist()"
   ]
  },
  {
   "cell_type": "code",
   "execution_count": 42,
   "metadata": {},
   "outputs": [
    {
     "data": {
      "text/plain": [
       "nbHF\n",
       "1    1356\n",
       "2       7\n",
       "Name: id, dtype: int64"
      ]
     },
     "execution_count": 42,
     "metadata": {},
     "output_type": "execute_result"
    }
   ],
   "source": [
    "sample_data.groupby(\"nbHF\")[\"id\"].nunique()"
   ]
  },
  {
   "cell_type": "code",
   "execution_count": null,
   "metadata": {},
   "outputs": [],
   "source": []
  }
 ],
 "metadata": {
  "kernelspec": {
   "display_name": "Python 3.7.5 64-bit ('Spatio-Temporal-Deep-Learning-Model-For-Coronavirus-Cases': pipenv)",
   "language": "python",
   "name": "python37564bitspatiotemporaldeeplearningmodelforcoronaviruscasespipenv0ec514e155bd4d18ba9ff2a22a88a501"
  },
  "language_info": {
   "codemirror_mode": {
    "name": "ipython",
    "version": 3
   },
   "file_extension": ".py",
   "mimetype": "text/x-python",
   "name": "python",
   "nbconvert_exporter": "python",
   "pygments_lexer": "ipython3",
   "version": "3.7.5"
  }
 },
 "nbformat": 4,
 "nbformat_minor": 2
}
