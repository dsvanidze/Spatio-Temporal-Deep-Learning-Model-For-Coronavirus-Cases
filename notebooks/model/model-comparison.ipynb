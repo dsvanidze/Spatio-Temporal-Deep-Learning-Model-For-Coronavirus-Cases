{
 "cells": [
  {
   "cell_type": "code",
   "execution_count": 1,
   "metadata": {},
   "outputs": [],
   "source": [
    "import tensorflow as tf\n",
    "import numpy as np\n",
    "import matplotlib\n",
    "import matplotlib.pyplot as plt\n",
    "import pandas as pd\n",
    "from sklearn.metrics import mean_squared_error, mean_absolute_error, r2_score\n",
    "from utils import ROOT_DIR, get_data\n",
    "from joblib import load\n",
    "\n",
    "%load_ext autoreload\n",
    "%autoreload 2\n",
    "\n",
    "%matplotlib inline"
   ]
  },
  {
   "cell_type": "code",
   "execution_count": 2,
   "metadata": {},
   "outputs": [],
   "source": [
    "X_train, Y_train, X_validation, Y_validation, X_test, Y_test = get_data()"
   ]
  },
  {
   "cell_type": "code",
   "execution_count": 3,
   "metadata": {},
   "outputs": [],
   "source": [
    "data = {\n",
    "    \"training\": (X_train, Y_train),\n",
    "    \"validation\": (X_validation, Y_validation),\n",
    "    \"test\": (X_test, Y_test)\n",
    "}"
   ]
  },
  {
   "cell_type": "code",
   "execution_count": 4,
   "metadata": {},
   "outputs": [],
   "source": [
    "sets = {\n",
    "    \"training\": None,\n",
    "    \"validation\": None,\n",
    "    \"test\": None\n",
    "}"
   ]
  },
  {
   "cell_type": "code",
   "execution_count": 5,
   "metadata": {},
   "outputs": [],
   "source": [
    "description = {\n",
    "    \"model\": None,\n",
    "    \"predictions\": {**sets},\n",
    "    \"rmse\": {**sets},\n",
    "    \"mae\": {**sets},\n",
    "    \"R2\": {**sets}\n",
    "}"
   ]
  },
  {
   "cell_type": "code",
   "execution_count": 6,
   "metadata": {},
   "outputs": [],
   "source": [
    "models = {\n",
    "    \"MLP0\": {**description},\n",
    "    \"MLP1\": {**description},\n",
    "    \"MLP2\": {**description}\n",
    "}"
   ]
  },
  {
   "cell_type": "code",
   "execution_count": 7,
   "metadata": {},
   "outputs": [],
   "source": [
    "models[\"MLP0\"][\"model\"] = tf.keras.models.load_model(ROOT_DIR + \"/best-models/mlp/hidden-layers-0\")\n",
    "models[\"MLP1\"][\"model\"] = tf.keras.models.load_model(ROOT_DIR + \"/best-models/mlp/hidden-layers-1\")\n",
    "models[\"MLP2\"][\"model\"] = tf.keras.models.load_model(ROOT_DIR + \"/best-models/mlp/hidden-layers-2\")"
   ]
  },
  {
   "cell_type": "code",
   "execution_count": 8,
   "metadata": {},
   "outputs": [],
   "source": [
    "rmseDf = pd.DataFrame(index=[model_key for model_key, _ in models.items()])"
   ]
  },
  {
   "cell_type": "code",
   "execution_count": 9,
   "metadata": {},
   "outputs": [],
   "source": [
    "maeDf = pd.DataFrame(index=[model_key for model_key, _ in models.items()])"
   ]
  },
  {
   "cell_type": "code",
   "execution_count": 10,
   "metadata": {},
   "outputs": [],
   "source": [
    "R2Df = pd.DataFrame(index=[model_key for model_key, _ in models.items()])"
   ]
  },
  {
   "cell_type": "code",
   "execution_count": 11,
   "metadata": {},
   "outputs": [],
   "source": [
    "for model_key, model_description in models.items():\n",
    "    for set_key, set_value in model_description[\"predictions\"].items():\n",
    "        model_description[\"predictions\"][set_key] = model_description[\"model\"].predict(data[set_key][0]).reshape(-1)\n",
    "        model_description[\"rmse\"][set_key] = np.sqrt(mean_squared_error(data[set_key][1], model_description[\"predictions\"][set_key]))\n",
    "        model_description[\"mae\"][set_key] = mean_absolute_error(data[set_key][1], model_description[\"predictions\"][set_key])\n",
    "        model_description[\"R2\"][set_key] = r2_score(data[set_key][1], model_description[\"predictions\"][set_key])\n",
    "        \n",
    "        rmseDf.loc[model_key, set_key] = model_description[\"rmse\"][set_key]\n",
    "        maeDf.loc[model_key, set_key] = model_description[\"mae\"][set_key]\n",
    "        R2Df.loc[model_key, set_key] = model_description[\"R2\"][set_key]"
   ]
  },
  {
   "cell_type": "code",
   "execution_count": 12,
   "metadata": {},
   "outputs": [
    {
     "name": "stdout",
     "output_type": "stream",
     "text": [
      "\\begin{table}\n",
      "\\centering\n",
      "\\caption{RMSE metric of models for training/validation/test sets}\n",
      "\\label{tab:rmse-metrics}\n",
      "\\begin{tabular}{lrrr}\n",
      "\\toprule\n",
      "{} & training & validation & test \\\\\n",
      "\\midrule\n",
      "MLP0 &     0.70 &       0.68 & 0.66 \\\\\n",
      "MLP1 &     0.63 &       0.62 & 0.63 \\\\\n",
      "MLP2 &     0.68 &       0.63 & 0.66 \\\\\n",
      "\\bottomrule\n",
      "\\end{tabular}\n",
      "\\end{table}\n",
      "\n"
     ]
    }
   ],
   "source": [
    "print(rmseDf.to_latex(caption=\"RMSE metric of models for training/validation/test sets\",\n",
    "                      label=\"tab:rmse-metrics\",\n",
    "                      formatters=[\"{:0.2f}\".format, \"{:0.2f}\".format, \"{:0.2f}\".format]))"
   ]
  },
  {
   "cell_type": "code",
   "execution_count": 13,
   "metadata": {},
   "outputs": [
    {
     "name": "stdout",
     "output_type": "stream",
     "text": [
      "\\begin{table}\n",
      "\\centering\n",
      "\\caption{MAE metric of models for training/validation/test sets}\n",
      "\\label{tab:mae-metrics}\n",
      "\\begin{tabular}{lrrr}\n",
      "\\toprule\n",
      "{} & training & validation & test \\\\\n",
      "\\midrule\n",
      "MLP0 &     0.45 &       0.45 & 0.45 \\\\\n",
      "MLP1 &     0.39 &       0.40 & 0.40 \\\\\n",
      "MLP2 &     0.41 &       0.42 & 0.43 \\\\\n",
      "\\bottomrule\n",
      "\\end{tabular}\n",
      "\\end{table}\n",
      "\n"
     ]
    }
   ],
   "source": [
    "print(maeDf.to_latex(caption=\"MAE metric of models for training/validation/test sets\",\n",
    "                     label=\"tab:mae-metrics\",\n",
    "                     formatters=[\"{:0.2f}\".format, \"{:0.2f}\".format, \"{:0.2f}\".format]))"
   ]
  },
  {
   "cell_type": "code",
   "execution_count": 14,
   "metadata": {},
   "outputs": [
    {
     "name": "stdout",
     "output_type": "stream",
     "text": [
      "\\begin{table}\n",
      "\\centering\n",
      "\\caption{R2 metric of models for training/validation/test sets}\n",
      "\\label{tab:r2-metrics}\n",
      "\\begin{tabular}{lrrr}\n",
      "\\toprule\n",
      "{} & training & validation &  test \\\\\n",
      "\\midrule\n",
      "MLP0 &    0.227 &      0.111 & 0.242 \\\\\n",
      "MLP1 &    0.361 &      0.279 & 0.321 \\\\\n",
      "MLP2 &    0.271 &      0.239 & 0.255 \\\\\n",
      "\\bottomrule\n",
      "\\end{tabular}\n",
      "\\end{table}\n",
      "\n"
     ]
    }
   ],
   "source": [
    "print(R2Df.to_latex(caption=\"R2 metric of models for training/validation/test sets\",\n",
    "                             label=\"tab:r2-metrics\",\n",
    "                             formatters=[\"{:0.3f}\".format, \"{:0.3f}\".format, \"{:0.3f}\".format]))"
   ]
  },
  {
   "cell_type": "code",
   "execution_count": null,
   "metadata": {},
   "outputs": [],
   "source": []
  }
 ],
 "metadata": {
  "kernelspec": {
   "display_name": "Python 3",
   "language": "python",
   "name": "python3"
  },
  "language_info": {
   "codemirror_mode": {
    "name": "ipython",
    "version": 3
   },
   "file_extension": ".py",
   "mimetype": "text/x-python",
   "name": "python",
   "nbconvert_exporter": "python",
   "pygments_lexer": "ipython3",
   "version": "3.7.10"
  }
 },
 "nbformat": 4,
 "nbformat_minor": 4
}
