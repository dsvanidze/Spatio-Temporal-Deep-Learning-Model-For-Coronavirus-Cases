{
 "cells": [
  {
   "cell_type": "code",
   "execution_count": 1,
   "metadata": {},
   "outputs": [],
   "source": [
    "import matplotlib.pyplot as plt\n",
    "from sklearn.preprocessing import StandardScaler\n",
    "import pandas as pd\n",
    "import numpy as np\n",
    "\n",
    "%load_ext autoreload\n",
    "%autoreload 2\n",
    "\n",
    "%matplotlib inline"
   ]
  },
  {
   "cell_type": "markdown",
   "metadata": {},
   "source": [
    "# Description of Variables"
   ]
  },
  {
   "cell_type": "markdown",
   "metadata": {},
   "source": [
    " **Variable name** | **Description**                                                                                                                                                                            \n",
    ":-------------------|:--------------------------------------------------------------------------------------------------------------------------------------------------------------------------------------------\n",
    " LONG | longitude (geographic coordinate)\n",
    " LAT | latitude (geographic coordinate)\n",
    " ACCESS | travel time to the nearest city with a population of more than 50,000\n",
    " PET | represents humidity by potential evapotranspiration, which measures the potential amount of evaporation.\n",
    " POP | population size provided by WorldPop\n",
    " URBAN | urbanity Global Urban Footprint data\n",
    " WACCESS | travel time from a location in China to Wuhan\n",
    " IR | COVID-19 incidence rate per 100,000 population (Jan-Mar 2020)"
   ]
  },
  {
   "cell_type": "markdown",
   "metadata": {},
   "source": [
    "# Load data"
   ]
  },
  {
   "cell_type": "code",
   "execution_count": 2,
   "metadata": {},
   "outputs": [],
   "source": [
    "# save all different datas in the \"data\" dictionary\n",
    "data = {}\n",
    "data[\"all\"] = pd.read_csv(\"../../data/csvs/data.csv\", index_col=\"index\")\n",
    "data[\"train\"] = pd.read_csv(\"../../data/csvs/split/train.csv\", index_col=\"index\")\n",
    "data[\"validation\"] = pd.read_csv(\"../../data/csvs/split/validation.csv\", index_col=\"index\")\n",
    "data[\"test\"] = pd.read_csv(\"../../data/csvs/split/test.csv\", index_col=\"index\")"
   ]
  },
  {
   "cell_type": "code",
   "execution_count": 3,
   "metadata": {},
   "outputs": [
    {
     "data": {
      "text/html": [
       "<div>\n",
       "<style scoped>\n",
       "    .dataframe tbody tr th:only-of-type {\n",
       "        vertical-align: middle;\n",
       "    }\n",
       "\n",
       "    .dataframe tbody tr th {\n",
       "        vertical-align: top;\n",
       "    }\n",
       "\n",
       "    .dataframe thead th {\n",
       "        text-align: right;\n",
       "    }\n",
       "</style>\n",
       "<table border=\"1\" class=\"dataframe\">\n",
       "  <thead>\n",
       "    <tr style=\"text-align: right;\">\n",
       "      <th></th>\n",
       "      <th>LONG</th>\n",
       "      <th>LAT</th>\n",
       "      <th>ACCESS</th>\n",
       "      <th>PET</th>\n",
       "      <th>POP</th>\n",
       "      <th>URBAN</th>\n",
       "      <th>WACCESS</th>\n",
       "      <th>IR</th>\n",
       "    </tr>\n",
       "  </thead>\n",
       "  <tbody>\n",
       "    <tr>\n",
       "      <th>count</th>\n",
       "      <td>812.000000</td>\n",
       "      <td>812.000000</td>\n",
       "      <td>812.000000</td>\n",
       "      <td>812.000000</td>\n",
       "      <td>812.000000</td>\n",
       "      <td>812.000000</td>\n",
       "      <td>812.000000</td>\n",
       "      <td>812.000000</td>\n",
       "    </tr>\n",
       "    <tr>\n",
       "      <th>mean</th>\n",
       "      <td>107.498655</td>\n",
       "      <td>33.592855</td>\n",
       "      <td>-0.481589</td>\n",
       "      <td>0.118251</td>\n",
       "      <td>0.672332</td>\n",
       "      <td>0.788644</td>\n",
       "      <td>-0.429321</td>\n",
       "      <td>2.076445</td>\n",
       "    </tr>\n",
       "    <tr>\n",
       "      <th>std</th>\n",
       "      <td>12.152613</td>\n",
       "      <td>6.278269</td>\n",
       "      <td>1.409672</td>\n",
       "      <td>0.781895</td>\n",
       "      <td>1.576832</td>\n",
       "      <td>1.164337</td>\n",
       "      <td>1.106955</td>\n",
       "      <td>6.757308</td>\n",
       "    </tr>\n",
       "    <tr>\n",
       "      <th>min</th>\n",
       "      <td>78.270833</td>\n",
       "      <td>18.291870</td>\n",
       "      <td>-3.487341</td>\n",
       "      <td>-2.363020</td>\n",
       "      <td>-1.974678</td>\n",
       "      <td>-0.482502</td>\n",
       "      <td>-3.676348</td>\n",
       "      <td>0.000000</td>\n",
       "    </tr>\n",
       "    <tr>\n",
       "      <th>25%</th>\n",
       "      <td>101.395833</td>\n",
       "      <td>29.521206</td>\n",
       "      <td>-1.493258</td>\n",
       "      <td>-0.399133</td>\n",
       "      <td>-0.216299</td>\n",
       "      <td>-0.482502</td>\n",
       "      <td>-1.127073</td>\n",
       "      <td>0.066021</td>\n",
       "    </tr>\n",
       "    <tr>\n",
       "      <th>50%</th>\n",
       "      <td>109.904050</td>\n",
       "      <td>34.279290</td>\n",
       "      <td>-0.734903</td>\n",
       "      <td>0.173306</td>\n",
       "      <td>0.907536</td>\n",
       "      <td>0.798634</td>\n",
       "      <td>-0.720350</td>\n",
       "      <td>0.398705</td>\n",
       "    </tr>\n",
       "    <tr>\n",
       "      <th>75%</th>\n",
       "      <td>116.805175</td>\n",
       "      <td>37.645833</td>\n",
       "      <td>0.301102</td>\n",
       "      <td>0.575787</td>\n",
       "      <td>1.758941</td>\n",
       "      <td>1.581750</td>\n",
       "      <td>0.308398</td>\n",
       "      <td>1.300860</td>\n",
       "    </tr>\n",
       "    <tr>\n",
       "      <th>max</th>\n",
       "      <td>132.546400</td>\n",
       "      <td>49.717850</td>\n",
       "      <td>3.444752</td>\n",
       "      <td>2.789949</td>\n",
       "      <td>4.630500</td>\n",
       "      <td>4.335167</td>\n",
       "      <td>2.691532</td>\n",
       "      <td>131.926332</td>\n",
       "    </tr>\n",
       "  </tbody>\n",
       "</table>\n",
       "</div>"
      ],
      "text/plain": [
       "             LONG         LAT      ACCESS         PET         POP       URBAN  \\\n",
       "count  812.000000  812.000000  812.000000  812.000000  812.000000  812.000000   \n",
       "mean   107.498655   33.592855   -0.481589    0.118251    0.672332    0.788644   \n",
       "std     12.152613    6.278269    1.409672    0.781895    1.576832    1.164337   \n",
       "min     78.270833   18.291870   -3.487341   -2.363020   -1.974678   -0.482502   \n",
       "25%    101.395833   29.521206   -1.493258   -0.399133   -0.216299   -0.482502   \n",
       "50%    109.904050   34.279290   -0.734903    0.173306    0.907536    0.798634   \n",
       "75%    116.805175   37.645833    0.301102    0.575787    1.758941    1.581750   \n",
       "max    132.546400   49.717850    3.444752    2.789949    4.630500    4.335167   \n",
       "\n",
       "          WACCESS          IR  \n",
       "count  812.000000  812.000000  \n",
       "mean    -0.429321    2.076445  \n",
       "std      1.106955    6.757308  \n",
       "min     -3.676348    0.000000  \n",
       "25%     -1.127073    0.066021  \n",
       "50%     -0.720350    0.398705  \n",
       "75%      0.308398    1.300860  \n",
       "max      2.691532  131.926332  "
      ]
     },
     "execution_count": 3,
     "metadata": {},
     "output_type": "execute_result"
    }
   ],
   "source": [
    "data[\"all\"].describe()"
   ]
  },
  {
   "cell_type": "code",
   "execution_count": 4,
   "metadata": {},
   "outputs": [
    {
     "data": {
      "text/html": [
       "<div>\n",
       "<style scoped>\n",
       "    .dataframe tbody tr th:only-of-type {\n",
       "        vertical-align: middle;\n",
       "    }\n",
       "\n",
       "    .dataframe tbody tr th {\n",
       "        vertical-align: top;\n",
       "    }\n",
       "\n",
       "    .dataframe thead th {\n",
       "        text-align: right;\n",
       "    }\n",
       "</style>\n",
       "<table border=\"1\" class=\"dataframe\">\n",
       "  <thead>\n",
       "    <tr style=\"text-align: right;\">\n",
       "      <th></th>\n",
       "      <th>LONG</th>\n",
       "      <th>LAT</th>\n",
       "      <th>ACCESS</th>\n",
       "      <th>PET</th>\n",
       "      <th>POP</th>\n",
       "      <th>URBAN</th>\n",
       "      <th>WACCESS</th>\n",
       "      <th>IR</th>\n",
       "    </tr>\n",
       "  </thead>\n",
       "  <tbody>\n",
       "    <tr>\n",
       "      <th>count</th>\n",
       "      <td>486.000000</td>\n",
       "      <td>486.000000</td>\n",
       "      <td>486.000000</td>\n",
       "      <td>486.000000</td>\n",
       "      <td>486.000000</td>\n",
       "      <td>486.000000</td>\n",
       "      <td>486.000000</td>\n",
       "      <td>486.000000</td>\n",
       "    </tr>\n",
       "    <tr>\n",
       "      <th>mean</th>\n",
       "      <td>107.333542</td>\n",
       "      <td>33.334829</td>\n",
       "      <td>-0.458511</td>\n",
       "      <td>0.101652</td>\n",
       "      <td>0.650811</td>\n",
       "      <td>0.746911</td>\n",
       "      <td>-0.404931</td>\n",
       "      <td>2.259466</td>\n",
       "    </tr>\n",
       "    <tr>\n",
       "      <th>std</th>\n",
       "      <td>12.091811</td>\n",
       "      <td>6.383834</td>\n",
       "      <td>1.392855</td>\n",
       "      <td>0.770563</td>\n",
       "      <td>1.549964</td>\n",
       "      <td>1.137909</td>\n",
       "      <td>1.138657</td>\n",
       "      <td>7.892628</td>\n",
       "    </tr>\n",
       "    <tr>\n",
       "      <th>min</th>\n",
       "      <td>80.770833</td>\n",
       "      <td>18.291870</td>\n",
       "      <td>-3.381524</td>\n",
       "      <td>-2.093094</td>\n",
       "      <td>-1.974678</td>\n",
       "      <td>-0.482502</td>\n",
       "      <td>-3.676348</td>\n",
       "      <td>0.000000</td>\n",
       "    </tr>\n",
       "    <tr>\n",
       "      <th>25%</th>\n",
       "      <td>100.890008</td>\n",
       "      <td>29.383835</td>\n",
       "      <td>-1.447162</td>\n",
       "      <td>-0.401803</td>\n",
       "      <td>-0.203643</td>\n",
       "      <td>-0.482502</td>\n",
       "      <td>-1.088198</td>\n",
       "      <td>0.072634</td>\n",
       "    </tr>\n",
       "    <tr>\n",
       "      <th>50%</th>\n",
       "      <td>109.843950</td>\n",
       "      <td>33.895833</td>\n",
       "      <td>-0.723060</td>\n",
       "      <td>0.180719</td>\n",
       "      <td>0.863445</td>\n",
       "      <td>0.746613</td>\n",
       "      <td>-0.721923</td>\n",
       "      <td>0.397232</td>\n",
       "    </tr>\n",
       "    <tr>\n",
       "      <th>75%</th>\n",
       "      <td>116.733800</td>\n",
       "      <td>37.211770</td>\n",
       "      <td>0.281303</td>\n",
       "      <td>0.535925</td>\n",
       "      <td>1.681246</td>\n",
       "      <td>1.523399</td>\n",
       "      <td>0.339266</td>\n",
       "      <td>1.308119</td>\n",
       "    </tr>\n",
       "    <tr>\n",
       "      <th>max</th>\n",
       "      <td>132.289900</td>\n",
       "      <td>49.532410</td>\n",
       "      <td>3.166352</td>\n",
       "      <td>2.525440</td>\n",
       "      <td>4.630500</td>\n",
       "      <td>4.335167</td>\n",
       "      <td>2.691532</td>\n",
       "      <td>131.926332</td>\n",
       "    </tr>\n",
       "  </tbody>\n",
       "</table>\n",
       "</div>"
      ],
      "text/plain": [
       "             LONG         LAT      ACCESS         PET         POP       URBAN  \\\n",
       "count  486.000000  486.000000  486.000000  486.000000  486.000000  486.000000   \n",
       "mean   107.333542   33.334829   -0.458511    0.101652    0.650811    0.746911   \n",
       "std     12.091811    6.383834    1.392855    0.770563    1.549964    1.137909   \n",
       "min     80.770833   18.291870   -3.381524   -2.093094   -1.974678   -0.482502   \n",
       "25%    100.890008   29.383835   -1.447162   -0.401803   -0.203643   -0.482502   \n",
       "50%    109.843950   33.895833   -0.723060    0.180719    0.863445    0.746613   \n",
       "75%    116.733800   37.211770    0.281303    0.535925    1.681246    1.523399   \n",
       "max    132.289900   49.532410    3.166352    2.525440    4.630500    4.335167   \n",
       "\n",
       "          WACCESS          IR  \n",
       "count  486.000000  486.000000  \n",
       "mean    -0.404931    2.259466  \n",
       "std      1.138657    7.892628  \n",
       "min     -3.676348    0.000000  \n",
       "25%     -1.088198    0.072634  \n",
       "50%     -0.721923    0.397232  \n",
       "75%      0.339266    1.308119  \n",
       "max      2.691532  131.926332  "
      ]
     },
     "execution_count": 4,
     "metadata": {},
     "output_type": "execute_result"
    }
   ],
   "source": [
    "data[\"train\"].describe()"
   ]
  },
  {
   "cell_type": "code",
   "execution_count": 5,
   "metadata": {},
   "outputs": [
    {
     "data": {
      "text/html": [
       "<div>\n",
       "<style scoped>\n",
       "    .dataframe tbody tr th:only-of-type {\n",
       "        vertical-align: middle;\n",
       "    }\n",
       "\n",
       "    .dataframe tbody tr th {\n",
       "        vertical-align: top;\n",
       "    }\n",
       "\n",
       "    .dataframe thead th {\n",
       "        text-align: right;\n",
       "    }\n",
       "</style>\n",
       "<table border=\"1\" class=\"dataframe\">\n",
       "  <thead>\n",
       "    <tr style=\"text-align: right;\">\n",
       "      <th></th>\n",
       "      <th>LONG</th>\n",
       "      <th>LAT</th>\n",
       "      <th>ACCESS</th>\n",
       "      <th>PET</th>\n",
       "      <th>POP</th>\n",
       "      <th>URBAN</th>\n",
       "      <th>WACCESS</th>\n",
       "      <th>IR</th>\n",
       "    </tr>\n",
       "  </thead>\n",
       "  <tbody>\n",
       "    <tr>\n",
       "      <th>count</th>\n",
       "      <td>163.000000</td>\n",
       "      <td>163.000000</td>\n",
       "      <td>163.000000</td>\n",
       "      <td>163.000000</td>\n",
       "      <td>163.000000</td>\n",
       "      <td>163.000000</td>\n",
       "      <td>163.000000</td>\n",
       "      <td>163.000000</td>\n",
       "    </tr>\n",
       "    <tr>\n",
       "      <th>mean</th>\n",
       "      <td>106.823773</td>\n",
       "      <td>34.330778</td>\n",
       "      <td>-0.455611</td>\n",
       "      <td>0.163046</td>\n",
       "      <td>0.646382</td>\n",
       "      <td>0.797787</td>\n",
       "      <td>-0.420652</td>\n",
       "      <td>1.630725</td>\n",
       "    </tr>\n",
       "    <tr>\n",
       "      <th>std</th>\n",
       "      <td>12.278211</td>\n",
       "      <td>5.897800</td>\n",
       "      <td>1.482040</td>\n",
       "      <td>0.814312</td>\n",
       "      <td>1.685130</td>\n",
       "      <td>1.237451</td>\n",
       "      <td>1.020641</td>\n",
       "      <td>4.080371</td>\n",
       "    </tr>\n",
       "    <tr>\n",
       "      <th>min</th>\n",
       "      <td>78.270833</td>\n",
       "      <td>19.209590</td>\n",
       "      <td>-3.384312</td>\n",
       "      <td>-2.363020</td>\n",
       "      <td>-1.974678</td>\n",
       "      <td>-0.482502</td>\n",
       "      <td>-2.770429</td>\n",
       "      <td>0.000000</td>\n",
       "    </tr>\n",
       "    <tr>\n",
       "      <th>25%</th>\n",
       "      <td>97.645833</td>\n",
       "      <td>30.333725</td>\n",
       "      <td>-1.579963</td>\n",
       "      <td>-0.370660</td>\n",
       "      <td>-1.255968</td>\n",
       "      <td>-0.482502</td>\n",
       "      <td>-1.109135</td>\n",
       "      <td>0.000000</td>\n",
       "    </tr>\n",
       "    <tr>\n",
       "      <th>50%</th>\n",
       "      <td>109.088900</td>\n",
       "      <td>35.122740</td>\n",
       "      <td>-0.677350</td>\n",
       "      <td>0.215293</td>\n",
       "      <td>0.861038</td>\n",
       "      <td>0.791722</td>\n",
       "      <td>-0.622328</td>\n",
       "      <td>0.317974</td>\n",
       "    </tr>\n",
       "    <tr>\n",
       "      <th>75%</th>\n",
       "      <td>116.503600</td>\n",
       "      <td>37.905630</td>\n",
       "      <td>0.364501</td>\n",
       "      <td>0.661350</td>\n",
       "      <td>1.928181</td>\n",
       "      <td>1.751216</td>\n",
       "      <td>0.377328</td>\n",
       "      <td>1.256455</td>\n",
       "    </tr>\n",
       "    <tr>\n",
       "      <th>max</th>\n",
       "      <td>132.546400</td>\n",
       "      <td>47.708940</td>\n",
       "      <td>3.045997</td>\n",
       "      <td>2.633544</td>\n",
       "      <td>4.630500</td>\n",
       "      <td>3.792246</td>\n",
       "      <td>2.558269</td>\n",
       "      <td>31.741818</td>\n",
       "    </tr>\n",
       "  </tbody>\n",
       "</table>\n",
       "</div>"
      ],
      "text/plain": [
       "             LONG         LAT      ACCESS         PET         POP       URBAN  \\\n",
       "count  163.000000  163.000000  163.000000  163.000000  163.000000  163.000000   \n",
       "mean   106.823773   34.330778   -0.455611    0.163046    0.646382    0.797787   \n",
       "std     12.278211    5.897800    1.482040    0.814312    1.685130    1.237451   \n",
       "min     78.270833   19.209590   -3.384312   -2.363020   -1.974678   -0.482502   \n",
       "25%     97.645833   30.333725   -1.579963   -0.370660   -1.255968   -0.482502   \n",
       "50%    109.088900   35.122740   -0.677350    0.215293    0.861038    0.791722   \n",
       "75%    116.503600   37.905630    0.364501    0.661350    1.928181    1.751216   \n",
       "max    132.546400   47.708940    3.045997    2.633544    4.630500    3.792246   \n",
       "\n",
       "          WACCESS          IR  \n",
       "count  163.000000  163.000000  \n",
       "mean    -0.420652    1.630725  \n",
       "std      1.020641    4.080371  \n",
       "min     -2.770429    0.000000  \n",
       "25%     -1.109135    0.000000  \n",
       "50%     -0.622328    0.317974  \n",
       "75%      0.377328    1.256455  \n",
       "max      2.558269   31.741818  "
      ]
     },
     "execution_count": 5,
     "metadata": {},
     "output_type": "execute_result"
    }
   ],
   "source": [
    "data[\"validation\"].describe()"
   ]
  },
  {
   "cell_type": "code",
   "execution_count": 6,
   "metadata": {},
   "outputs": [
    {
     "data": {
      "text/html": [
       "<div>\n",
       "<style scoped>\n",
       "    .dataframe tbody tr th:only-of-type {\n",
       "        vertical-align: middle;\n",
       "    }\n",
       "\n",
       "    .dataframe tbody tr th {\n",
       "        vertical-align: top;\n",
       "    }\n",
       "\n",
       "    .dataframe thead th {\n",
       "        text-align: right;\n",
       "    }\n",
       "</style>\n",
       "<table border=\"1\" class=\"dataframe\">\n",
       "  <thead>\n",
       "    <tr style=\"text-align: right;\">\n",
       "      <th></th>\n",
       "      <th>LONG</th>\n",
       "      <th>LAT</th>\n",
       "      <th>ACCESS</th>\n",
       "      <th>PET</th>\n",
       "      <th>POP</th>\n",
       "      <th>URBAN</th>\n",
       "      <th>WACCESS</th>\n",
       "      <th>IR</th>\n",
       "    </tr>\n",
       "  </thead>\n",
       "  <tbody>\n",
       "    <tr>\n",
       "      <th>count</th>\n",
       "      <td>163.000000</td>\n",
       "      <td>163.000000</td>\n",
       "      <td>163.000000</td>\n",
       "      <td>163.000000</td>\n",
       "      <td>163.000000</td>\n",
       "      <td>163.000000</td>\n",
       "      <td>163.000000</td>\n",
       "      <td>163.000000</td>\n",
       "    </tr>\n",
       "    <tr>\n",
       "      <th>mean</th>\n",
       "      <td>108.665838</td>\n",
       "      <td>33.624262</td>\n",
       "      <td>-0.576376</td>\n",
       "      <td>0.122948</td>\n",
       "      <td>0.762446</td>\n",
       "      <td>0.903931</td>\n",
       "      <td>-0.510710</td>\n",
       "      <td>1.976469</td>\n",
       "    </tr>\n",
       "    <tr>\n",
       "      <th>std</th>\n",
       "      <td>12.204232</td>\n",
       "      <td>6.307577</td>\n",
       "      <td>1.390045</td>\n",
       "      <td>0.785473</td>\n",
       "      <td>1.550839</td>\n",
       "      <td>1.166314</td>\n",
       "      <td>1.096568</td>\n",
       "      <td>5.013168</td>\n",
       "    </tr>\n",
       "    <tr>\n",
       "      <th>min</th>\n",
       "      <td>82.645833</td>\n",
       "      <td>18.594640</td>\n",
       "      <td>-3.487341</td>\n",
       "      <td>-1.500463</td>\n",
       "      <td>-1.974678</td>\n",
       "      <td>-0.482502</td>\n",
       "      <td>-2.755293</td>\n",
       "      <td>0.000000</td>\n",
       "    </tr>\n",
       "    <tr>\n",
       "      <th>25%</th>\n",
       "      <td>102.877317</td>\n",
       "      <td>29.557917</td>\n",
       "      <td>-1.603309</td>\n",
       "      <td>-0.426510</td>\n",
       "      <td>0.213310</td>\n",
       "      <td>-0.482502</td>\n",
       "      <td>-1.226813</td>\n",
       "      <td>0.121099</td>\n",
       "    </tr>\n",
       "    <tr>\n",
       "      <th>50%</th>\n",
       "      <td>111.908300</td>\n",
       "      <td>34.289740</td>\n",
       "      <td>-0.840667</td>\n",
       "      <td>0.137118</td>\n",
       "      <td>1.039619</td>\n",
       "      <td>0.972623</td>\n",
       "      <td>-0.780356</td>\n",
       "      <td>0.432079</td>\n",
       "    </tr>\n",
       "    <tr>\n",
       "      <th>75%</th>\n",
       "      <td>117.817200</td>\n",
       "      <td>37.573972</td>\n",
       "      <td>0.207781</td>\n",
       "      <td>0.553703</td>\n",
       "      <td>1.765649</td>\n",
       "      <td>1.570941</td>\n",
       "      <td>0.098358</td>\n",
       "      <td>1.323638</td>\n",
       "    </tr>\n",
       "    <tr>\n",
       "      <th>max</th>\n",
       "      <td>129.457900</td>\n",
       "      <td>49.717850</td>\n",
       "      <td>3.444752</td>\n",
       "      <td>2.789949</td>\n",
       "      <td>3.991484</td>\n",
       "      <td>3.653661</td>\n",
       "      <td>2.670783</td>\n",
       "      <td>38.558924</td>\n",
       "    </tr>\n",
       "  </tbody>\n",
       "</table>\n",
       "</div>"
      ],
      "text/plain": [
       "             LONG         LAT      ACCESS         PET         POP       URBAN  \\\n",
       "count  163.000000  163.000000  163.000000  163.000000  163.000000  163.000000   \n",
       "mean   108.665838   33.624262   -0.576376    0.122948    0.762446    0.903931   \n",
       "std     12.204232    6.307577    1.390045    0.785473    1.550839    1.166314   \n",
       "min     82.645833   18.594640   -3.487341   -1.500463   -1.974678   -0.482502   \n",
       "25%    102.877317   29.557917   -1.603309   -0.426510    0.213310   -0.482502   \n",
       "50%    111.908300   34.289740   -0.840667    0.137118    1.039619    0.972623   \n",
       "75%    117.817200   37.573972    0.207781    0.553703    1.765649    1.570941   \n",
       "max    129.457900   49.717850    3.444752    2.789949    3.991484    3.653661   \n",
       "\n",
       "          WACCESS          IR  \n",
       "count  163.000000  163.000000  \n",
       "mean    -0.510710    1.976469  \n",
       "std      1.096568    5.013168  \n",
       "min     -2.755293    0.000000  \n",
       "25%     -1.226813    0.121099  \n",
       "50%     -0.780356    0.432079  \n",
       "75%      0.098358    1.323638  \n",
       "max      2.670783   38.558924  "
      ]
     },
     "execution_count": 6,
     "metadata": {},
     "output_type": "execute_result"
    }
   ],
   "source": [
    "data[\"test\"].describe()"
   ]
  },
  {
   "cell_type": "markdown",
   "metadata": {},
   "source": [
    "# Plot and explore each variable"
   ]
  },
  {
   "cell_type": "code",
   "execution_count": 7,
   "metadata": {},
   "outputs": [
    {
     "data": {
      "text/plain": [
       "<AxesSubplot:ylabel='Frequency'>"
      ]
     },
     "execution_count": 7,
     "metadata": {},
     "output_type": "execute_result"
    },
    {
     "data": {
      "image/png": "[encoded data removed]",
      "text/plain": [
       "<Figure size 432x288 with 1 Axes>"
      ]
     },
     "metadata": {
      "needs_background": "light"
     },
     "output_type": "display_data"
    }
   ],
   "source": [
    "data[\"all\"][\"LONG\"].plot.hist()"
   ]
  },
  {
   "cell_type": "code",
   "execution_count": 8,
   "metadata": {},
   "outputs": [
    {
     "data": {
      "text/plain": [
       "<AxesSubplot:ylabel='Frequency'>"
      ]
     },
     "execution_count": 8,
     "metadata": {},
     "output_type": "execute_result"
    },
    {
     "data": {
      "image/png": "[encoded data removed]",
      "text/plain": [
       "<Figure size 432x288 with 1 Axes>"
      ]
     },
     "metadata": {
      "needs_background": "light"
     },
     "output_type": "display_data"
    }
   ],
   "source": [
    "data[\"all\"][\"LAT\"].plot.hist()"
   ]
  },
  {
   "cell_type": "code",
   "execution_count": 9,
   "metadata": {},
   "outputs": [
    {
     "data": {
      "text/plain": [
       "<AxesSubplot:ylabel='Frequency'>"
      ]
     },
     "execution_count": 9,
     "metadata": {},
     "output_type": "execute_result"
    },
    {
     "data": {
      "image/png": "[encoded data removed]",
      "text/plain": [
       "<Figure size 432x288 with 1 Axes>"
      ]
     },
     "metadata": {
      "needs_background": "light"
     },
     "output_type": "display_data"
    }
   ],
   "source": [
    "data[\"all\"][\"ACCESS\"].plot.hist()"
   ]
  },
  {
   "cell_type": "code",
   "execution_count": 10,
   "metadata": {
    "scrolled": true
   },
   "outputs": [
    {
     "data": {
      "text/plain": [
       "<AxesSubplot:ylabel='Frequency'>"
      ]
     },
     "execution_count": 10,
     "metadata": {},
     "output_type": "execute_result"
    },
    {
     "data": {
      "image/png": "[encoded data removed]",
      "text/plain": [
       "<Figure size 432x288 with 1 Axes>"
      ]
     },
     "metadata": {
      "needs_background": "light"
     },
     "output_type": "display_data"
    }
   ],
   "source": [
    "data[\"all\"][\"PET\"].plot.hist()"
   ]
  },
  {
   "cell_type": "code",
   "execution_count": 11,
   "metadata": {},
   "outputs": [
    {
     "data": {
      "text/plain": [
       "<AxesSubplot:ylabel='Frequency'>"
      ]
     },
     "execution_count": 11,
     "metadata": {},
     "output_type": "execute_result"
    },
    {
     "data": {
      "image/png": "[encoded data removed]",
      "text/plain": [
       "<Figure size 432x288 with 1 Axes>"
      ]
     },
     "metadata": {
      "needs_background": "light"
     },
     "output_type": "display_data"
    }
   ],
   "source": [
    "data[\"all\"][\"POP\"].plot.hist()"
   ]
  },
  {
   "cell_type": "code",
   "execution_count": 12,
   "metadata": {},
   "outputs": [
    {
     "data": {
      "text/plain": [
       "<AxesSubplot:ylabel='Frequency'>"
      ]
     },
     "execution_count": 12,
     "metadata": {},
     "output_type": "execute_result"
    },
    {
     "data": {
      "image/png": "[encoded data removed]",
      "text/plain": [
       "<Figure size 432x288 with 1 Axes>"
      ]
     },
     "metadata": {
      "needs_background": "light"
     },
     "output_type": "display_data"
    }
   ],
   "source": [
    "data[\"all\"][\"URBAN\"].plot.hist()"
   ]
  },
  {
   "cell_type": "code",
   "execution_count": 13,
   "metadata": {},
   "outputs": [
    {
     "data": {
      "text/plain": [
       "<AxesSubplot:ylabel='Frequency'>"
      ]
     },
     "execution_count": 13,
     "metadata": {},
     "output_type": "execute_result"
    },
    {
     "data": {
      "image/png": "[encoded data removed]",
      "text/plain": [
       "<Figure size 432x288 with 1 Axes>"
      ]
     },
     "metadata": {
      "needs_background": "light"
     },
     "output_type": "display_data"
    }
   ],
   "source": [
    "data[\"all\"][\"WACCESS\"].plot.hist()"
   ]
  },
  {
   "cell_type": "code",
   "execution_count": 14,
   "metadata": {},
   "outputs": [
    {
     "data": {
      "text/plain": [
       "<AxesSubplot:ylabel='Frequency'>"
      ]
     },
     "execution_count": 14,
     "metadata": {},
     "output_type": "execute_result"
    },
    {
     "data": {
      "image/png": "[encoded data removed]",
      "text/plain": [
       "<Figure size 432x288 with 1 Axes>"
      ]
     },
     "metadata": {
      "needs_background": "light"
     },
     "output_type": "display_data"
    }
   ],
   "source": [
    "data[\"all\"][\"IR\"].plot.hist()"
   ]
  },
  {
   "cell_type": "markdown",
   "metadata": {},
   "source": [
    "# Standardise and normalise data"
   ]
  },
  {
   "cell_type": "code",
   "execution_count": 15,
   "metadata": {},
   "outputs": [],
   "source": [
    "data_scaled = data[\"all\"].copy()"
   ]
  },
  {
   "cell_type": "code",
   "execution_count": 16,
   "metadata": {},
   "outputs": [
    {
     "data": {
      "text/plain": [
       "<AxesSubplot:ylabel='Frequency'>"
      ]
     },
     "execution_count": 16,
     "metadata": {},
     "output_type": "execute_result"
    },
    {
     "data": {
      "image/png": "[encoded data removed]",
      "text/plain": [
       "<Figure size 432x288 with 1 Axes>"
      ]
     },
     "metadata": {
      "needs_background": "light"
     },
     "output_type": "display_data"
    }
   ],
   "source": [
    "data_scaled[\"longitude\"] = data[\"all\"][\"LONG\"] / 180\n",
    "data_scaled[\"longitude\"].plot.hist()"
   ]
  },
  {
   "cell_type": "code",
   "execution_count": 17,
   "metadata": {},
   "outputs": [
    {
     "data": {
      "text/plain": [
       "<AxesSubplot:ylabel='Frequency'>"
      ]
     },
     "execution_count": 17,
     "metadata": {},
     "output_type": "execute_result"
    },
    {
     "data": {
      "image/png": "[encoded data removed]",
      "text/plain": [
       "<Figure size 432x288 with 1 Axes>"
      ]
     },
     "metadata": {
      "needs_background": "light"
     },
     "output_type": "display_data"
    }
   ],
   "source": [
    "data_scaled[\"latitude\"] = data[\"all\"][\"LAT\"] / 90\n",
    "data_scaled[\"latitude\"].plot.hist()"
   ]
  },
  {
   "cell_type": "code",
   "execution_count": 18,
   "metadata": {},
   "outputs": [
    {
     "data": {
      "text/plain": [
       "<AxesSubplot:ylabel='Frequency'>"
      ]
     },
     "execution_count": 18,
     "metadata": {},
     "output_type": "execute_result"
    },
    {
     "data": {
      "image/png": "[encoded data removed]",
      "text/plain": [
       "<Figure size 432x288 with 1 Axes>"
      ]
     },
     "metadata": {
      "needs_background": "light"
     },
     "output_type": "display_data"
    }
   ],
   "source": [
    "data_scaled[\"adj_cases\"] = np.log(data[\"all\"][\"IR\"] + 1)\n",
    "data_scaled[\"adj_cases\"].plot.hist()"
   ]
  },
  {
   "cell_type": "code",
   "execution_count": null,
   "metadata": {},
   "outputs": [],
   "source": []
  }
 ],
 "metadata": {
  "kernelspec": {
   "display_name": "Python 3",
   "language": "python",
   "name": "python3"
  },
  "language_info": {
   "codemirror_mode": {
    "name": "ipython",
    "version": 3
   },
   "file_extension": ".py",
   "mimetype": "text/x-python",
   "name": "python",
   "nbconvert_exporter": "python",
   "pygments_lexer": "ipython3",
   "version": "3.7.8"
  }
 },
 "nbformat": 4,
 "nbformat_minor": 4
}
