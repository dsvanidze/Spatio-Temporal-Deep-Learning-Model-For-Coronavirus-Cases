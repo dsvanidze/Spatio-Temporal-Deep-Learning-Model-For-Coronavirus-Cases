{
 "cells": [
  {
   "cell_type": "code",
   "execution_count": 3,
   "metadata": {},
   "outputs": [
    {
     "output_type": "stream",
     "name": "stdout",
     "text": "Hello World\n"
    }
   ],
   "source": [
    "print(\"Hello World\")"
   ]
  }
 ],
 "metadata": {
  "language_info": {
   "codemirror_mode": {
    "name": "ipython",
    "version": 3
   },
   "file_extension": ".py",
   "mimetype": "text/x-python",
   "name": "python",
   "nbconvert_exporter": "python",
   "pygments_lexer": "ipython3",
   "version": "3.7.5-final"
  },
  "orig_nbformat": 2,
  "kernelspec": {
   "name": "python37564bitspatiotemporaldeeplearningmodelforcoronaviruscasespipenv0ec514e155bd4d18ba9ff2a22a88a501",
   "display_name": "Python 3.7.5 64-bit ('Spatio-Temporal-Deep-Learning-Model-For-Coronavirus-Cases': pipenv)"
  }
 },
 "nbformat": 4,
 "nbformat_minor": 2
}