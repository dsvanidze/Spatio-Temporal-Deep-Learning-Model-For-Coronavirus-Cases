{
 "cells": [
  {
   "cell_type": "code",
   "execution_count": 1,
   "metadata": {},
   "outputs": [],
   "source": [
    "import rasterio\n",
    "import rasterio.plot\n",
    "import numpy as np\n",
    "import matplotlib\n",
    "import matplotlib.pyplot as plt\n",
    "import pandas as pd"
   ]
  },
  {
   "cell_type": "code",
   "execution_count": 2,
   "metadata": {},
   "outputs": [],
   "source": [
    "def get_lon_lat_coordinates(filepath=\"../../data/features/pop.tif\"):\n",
    "    # Code comes from http://xarray.pydata.org/en/v0.10.0/auto_gallery/plot_rasterio.html\n",
    "    import numpy as np\n",
    "    import xarray as xr\n",
    "    from rasterio.warp import transform\n",
    "    \n",
    "    # Read the data\n",
    "    da = xr.open_rasterio(filepath)\n",
    "\n",
    "    # Compute the lon/lat coordinates with rasterio.warp.transform\n",
    "    ny, nx = len(da['y']), len(da['x'])\n",
    "    x, y = np.meshgrid(da['x'], da['y'])\n",
    "\n",
    "    # Rasterio works with 1D arrays\n",
    "    lon, lat = transform(da.crs, {'init': 'EPSG:4326'},\n",
    "                         x.flatten(), y.flatten())\n",
    "\n",
    "    lon = np.asarray(lon).reshape((ny, nx))\n",
    "    lat = np.asarray(lat).reshape((ny, nx))\n",
    "    \n",
    "    # arrays with with shapes (849, 1469)\n",
    "    return lon, lat\n",
    "    #da.coords['lon'] = (('y', 'x'), lon)\n",
    "    #da.coords['lat'] = (('y', 'x'), lat)"
   ]
  },
  {
   "cell_type": "code",
   "execution_count": 3,
   "metadata": {},
   "outputs": [],
   "source": [
    "def get_featureData():\n",
    "    featureData = pd.DataFrame()\n",
    "    featureTifs = [\"access\", \"pet\", \"pop\", \"urban\", \"W_access\"]\n",
    "    shape = (849, 1469)\n",
    "    # Initiliase\n",
    "    raster_na_value = None\n",
    "\n",
    "    # get longitude and latitude\n",
    "    lon, lat = get_lon_lat_coordinates(\"../../data/features/{}.tif\".format(featureTifs[0]))\n",
    "    lon_1d_array = lon.reshape(-1)\n",
    "    lat_1d_array = lat.reshape(-1)\n",
    "    featureData[\"longitude\"] = lon_1d_array\n",
    "    featureData[\"latitude\"] = lat_1d_array\n",
    "\n",
    "    for feature in featureTifs:\n",
    "        filepath = \"../../data/features/{}.tif\".format(feature)\n",
    "        # read raster data band1 from the .tif file\n",
    "        rasterOpen = rasterio.open(filepath)\n",
    "        rasterData = rasterOpen.read(1)\n",
    "        rasterData_1d_array = rasterData.reshape(-1)\n",
    "        featureData[feature] = rasterData_1d_array\n",
    "\n",
    "        # raster data defines -3.4e+38 as the value, when data is missing\n",
    "        raster_na_value = np.float32(rasterOpen.nodatavals[0])\n",
    "        rasterOpen.close()\n",
    "    \n",
    "    return featureData, raster_na_value, shape"
   ]
  },
  {
   "cell_type": "code",
   "execution_count": 4,
   "metadata": {},
   "outputs": [],
   "source": [
    "featureData, raster_na_value, shape = get_featureData()"
   ]
  },
  {
   "cell_type": "code",
   "execution_count": 5,
   "metadata": {},
   "outputs": [],
   "source": [
    "#featureData.to_csv(\"../../data/features/features.csv\", index=True, index_label=\"index\", na_rep=\"NA\")"
   ]
  },
  {
   "cell_type": "code",
   "execution_count": 6,
   "metadata": {},
   "outputs": [],
   "source": [
    "cleanedFeatureData = featureData.replace(raster_na_value,np.NaN).dropna()"
   ]
  },
  {
   "cell_type": "code",
   "execution_count": 7,
   "metadata": {},
   "outputs": [],
   "source": [
    "#cleanedFeatureData.to_csv(\"../../data/features/cleaned-features.csv\", index=True, index_label=\"index\", na_rep=\"NA\")"
   ]
  },
  {
   "cell_type": "code",
   "execution_count": 8,
   "metadata": {},
   "outputs": [],
   "source": [
    "def get_predictions(data):\n",
    "    import tensorflow as tf\n",
    "    model = tf.keras.models.load_model(\"../../best-models/two-hidden-layers\")\n",
    "    \n",
    "    # Normalize data as \n",
    "    data = cleanedFeatureData.copy()\n",
    "    data[\"longitude\"] = data[\"longitude\"] / 180\n",
    "    data[\"latitude\"] = data[\"latitude\"] / 90\n",
    "    \n",
    "    predictions = model.predict(data.values, batch_size=32)\n",
    "    return predictions"
   ]
  },
  {
   "cell_type": "code",
   "execution_count": 9,
   "metadata": {},
   "outputs": [],
   "source": [
    "predictions = get_predictions(cleanedFeatureData)"
   ]
  },
  {
   "cell_type": "code",
   "execution_count": 10,
   "metadata": {},
   "outputs": [
    {
     "data": {
      "text/plain": [
       "array([[0.6315159 ],\n",
       "       [0.64335734],\n",
       "       [0.68598884],\n",
       "       ...,\n",
       "       [0.9166327 ],\n",
       "       [0.69203144],\n",
       "       [0.8945213 ]], dtype=float32)"
      ]
     },
     "execution_count": 10,
     "metadata": {},
     "output_type": "execute_result"
    }
   ],
   "source": [
    "predictions"
   ]
  },
  {
   "cell_type": "code",
   "execution_count": 11,
   "metadata": {},
   "outputs": [],
   "source": [
    "adj_cases = np.exp(predictions.reshape(-1))-1"
   ]
  },
  {
   "cell_type": "code",
   "execution_count": 12,
   "metadata": {},
   "outputs": [
    {
     "data": {
      "text/plain": [
       "-0.55169773"
      ]
     },
     "execution_count": 12,
     "metadata": {},
     "output_type": "execute_result"
    }
   ],
   "source": [
    "np.min(adj_cases)"
   ]
  },
  {
   "cell_type": "code",
   "execution_count": 13,
   "metadata": {},
   "outputs": [],
   "source": [
    "# replace predicted negative values with zeros\n",
    "adj_cases_non_negative = adj_cases.copy()\n",
    "adj_cases_non_negative[adj_cases_non_negative < 0] = 0"
   ]
  },
  {
   "cell_type": "code",
   "execution_count": 203,
   "metadata": {},
   "outputs": [],
   "source": [
    "cleanedFeatureData[\"adj_cases\"] = adj_cases_non_negative"
   ]
  },
  {
   "cell_type": "code",
   "execution_count": 17,
   "metadata": {},
   "outputs": [
    {
     "data": {
      "text/plain": [
       "0.0"
      ]
     },
     "execution_count": 17,
     "metadata": {},
     "output_type": "execute_result"
    }
   ],
   "source": [
    "np.min(adj_cases_non_negative)"
   ]
  },
  {
   "cell_type": "code",
   "execution_count": 205,
   "metadata": {},
   "outputs": [
    {
     "data": {
      "text/html": [
       "<div>\n",
       "<style scoped>\n",
       "    .dataframe tbody tr th:only-of-type {\n",
       "        vertical-align: middle;\n",
       "    }\n",
       "\n",
       "    .dataframe tbody tr th {\n",
       "        vertical-align: top;\n",
       "    }\n",
       "\n",
       "    .dataframe thead th {\n",
       "        text-align: right;\n",
       "    }\n",
       "</style>\n",
       "<table border=\"1\" class=\"dataframe\">\n",
       "  <thead>\n",
       "    <tr style=\"text-align: right;\">\n",
       "      <th></th>\n",
       "      <th>longitude</th>\n",
       "      <th>latitude</th>\n",
       "      <th>access</th>\n",
       "      <th>pet</th>\n",
       "      <th>pop</th>\n",
       "      <th>urban</th>\n",
       "      <th>W_access</th>\n",
       "      <th>adj_cases</th>\n",
       "    </tr>\n",
       "  </thead>\n",
       "  <tbody>\n",
       "    <tr>\n",
       "      <th>1192</th>\n",
       "      <td>123.270833</td>\n",
       "      <td>53.562500</td>\n",
       "      <td>0.202180</td>\n",
       "      <td>-1.555513</td>\n",
       "      <td>-0.626523</td>\n",
       "      <td>-0.482502</td>\n",
       "      <td>0.567165</td>\n",
       "      <td>0.880459</td>\n",
       "    </tr>\n",
       "    <tr>\n",
       "      <th>1193</th>\n",
       "      <td>123.312500</td>\n",
       "      <td>53.562500</td>\n",
       "      <td>0.179225</td>\n",
       "      <td>-1.547939</td>\n",
       "      <td>-0.682925</td>\n",
       "      <td>-0.482502</td>\n",
       "      <td>0.564734</td>\n",
       "      <td>0.902859</td>\n",
       "    </tr>\n",
       "    <tr>\n",
       "      <th>1194</th>\n",
       "      <td>123.354167</td>\n",
       "      <td>53.562500</td>\n",
       "      <td>-0.046382</td>\n",
       "      <td>-1.541605</td>\n",
       "      <td>-0.708398</td>\n",
       "      <td>-0.482502</td>\n",
       "      <td>0.563129</td>\n",
       "      <td>0.985734</td>\n",
       "    </tr>\n",
       "    <tr>\n",
       "      <th>2656</th>\n",
       "      <td>123.062500</td>\n",
       "      <td>53.520833</td>\n",
       "      <td>0.315960</td>\n",
       "      <td>-1.572818</td>\n",
       "      <td>-0.577570</td>\n",
       "      <td>0.778462</td>\n",
       "      <td>0.571596</td>\n",
       "      <td>0.000000</td>\n",
       "    </tr>\n",
       "    <tr>\n",
       "      <th>2657</th>\n",
       "      <td>123.104167</td>\n",
       "      <td>53.520833</td>\n",
       "      <td>0.297046</td>\n",
       "      <td>-1.566935</td>\n",
       "      <td>-0.683404</td>\n",
       "      <td>-0.482502</td>\n",
       "      <td>0.570844</td>\n",
       "      <td>0.862802</td>\n",
       "    </tr>\n",
       "  </tbody>\n",
       "</table>\n",
       "</div>"
      ],
      "text/plain": [
       "       longitude   latitude    access       pet       pop     urban  W_access  \\\n",
       "1192  123.270833  53.562500  0.202180 -1.555513 -0.626523 -0.482502  0.567165   \n",
       "1193  123.312500  53.562500  0.179225 -1.547939 -0.682925 -0.482502  0.564734   \n",
       "1194  123.354167  53.562500 -0.046382 -1.541605 -0.708398 -0.482502  0.563129   \n",
       "2656  123.062500  53.520833  0.315960 -1.572818 -0.577570  0.778462  0.571596   \n",
       "2657  123.104167  53.520833  0.297046 -1.566935 -0.683404 -0.482502  0.570844   \n",
       "\n",
       "      adj_cases  \n",
       "1192   0.880459  \n",
       "1193   0.902859  \n",
       "1194   0.985734  \n",
       "2656   0.000000  \n",
       "2657   0.862802  "
      ]
     },
     "execution_count": 205,
     "metadata": {},
     "output_type": "execute_result"
    }
   ],
   "source": [
    "cleanedFeatureData.head()"
   ]
  },
  {
   "cell_type": "code",
   "execution_count": 206,
   "metadata": {},
   "outputs": [],
   "source": [
    "featureData[\"adj_cases\"] = raster_na_value"
   ]
  },
  {
   "cell_type": "code",
   "execution_count": 208,
   "metadata": {},
   "outputs": [],
   "source": [
    "featureData.loc[cleanedFeatureData.index, \"adj_cases\"] = cleanedFeatureData[\"adj_cases\"]\n",
    "#featureData = featureData.fillna(raster_na_value)"
   ]
  },
  {
   "cell_type": "code",
   "execution_count": 210,
   "metadata": {},
   "outputs": [
    {
     "data": {
      "text/html": [
       "<div>\n",
       "<style scoped>\n",
       "    .dataframe tbody tr th:only-of-type {\n",
       "        vertical-align: middle;\n",
       "    }\n",
       "\n",
       "    .dataframe tbody tr th {\n",
       "        vertical-align: top;\n",
       "    }\n",
       "\n",
       "    .dataframe thead th {\n",
       "        text-align: right;\n",
       "    }\n",
       "</style>\n",
       "<table border=\"1\" class=\"dataframe\">\n",
       "  <thead>\n",
       "    <tr style=\"text-align: right;\">\n",
       "      <th></th>\n",
       "      <th>longitude</th>\n",
       "      <th>latitude</th>\n",
       "      <th>access</th>\n",
       "      <th>pet</th>\n",
       "      <th>pop</th>\n",
       "      <th>urban</th>\n",
       "      <th>W_access</th>\n",
       "      <th>adj_cases</th>\n",
       "    </tr>\n",
       "  </thead>\n",
       "  <tbody>\n",
       "    <tr>\n",
       "      <th>count</th>\n",
       "      <td>1.247181e+06</td>\n",
       "      <td>1.247181e+06</td>\n",
       "      <td>1.247181e+06</td>\n",
       "      <td>1.247181e+06</td>\n",
       "      <td>1.247181e+06</td>\n",
       "      <td>1.247181e+06</td>\n",
       "      <td>1.247181e+06</td>\n",
       "      <td>1.247181e+06</td>\n",
       "    </tr>\n",
       "    <tr>\n",
       "      <th>mean</th>\n",
       "      <td>1.041875e+02</td>\n",
       "      <td>3.589583e+01</td>\n",
       "      <td>-inf</td>\n",
       "      <td>-inf</td>\n",
       "      <td>-inf</td>\n",
       "      <td>-inf</td>\n",
       "      <td>-inf</td>\n",
       "      <td>-inf</td>\n",
       "    </tr>\n",
       "    <tr>\n",
       "      <th>std</th>\n",
       "      <td>1.766933e+01</td>\n",
       "      <td>1.021188e+01</td>\n",
       "      <td>inf</td>\n",
       "      <td>inf</td>\n",
       "      <td>inf</td>\n",
       "      <td>inf</td>\n",
       "      <td>inf</td>\n",
       "      <td>inf</td>\n",
       "    </tr>\n",
       "    <tr>\n",
       "      <th>min</th>\n",
       "      <td>7.360417e+01</td>\n",
       "      <td>1.822917e+01</td>\n",
       "      <td>-3.400000e+38</td>\n",
       "      <td>-3.400000e+38</td>\n",
       "      <td>-3.400000e+38</td>\n",
       "      <td>-3.400000e+38</td>\n",
       "      <td>-3.400000e+38</td>\n",
       "      <td>-3.400000e+38</td>\n",
       "    </tr>\n",
       "    <tr>\n",
       "      <th>25%</th>\n",
       "      <td>8.889583e+01</td>\n",
       "      <td>2.706250e+01</td>\n",
       "      <td>-3.400000e+38</td>\n",
       "      <td>-3.400000e+38</td>\n",
       "      <td>-3.400000e+38</td>\n",
       "      <td>-3.400000e+38</td>\n",
       "      <td>-3.400000e+38</td>\n",
       "      <td>-3.400000e+38</td>\n",
       "    </tr>\n",
       "    <tr>\n",
       "      <th>50%</th>\n",
       "      <td>1.041875e+02</td>\n",
       "      <td>3.589583e+01</td>\n",
       "      <td>-3.400000e+38</td>\n",
       "      <td>-3.400000e+38</td>\n",
       "      <td>-3.400000e+38</td>\n",
       "      <td>-3.400000e+38</td>\n",
       "      <td>-3.400000e+38</td>\n",
       "      <td>-3.400000e+38</td>\n",
       "    </tr>\n",
       "    <tr>\n",
       "      <th>75%</th>\n",
       "      <td>1.194792e+02</td>\n",
       "      <td>4.472917e+01</td>\n",
       "      <td>-1.701949e-01</td>\n",
       "      <td>-1.702280e-01</td>\n",
       "      <td>-1.730415e-01</td>\n",
       "      <td>-4.825017e-01</td>\n",
       "      <td>-1.699138e-01</td>\n",
       "      <td>9.473325e-01</td>\n",
       "    </tr>\n",
       "    <tr>\n",
       "      <th>max</th>\n",
       "      <td>1.347708e+02</td>\n",
       "      <td>5.356250e+01</td>\n",
       "      <td>4.630908e+00</td>\n",
       "      <td>4.630910e+00</td>\n",
       "      <td>4.630500e+00</td>\n",
       "      <td>4.630875e+00</td>\n",
       "      <td>4.630948e+00</td>\n",
       "      <td>5.002286e+01</td>\n",
       "    </tr>\n",
       "  </tbody>\n",
       "</table>\n",
       "</div>"
      ],
      "text/plain": [
       "          longitude      latitude        access           pet           pop  \\\n",
       "count  1.247181e+06  1.247181e+06  1.247181e+06  1.247181e+06  1.247181e+06   \n",
       "mean   1.041875e+02  3.589583e+01          -inf          -inf          -inf   \n",
       "std    1.766933e+01  1.021188e+01           inf           inf           inf   \n",
       "min    7.360417e+01  1.822917e+01 -3.400000e+38 -3.400000e+38 -3.400000e+38   \n",
       "25%    8.889583e+01  2.706250e+01 -3.400000e+38 -3.400000e+38 -3.400000e+38   \n",
       "50%    1.041875e+02  3.589583e+01 -3.400000e+38 -3.400000e+38 -3.400000e+38   \n",
       "75%    1.194792e+02  4.472917e+01 -1.701949e-01 -1.702280e-01 -1.730415e-01   \n",
       "max    1.347708e+02  5.356250e+01  4.630908e+00  4.630910e+00  4.630500e+00   \n",
       "\n",
       "              urban      W_access     adj_cases  \n",
       "count  1.247181e+06  1.247181e+06  1.247181e+06  \n",
       "mean           -inf          -inf          -inf  \n",
       "std             inf           inf           inf  \n",
       "min   -3.400000e+38 -3.400000e+38 -3.400000e+38  \n",
       "25%   -3.400000e+38 -3.400000e+38 -3.400000e+38  \n",
       "50%   -3.400000e+38 -3.400000e+38 -3.400000e+38  \n",
       "75%   -4.825017e-01 -1.699138e-01  9.473325e-01  \n",
       "max    4.630875e+00  4.630948e+00  5.002286e+01  "
      ]
     },
     "execution_count": 210,
     "metadata": {},
     "output_type": "execute_result"
    }
   ],
   "source": [
    "featureData.describe()"
   ]
  },
  {
   "cell_type": "code",
   "execution_count": 213,
   "metadata": {},
   "outputs": [
    {
     "data": {
      "text/plain": [
       "longitude    123.062500\n",
       "latitude      53.520833\n",
       "access         0.315960\n",
       "pet           -1.572818\n",
       "pop           -0.577570\n",
       "urban          0.778462\n",
       "W_access       0.571596\n",
       "adj_cases      0.000000\n",
       "Name: 2656, dtype: float64"
      ]
     },
     "execution_count": 213,
     "metadata": {},
     "output_type": "execute_result"
    }
   ],
   "source": [
    "featureData.loc[2656]"
   ]
  },
  {
   "cell_type": "code",
   "execution_count": 217,
   "metadata": {},
   "outputs": [],
   "source": [
    "adj_cases_raster_values = featureData[\"adj_cases\"].values.reshape(shape)"
   ]
  },
  {
   "cell_type": "code",
   "execution_count": 218,
   "metadata": {},
   "outputs": [
    {
     "data": {
      "text/plain": [
       "array([[-3.4e+38, -3.4e+38, -3.4e+38, ..., -3.4e+38, -3.4e+38, -3.4e+38],\n",
       "       [-3.4e+38, -3.4e+38, -3.4e+38, ..., -3.4e+38, -3.4e+38, -3.4e+38],\n",
       "       [-3.4e+38, -3.4e+38, -3.4e+38, ..., -3.4e+38, -3.4e+38, -3.4e+38],\n",
       "       ...,\n",
       "       [-3.4e+38, -3.4e+38, -3.4e+38, ..., -3.4e+38, -3.4e+38, -3.4e+38],\n",
       "       [-3.4e+38, -3.4e+38, -3.4e+38, ..., -3.4e+38, -3.4e+38, -3.4e+38],\n",
       "       [-3.4e+38, -3.4e+38, -3.4e+38, ..., -3.4e+38, -3.4e+38, -3.4e+38]],\n",
       "      dtype=float32)"
      ]
     },
     "execution_count": 218,
     "metadata": {},
     "output_type": "execute_result"
    }
   ],
   "source": [
    "adj_cases_raster_values"
   ]
  },
  {
   "cell_type": "code",
   "execution_count": 219,
   "metadata": {},
   "outputs": [
    {
     "data": {
      "text/plain": [
       "50.02286"
      ]
     },
     "execution_count": 219,
     "metadata": {},
     "output_type": "execute_result"
    }
   ],
   "source": [
    "np.nanmax(adj_cases_raster_values)"
   ]
  },
  {
   "cell_type": "code",
   "execution_count": 266,
   "metadata": {},
   "outputs": [],
   "source": [
    "def save_raster():\n",
    "    filepath = \"../../data/features/{}.tif\".format(\"access\")\n",
    "    # read raster data band1 from the .tif file\n",
    "\n",
    "    adj_cases_raster_opened = rasterio.open(filepath)\n",
    "    adj_cases_raster = rasterio.open(\n",
    "     \"../../data/predictions/adj_cases.tif\",\n",
    "     'w',\n",
    "     driver='GTiff',\n",
    "     height=adj_cases_raster_values.shape[0],\n",
    "     width=adj_cases_raster_values.shape[1],\n",
    "     count=1,\n",
    "     dtype=adj_cases_raster_values.dtype,\n",
    "     crs=adj_cases_raster_opened.crs,\n",
    "     transform=adj_cases_raster_opened.transform,\n",
    "     nodata=adj_cases_raster_opened.nodata\n",
    "    )\n",
    "\n",
    "    adj_cases_raster.write(adj_cases_raster_values, 1)\n",
    "    adj_cases_raster.close()"
   ]
  },
  {
   "cell_type": "code",
   "execution_count": 267,
   "metadata": {},
   "outputs": [],
   "source": [
    "save_raster()"
   ]
  },
  {
   "cell_type": "code",
   "execution_count": null,
   "metadata": {},
   "outputs": [],
   "source": []
  }
 ],
 "metadata": {
  "kernelspec": {
   "display_name": "Python 3",
   "language": "python",
   "name": "python3"
  },
  "language_info": {
   "codemirror_mode": {
    "name": "ipython",
    "version": 3
   },
   "file_extension": ".py",
   "mimetype": "text/x-python",
   "name": "python",
   "nbconvert_exporter": "python",
   "pygments_lexer": "ipython3",
   "version": "3.7.7"
  }
 },
 "nbformat": 4,
 "nbformat_minor": 4
}
