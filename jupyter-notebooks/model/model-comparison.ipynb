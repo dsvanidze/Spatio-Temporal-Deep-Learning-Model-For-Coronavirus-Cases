{
 "cells": [
  {
   "cell_type": "code",
   "execution_count": 1,
   "metadata": {},
   "outputs": [],
   "source": [
    "import sys\n",
    "import os\n",
    "\n",
    "# Add ROOT/model path to load own modules\n",
    "model_path = os.path.normpath(os.path.join(os.getcwd(), *[os.pardir]*2, \"model\"))\n",
    "sys.path.insert(0, model_path)"
   ]
  },
  {
   "cell_type": "code",
   "execution_count": 2,
   "metadata": {},
   "outputs": [],
   "source": [
    "import numpy as np\n",
    "import matplotlib\n",
    "import matplotlib.pyplot as plt\n",
    "import pandas as pd\n",
    "import tensorflow as tf\n",
    "from sklearn.metrics import mean_squared_error, r2_score\n",
    "from utils import ROOT_DIR, get_data\n",
    "from joblib import load\n",
    "\n",
    "\n",
    "%matplotlib inline"
   ]
  },
  {
   "cell_type": "code",
   "execution_count": 3,
   "metadata": {},
   "outputs": [],
   "source": [
    "X_train, Y_train, X_validation, Y_validation, X_test, Y_test = get_data()"
   ]
  },
  {
   "cell_type": "code",
   "execution_count": 4,
   "metadata": {},
   "outputs": [],
   "source": [
    "data = {\n",
    "    \"train\": (X_train, Y_train),\n",
    "    \"validation\": (X_validation, Y_validation),\n",
    "    \"test\": (X_test, Y_test)\n",
    "}"
   ]
  },
  {
   "cell_type": "code",
   "execution_count": 5,
   "metadata": {},
   "outputs": [],
   "source": [
    "sets = {\n",
    "    \"train\": None,\n",
    "    \"validation\": None,\n",
    "    \"test\": None\n",
    "}"
   ]
  },
  {
   "cell_type": "code",
   "execution_count": 6,
   "metadata": {},
   "outputs": [],
   "source": [
    "description = {\n",
    "    \"model\": None,\n",
    "    \"predictions\": {**sets},\n",
    "    \"rmse\": {**sets},\n",
    "    \"R2\": {**sets}\n",
    "}"
   ]
  },
  {
   "cell_type": "code",
   "execution_count": 7,
   "metadata": {},
   "outputs": [],
   "source": [
    "models = {\n",
    "    \"MLP_0\": {**description},\n",
    "    \"MLP_1\": {**description},\n",
    "    \"MLP_2\": {**description},\n",
    "    \"XGBOOST\": {**description}\n",
    "}"
   ]
  },
  {
   "cell_type": "code",
   "execution_count": 8,
   "metadata": {},
   "outputs": [],
   "source": [
    "models[\"MLP_0\"][\"model\"] = tf.keras.models.load_model(ROOT_DIR + \"/best-models/no-hidden-layer\")\n",
    "models[\"MLP_1\"][\"model\"] = tf.keras.models.load_model(ROOT_DIR + \"/best-models/one-hidden-layer-2\")\n",
    "models[\"MLP_2\"][\"model\"] = tf.keras.models.load_model(ROOT_DIR + \"/best-models/two-hidden-layers-2\")\n",
    "models[\"XGBOOST\"][\"model\"] = load(ROOT_DIR + \"/best-models/xgboost/model.joblib.dat\")"
   ]
  },
  {
   "cell_type": "code",
   "execution_count": 9,
   "metadata": {},
   "outputs": [],
   "source": [
    "rmseDf = pd.DataFrame(index=[model_key for model_key, _ in models.items()])"
   ]
  },
  {
   "cell_type": "code",
   "execution_count": 10,
   "metadata": {},
   "outputs": [],
   "source": [
    "R2Df = pd.DataFrame(index=[model_key for model_key, _ in models.items()])"
   ]
  },
  {
   "cell_type": "code",
   "execution_count": 11,
   "metadata": {},
   "outputs": [
    {
     "name": "stdout",
     "output_type": "stream",
     "text": [
      "--MODEL:  MLP_0\n",
      "    -SET:  train \n",
      "\n",
      "        RMSE:  0.697255647915664\n",
      "        R2:  0.1532847844994446\n",
      "\n",
      "\n",
      "    -SET:  validation \n",
      "\n",
      "        RMSE:  0.7814862814432579\n",
      "        R2:  0.1012656040565919\n",
      "\n",
      "\n",
      "    -SET:  test \n",
      "\n",
      "        RMSE:  0.7397863554712505\n",
      "        R2:  0.1899891160032653\n",
      "\n",
      "\n",
      "--MODEL:  MLP_1\n",
      "    -SET:  train \n",
      "\n",
      "        RMSE:  0.5809772611122567\n",
      "        R2:  0.4121431919498729\n",
      "\n",
      "\n",
      "    -SET:  validation \n",
      "\n",
      "        RMSE:  0.7128265424665317\n",
      "        R2:  0.2522500874761564\n",
      "\n",
      "\n",
      "    -SET:  test \n",
      "\n",
      "        RMSE:  0.6990948936112176\n",
      "        R2:  0.2766466778850597\n",
      "\n",
      "\n",
      "--MODEL:  MLP_2\n",
      "    -SET:  train \n",
      "\n",
      "        RMSE:  0.6205156826198612\n",
      "        R2:  0.32940732271325235\n",
      "\n",
      "\n",
      "    -SET:  validation \n",
      "\n",
      "        RMSE:  0.7126797363581999\n",
      "        R2:  0.2525580528622915\n",
      "\n",
      "\n",
      "    -SET:  test \n",
      "\n",
      "        RMSE:  0.7044357734961113\n",
      "        R2:  0.26555204496031615\n",
      "\n",
      "\n",
      "--MODEL:  XGBOOST\n",
      "    -SET:  train \n",
      "\n",
      "        RMSE:  0.40094372119758903\n",
      "        R2:  0.7200244438261473\n",
      "\n",
      "\n",
      "    -SET:  validation \n",
      "\n",
      "        RMSE:  0.7556222151643303\n",
      "        R2:  0.15977019856166097\n",
      "\n",
      "\n",
      "    -SET:  test \n",
      "\n",
      "        RMSE:  0.7132976232542804\n",
      "        R2:  0.24695700254817332\n",
      "\n",
      "\n"
     ]
    }
   ],
   "source": [
    "for model_key, model_description in models.items():\n",
    "    print(\"--MODEL: \", model_key)\n",
    "    for set_key, set_value in model_description[\"predictions\"].items():\n",
    "        model_description[\"predictions\"][set_key] = model_description[\"model\"].predict(data[set_key][0]).reshape(-1)\n",
    "        model_description[\"rmse\"][set_key] = np.sqrt(mean_squared_error(data[set_key][1], model_description[\"predictions\"][set_key]))\n",
    "        model_description[\"R2\"][set_key] = r2_score(data[set_key][1], model_description[\"predictions\"][set_key])\n",
    "        \n",
    "        rmseDf.loc[model_key, set_key] = model_description[\"rmse\"][set_key]\n",
    "        R2Df.loc[model_key, set_key] = model_description[\"R2\"][set_key]\n",
    "        print(\"    -SET: \", set_key, \"\\n\")\n",
    "        print(\"        RMSE: \", model_description[\"rmse\"][set_key])\n",
    "        print(\"        R2: \", model_description[\"R2\"][set_key])\n",
    "        print(\"\\n\")"
   ]
  },
  {
   "cell_type": "code",
   "execution_count": 12,
   "metadata": {},
   "outputs": [
    {
     "name": "stdout",
     "output_type": "stream",
     "text": [
      "\\begin{table}\n",
      "\\centering\n",
      "\\caption{RMSE metric of models for train/validation/test sets}\n",
      "\\label{tab:rmse-metrics}\n",
      "\\begin{tabular}{lrrr}\n",
      "\\toprule\n",
      "{} &   train &  validation &    test \\\\\n",
      "\\midrule\n",
      "MLP\\_0   &  0.6973 &      0.7815 &  0.7398 \\\\\n",
      "MLP\\_1   &  0.5810 &      0.7128 &  0.6991 \\\\\n",
      "MLP\\_2   &  0.6205 &      0.7127 &  0.7044 \\\\\n",
      "XGBOOST &  0.4009 &      0.7556 &  0.7133 \\\\\n",
      "\\bottomrule\n",
      "\\end{tabular}\n",
      "\\end{table}\n",
      "\n"
     ]
    }
   ],
   "source": [
    "print(rmseDf.round(4).to_latex(caption=\"RMSE metric of models for train/validation/test sets\", label=\"tab:rmse-metrics\"))"
   ]
  },
  {
   "cell_type": "code",
   "execution_count": 13,
   "metadata": {},
   "outputs": [
    {
     "name": "stdout",
     "output_type": "stream",
     "text": [
      "\\begin{table}\n",
      "\\centering\n",
      "\\caption{R2 metric of models for train/validation/test sets}\n",
      "\\label{tab:r2-metrics}\n",
      "\\begin{tabular}{lrrr}\n",
      "\\toprule\n",
      "{} &   train &  validation &    test \\\\\n",
      "\\midrule\n",
      "MLP\\_0   &  0.1533 &      0.1013 &  0.1900 \\\\\n",
      "MLP\\_1   &  0.4121 &      0.2523 &  0.2766 \\\\\n",
      "MLP\\_2   &  0.3294 &      0.2526 &  0.2656 \\\\\n",
      "XGBOOST &  0.7200 &      0.1598 &  0.2470 \\\\\n",
      "\\bottomrule\n",
      "\\end{tabular}\n",
      "\\end{table}\n",
      "\n"
     ]
    }
   ],
   "source": [
    "print(R2Df.round(4).to_latex(caption=\"R2 metric of models for train/validation/test sets\", label=\"tab:r2-metrics\"))"
   ]
  },
  {
   "cell_type": "code",
   "execution_count": null,
   "metadata": {},
   "outputs": [],
   "source": []
  }
 ],
 "metadata": {
  "kernelspec": {
   "display_name": "Python 3",
   "language": "python",
   "name": "python3"
  },
  "language_info": {
   "codemirror_mode": {
    "name": "ipython",
    "version": 3
   },
   "file_extension": ".py",
   "mimetype": "text/x-python",
   "name": "python",
   "nbconvert_exporter": "python",
   "pygments_lexer": "ipython3",
   "version": "3.7.8"
  }
 },
 "nbformat": 4,
 "nbformat_minor": 4
}
