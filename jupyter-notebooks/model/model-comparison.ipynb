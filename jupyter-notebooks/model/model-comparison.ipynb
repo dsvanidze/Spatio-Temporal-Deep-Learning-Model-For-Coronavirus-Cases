{
 "cells": [
  {
   "cell_type": "code",
   "execution_count": 1,
   "metadata": {},
   "outputs": [],
   "source": [
    "import sys\n",
    "import os\n",
    "\n",
    "# Add ROOT/model path to load own modules\n",
    "model_path = os.path.normpath(os.path.join(os.getcwd(), *[os.pardir]*2, \"model\"))\n",
    "sys.path.insert(0, model_path)"
   ]
  },
  {
   "cell_type": "code",
   "execution_count": 2,
   "metadata": {},
   "outputs": [],
   "source": [
    "import numpy as np\n",
    "import matplotlib\n",
    "import matplotlib.pyplot as plt\n",
    "import pandas as pd\n",
    "import tensorflow as tf\n",
    "from sklearn.metrics import mean_squared_error, mean_absolute_error, r2_score\n",
    "from utils import ROOT_DIR, get_data\n",
    "from joblib import load\n",
    "\n",
    "\n",
    "%matplotlib inline"
   ]
  },
  {
   "cell_type": "code",
   "execution_count": 3,
   "metadata": {},
   "outputs": [],
   "source": [
    "X_train, Y_train, X_validation, Y_validation, X_test, Y_test = get_data()"
   ]
  },
  {
   "cell_type": "code",
   "execution_count": 4,
   "metadata": {},
   "outputs": [],
   "source": [
    "data = {\n",
    "    \"training\": (X_train, Y_train),\n",
    "    \"validation\": (X_validation, Y_validation),\n",
    "    \"test\": (X_test, Y_test)\n",
    "}"
   ]
  },
  {
   "cell_type": "code",
   "execution_count": 5,
   "metadata": {},
   "outputs": [],
   "source": [
    "sets = {\n",
    "    \"training\": None,\n",
    "    \"validation\": None,\n",
    "    \"test\": None\n",
    "}"
   ]
  },
  {
   "cell_type": "code",
   "execution_count": 6,
   "metadata": {},
   "outputs": [],
   "source": [
    "description = {\n",
    "    \"model\": None,\n",
    "    \"predictions\": {**sets},\n",
    "    \"rmse\": {**sets},\n",
    "    \"mae\": {**sets},\n",
    "    \"R2\": {**sets}\n",
    "}"
   ]
  },
  {
   "cell_type": "code",
   "execution_count": 7,
   "metadata": {},
   "outputs": [],
   "source": [
    "models = {\n",
    "    \"MLP_0\": {**description},\n",
    "    \"MLP_1\": {**description},\n",
    "    \"MLP_2\": {**description},\n",
    "    \"XGBOOST\": {**description}\n",
    "}"
   ]
  },
  {
   "cell_type": "code",
   "execution_count": 8,
   "metadata": {},
   "outputs": [],
   "source": [
    "models[\"MLP_0\"][\"model\"] = tf.keras.models.load_model(ROOT_DIR + \"/best-models/hidden-layers-0\")\n",
    "models[\"MLP_1\"][\"model\"] = tf.keras.models.load_model(ROOT_DIR + \"/best-models/hidden-layers-1\")\n",
    "models[\"MLP_2\"][\"model\"] = tf.keras.models.load_model(ROOT_DIR + \"/best-models/hidden-layers-2\")\n",
    "models[\"XGBOOST\"][\"model\"] = load(ROOT_DIR + \"/best-models/xgboost/model.joblib.dat\")"
   ]
  },
  {
   "cell_type": "code",
   "execution_count": 9,
   "metadata": {},
   "outputs": [],
   "source": [
    "rmseDf = pd.DataFrame(index=[model_key for model_key, _ in models.items()])"
   ]
  },
  {
   "cell_type": "code",
   "execution_count": 10,
   "metadata": {},
   "outputs": [],
   "source": [
    "maeDf = pd.DataFrame(index=[model_key for model_key, _ in models.items()])"
   ]
  },
  {
   "cell_type": "code",
   "execution_count": 11,
   "metadata": {},
   "outputs": [],
   "source": [
    "R2Df = pd.DataFrame(index=[model_key for model_key, _ in models.items()])"
   ]
  },
  {
   "cell_type": "code",
   "execution_count": 12,
   "metadata": {},
   "outputs": [
    {
     "name": "stdout",
     "output_type": "stream",
     "text": [
      "--MODEL:  MLP_0\n",
      "    -SET:  train \n",
      "\n",
      "        RMSE:  0.6951549354584294\n",
      "        MAE:  0.446393040896501\n",
      "        R2:  0.22740852976046155\n",
      "\n",
      "\n",
      "    -SET:  validation \n",
      "\n",
      "        RMSE:  0.683754234451679\n",
      "        MAE:  0.44973005604844785\n",
      "        R2:  0.11134097421652978\n",
      "\n",
      "\n",
      "    -SET:  test \n",
      "\n",
      "        RMSE:  0.6620162202354599\n",
      "        MAE:  0.44600620204901004\n",
      "        R2:  0.24175540961843844\n",
      "\n",
      "\n",
      "--MODEL:  MLP_1\n",
      "    -SET:  train \n",
      "\n",
      "        RMSE:  0.632382521034472\n",
      "        MAE:  0.38633595917007624\n",
      "        R2:  0.3606386147253703\n",
      "\n",
      "\n",
      "    -SET:  validation \n",
      "\n",
      "        RMSE:  0.6157468238915619\n",
      "        MAE:  0.3956968368973539\n",
      "        R2:  0.2793249961027262\n",
      "\n",
      "\n",
      "    -SET:  test \n",
      "\n",
      "        RMSE:  0.626530263543688\n",
      "        MAE:  0.40169343095935056\n",
      "        R2:  0.32086491483075985\n",
      "\n",
      "\n",
      "--MODEL:  MLP_2\n",
      "    -SET:  train \n",
      "\n",
      "        RMSE:  0.675205396782917\n",
      "        MAE:  0.41313258985872214\n",
      "        R2:  0.2711158644757754\n",
      "\n",
      "\n",
      "    -SET:  validation \n",
      "\n",
      "        RMSE:  0.6327858514114709\n",
      "        MAE:  0.4161592143813413\n",
      "        R2:  0.23888791347214078\n",
      "\n",
      "\n",
      "    -SET:  test \n",
      "\n",
      "        RMSE:  0.6562601344869741\n",
      "        MAE:  0.4326381877297544\n",
      "        R2:  0.2548836275446039\n",
      "\n",
      "\n",
      "--MODEL:  XGBOOST\n",
      "    -SET:  train \n",
      "\n",
      "        RMSE:  0.4630747059187001\n",
      "        MAE:  0.2835426624086528\n",
      "        R2:  0.6571621150324569\n",
      "\n",
      "\n",
      "    -SET:  validation \n",
      "\n",
      "        RMSE:  0.5830982354482114\n",
      "        MAE:  0.36707798523820667\n",
      "        R2:  0.35372321961844644\n",
      "\n",
      "\n",
      "    -SET:  test \n",
      "\n",
      "        RMSE:  0.6413999178163738\n",
      "        MAE:  0.3918583732420774\n",
      "        R2:  0.28824609298927695\n",
      "\n",
      "\n"
     ]
    }
   ],
   "source": [
    "for model_key, model_description in models.items():\n",
    "    print(\"--MODEL: \", model_key)\n",
    "    for set_key, set_value in model_description[\"predictions\"].items():\n",
    "        model_description[\"predictions\"][set_key] = model_description[\"model\"].predict(data[set_key][0]).reshape(-1)\n",
    "        model_description[\"rmse\"][set_key] = np.sqrt(mean_squared_error(data[set_key][1], model_description[\"predictions\"][set_key]))\n",
    "        model_description[\"mae\"][set_key] = mean_absolute_error(data[set_key][1], model_description[\"predictions\"][set_key])\n",
    "        model_description[\"R2\"][set_key] = r2_score(data[set_key][1], model_description[\"predictions\"][set_key])\n",
    "        \n",
    "        rmseDf.loc[model_key, set_key] = model_description[\"rmse\"][set_key]\n",
    "        maeDf.loc[model_key, set_key] = model_description[\"mae\"][set_key]\n",
    "        R2Df.loc[model_key, set_key] = model_description[\"R2\"][set_key]\n",
    "        print(\"    -SET: \", set_key, \"\\n\")\n",
    "        print(\"        RMSE: \", model_description[\"rmse\"][set_key])\n",
    "        print(\"        MAE: \", model_description[\"mae\"][set_key])\n",
    "        print(\"        R2: \", model_description[\"R2\"][set_key])\n",
    "        print(\"\\n\")"
   ]
  },
  {
   "cell_type": "code",
   "execution_count": 13,
   "metadata": {},
   "outputs": [
    {
     "name": "stdout",
     "output_type": "stream",
     "text": [
      "\\begin{table}\n",
      "\\centering\n",
      "\\caption{RMSE metric of models for train/validation/test sets}\n",
      "\\label{tab:rmse-metrics}\n",
      "\\begin{tabular}{lrrr}\n",
      "\\toprule\n",
      "{} &   train &  validation &    test \\\\\n",
      "\\midrule\n",
      "MLP\\_0   &  0.6952 &      0.6838 &  0.6620 \\\\\n",
      "MLP\\_1   &  0.6324 &      0.6157 &  0.6265 \\\\\n",
      "MLP\\_2   &  0.6752 &      0.6328 &  0.6563 \\\\\n",
      "XGBOOST &  0.4631 &      0.5831 &  0.6414 \\\\\n",
      "\\bottomrule\n",
      "\\end{tabular}\n",
      "\\end{table}\n",
      "\n"
     ]
    }
   ],
   "source": [
    "print(rmseDf.round(4).to_latex(caption=\"RMSE metric of models for training/validation/test sets\", label=\"tab:rmse-metrics\"))"
   ]
  },
  {
   "cell_type": "code",
   "execution_count": 14,
   "metadata": {},
   "outputs": [
    {
     "name": "stdout",
     "output_type": "stream",
     "text": [
      "\\begin{table}\n",
      "\\centering\n",
      "\\caption{MAE metric of models for train/validation/test sets}\n",
      "\\label{tab:mae-metrics}\n",
      "\\begin{tabular}{lrrr}\n",
      "\\toprule\n",
      "{} &   train &  validation &    test \\\\\n",
      "\\midrule\n",
      "MLP\\_0   &  0.4464 &      0.4497 &  0.4460 \\\\\n",
      "MLP\\_1   &  0.3863 &      0.3957 &  0.4017 \\\\\n",
      "MLP\\_2   &  0.4131 &      0.4162 &  0.4326 \\\\\n",
      "XGBOOST &  0.2835 &      0.3671 &  0.3919 \\\\\n",
      "\\bottomrule\n",
      "\\end{tabular}\n",
      "\\end{table}\n",
      "\n"
     ]
    }
   ],
   "source": [
    "print(maeDf.round(4).to_latex(caption=\"MAE metric of models for training/validation/test sets\", label=\"tab:mae-metrics\"))"
   ]
  },
  {
   "cell_type": "code",
   "execution_count": 15,
   "metadata": {},
   "outputs": [
    {
     "name": "stdout",
     "output_type": "stream",
     "text": [
      "\\begin{table}\n",
      "\\centering\n",
      "\\caption{R2 metric of models for train/validation/test sets}\n",
      "\\label{tab:r2-metrics}\n",
      "\\begin{tabular}{lrrr}\n",
      "\\toprule\n",
      "{} &   train &  validation &    test \\\\\n",
      "\\midrule\n",
      "MLP\\_0   &  0.2274 &      0.1113 &  0.2418 \\\\\n",
      "MLP\\_1   &  0.3606 &      0.2793 &  0.3209 \\\\\n",
      "MLP\\_2   &  0.2711 &      0.2389 &  0.2549 \\\\\n",
      "XGBOOST &  0.6572 &      0.3537 &  0.2882 \\\\\n",
      "\\bottomrule\n",
      "\\end{tabular}\n",
      "\\end{table}\n",
      "\n"
     ]
    }
   ],
   "source": [
    "print(R2Df.round(4).to_latex(caption=\"R2 metric of models for training/validation/test sets\", label=\"tab:r2-metrics\"))"
   ]
  },
  {
   "cell_type": "code",
   "execution_count": null,
   "metadata": {},
   "outputs": [],
   "source": []
  }
 ],
 "metadata": {
  "kernelspec": {
   "display_name": "Python 3",
   "language": "python",
   "name": "python3"
  },
  "language_info": {
   "codemirror_mode": {
    "name": "ipython",
    "version": 3
   },
   "file_extension": ".py",
   "mimetype": "text/x-python",
   "name": "python",
   "nbconvert_exporter": "python",
   "pygments_lexer": "ipython3",
   "version": "3.7.8"
  }
 },
 "nbformat": 4,
 "nbformat_minor": 4
}
