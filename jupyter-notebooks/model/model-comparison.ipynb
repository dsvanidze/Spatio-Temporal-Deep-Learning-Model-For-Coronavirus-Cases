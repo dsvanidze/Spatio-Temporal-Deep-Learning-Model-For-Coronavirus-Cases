{
 "cells": [
  {
   "cell_type": "code",
   "execution_count": 1,
   "metadata": {},
   "outputs": [],
   "source": [
    "import sys\n",
    "import os\n",
    "\n",
    "# Add ROOT/model path to load own modules\n",
    "model_path = os.path.normpath(os.path.join(os.getcwd(), *[os.pardir]*2))\n",
    "sys.path.insert(0, model_path)"
   ]
  },
  {
   "cell_type": "code",
   "execution_count": 2,
   "metadata": {},
   "outputs": [],
   "source": [
    "import tensorflow as tf\n",
    "import numpy as np\n",
    "import matplotlib\n",
    "import matplotlib.pyplot as plt\n",
    "import pandas as pd\n",
    "from sklearn.metrics import mean_squared_error, mean_absolute_error, r2_score\n",
    "from utils import ROOT_DIR, get_data\n",
    "from joblib import load\n",
    "\n",
    "%load_ext autoreload\n",
    "%autoreload 2\n",
    "\n",
    "%matplotlib inline"
   ]
  },
  {
   "cell_type": "code",
   "execution_count": 3,
   "metadata": {},
   "outputs": [],
   "source": [
    "X_train, Y_train, X_validation, Y_validation, X_test, Y_test = get_data()"
   ]
  },
  {
   "cell_type": "code",
   "execution_count": 4,
   "metadata": {},
   "outputs": [],
   "source": [
    "data = {\n",
    "    \"training\": (X_train, Y_train),\n",
    "    \"validation\": (X_validation, Y_validation),\n",
    "    \"test\": (X_test, Y_test)\n",
    "}"
   ]
  },
  {
   "cell_type": "code",
   "execution_count": 5,
   "metadata": {},
   "outputs": [],
   "source": [
    "sets = {\n",
    "    \"training\": None,\n",
    "    \"validation\": None,\n",
    "    \"test\": None\n",
    "}"
   ]
  },
  {
   "cell_type": "code",
   "execution_count": 6,
   "metadata": {},
   "outputs": [],
   "source": [
    "description = {\n",
    "    \"model\": None,\n",
    "    \"predictions\": {**sets},\n",
    "    \"rmse\": {**sets},\n",
    "    \"mae\": {**sets},\n",
    "    \"R2\": {**sets}\n",
    "}"
   ]
  },
  {
   "cell_type": "code",
   "execution_count": 7,
   "metadata": {},
   "outputs": [],
   "source": [
    "models = {\n",
    "    \"MLP0\": {**description},\n",
    "    \"MLP1\": {**description},\n",
    "    \"MLP2\": {**description},\n",
    "    \"XGBOOST\": {**description}\n",
    "}"
   ]
  },
  {
   "cell_type": "code",
   "execution_count": 8,
   "metadata": {},
   "outputs": [],
   "source": [
    "models[\"MLP0\"][\"model\"] = tf.keras.models.load_model(ROOT_DIR + \"/best-models/mlp/hidden-layers-0\")\n",
    "models[\"MLP1\"][\"model\"] = tf.keras.models.load_model(ROOT_DIR + \"/best-models/mlp/hidden-layers-1\")\n",
    "models[\"MLP2\"][\"model\"] = tf.keras.models.load_model(ROOT_DIR + \"/best-models/mlp/hidden-layers-2\")\n",
    "models[\"XGBOOST\"][\"model\"] = load(ROOT_DIR + \"/best-models/xgboost/model.joblib.dat\")"
   ]
  },
  {
   "cell_type": "code",
   "execution_count": 9,
   "metadata": {},
   "outputs": [],
   "source": [
    "rmseDf = pd.DataFrame(index=[model_key for model_key, _ in models.items()])"
   ]
  },
  {
   "cell_type": "code",
   "execution_count": 10,
   "metadata": {},
   "outputs": [],
   "source": [
    "maeDf = pd.DataFrame(index=[model_key for model_key, _ in models.items()])"
   ]
  },
  {
   "cell_type": "code",
   "execution_count": 11,
   "metadata": {},
   "outputs": [],
   "source": [
    "R2Df = pd.DataFrame(index=[model_key for model_key, _ in models.items()])"
   ]
  },
  {
   "cell_type": "code",
   "execution_count": 12,
   "metadata": {},
   "outputs": [
    {
     "name": "stdout",
     "output_type": "stream",
     "text": [
      "--MODEL:  MLP0\n",
      "    -SET:  training \n",
      "\n",
      "        RMSE:  0.6951549354584294\n",
      "        MAE:  0.446393040896501\n",
      "        R2:  0.22740852976046155\n",
      "\n",
      "\n",
      "    -SET:  validation \n",
      "\n",
      "        RMSE:  0.6837542344516792\n",
      "        MAE:  0.44973005604844785\n",
      "        R2:  0.11134097421652955\n",
      "\n",
      "\n",
      "    -SET:  test \n",
      "\n",
      "        RMSE:  0.6620162202354599\n",
      "        MAE:  0.44600620204901004\n",
      "        R2:  0.24175540961843844\n",
      "\n",
      "\n",
      "--MODEL:  MLP1\n",
      "    -SET:  training \n",
      "\n",
      "        RMSE:  0.632382519805944\n",
      "        MAE:  0.38633595702381845\n",
      "        R2:  0.36063861720954205\n",
      "\n",
      "\n",
      "    -SET:  validation \n",
      "\n",
      "        RMSE:  0.6157468271293002\n",
      "        MAE:  0.3956968376286993\n",
      "        R2:  0.2793249885237765\n",
      "\n",
      "\n",
      "    -SET:  test \n",
      "\n",
      "        RMSE:  0.6265302642209761\n",
      "        MAE:  0.40169343370189553\n",
      "        R2:  0.3208649133624505\n",
      "\n",
      "\n",
      "--MODEL:  MLP2\n",
      "    -SET:  training \n",
      "\n",
      "        RMSE:  0.6752053990989827\n",
      "        MAE:  0.4131325904719386\n",
      "        R2:  0.2711158594753902\n",
      "\n",
      "\n",
      "    -SET:  validation \n",
      "\n",
      "        RMSE:  0.6327858524723503\n",
      "        MAE:  0.41615921474701395\n",
      "        R2:  0.23888791092009865\n",
      "\n",
      "\n",
      "    -SET:  test \n",
      "\n",
      "        RMSE:  0.6562601373594403\n",
      "        MAE:  0.43263818882677235\n",
      "        R2:  0.2548836210218195\n",
      "\n",
      "\n",
      "--MODEL:  XGBOOST\n",
      "    -SET:  training \n",
      "\n",
      "        RMSE:  0.4630747176499165\n",
      "        MAE:  0.283542667769761\n",
      "        R2:  0.6571620976620178\n",
      "\n",
      "\n",
      "    -SET:  validation \n",
      "\n",
      "        RMSE:  0.5830982423135499\n",
      "        MAE:  0.36707799338718994\n",
      "        R2:  0.3537232044000538\n",
      "\n",
      "\n",
      "    -SET:  test \n",
      "\n",
      "        RMSE:  0.6413999519597844\n",
      "        MAE:  0.3918583968877121\n",
      "        R2:  0.2882460172121968\n",
      "\n",
      "\n"
     ]
    }
   ],
   "source": [
    "for model_key, model_description in models.items():\n",
    "    print(\"--MODEL: \", model_key)\n",
    "    for set_key, set_value in model_description[\"predictions\"].items():\n",
    "        model_description[\"predictions\"][set_key] = model_description[\"model\"].predict(data[set_key][0]).reshape(-1)\n",
    "        model_description[\"rmse\"][set_key] = np.sqrt(mean_squared_error(data[set_key][1], model_description[\"predictions\"][set_key]))\n",
    "        model_description[\"mae\"][set_key] = mean_absolute_error(data[set_key][1], model_description[\"predictions\"][set_key])\n",
    "        model_description[\"R2\"][set_key] = r2_score(data[set_key][1], model_description[\"predictions\"][set_key])\n",
    "        \n",
    "        rmseDf.loc[model_key, set_key] = model_description[\"rmse\"][set_key]\n",
    "        maeDf.loc[model_key, set_key] = model_description[\"mae\"][set_key]\n",
    "        R2Df.loc[model_key, set_key] = model_description[\"R2\"][set_key]\n",
    "        print(\"    -SET: \", set_key, \"\\n\")\n",
    "        print(\"        RMSE: \", model_description[\"rmse\"][set_key])\n",
    "        print(\"        MAE: \", model_description[\"mae\"][set_key])\n",
    "        print(\"        R2: \", model_description[\"R2\"][set_key])\n",
    "        print(\"\\n\")"
   ]
  },
  {
   "cell_type": "code",
   "execution_count": 13,
   "metadata": {},
   "outputs": [
    {
     "name": "stdout",
     "output_type": "stream",
     "text": [
      "\\begin{table}\n",
      "\\centering\n",
      "\\caption{RMSE metric of models for training/validation/test sets}\n",
      "\\label{tab:rmse-metrics}\n",
      "\\begin{tabular}{lrrr}\n",
      "\\toprule\n",
      "{} & training & validation & test \\\\\n",
      "\\midrule\n",
      "MLP0    &     0.70 &       0.68 & 0.66 \\\\\n",
      "MLP1    &     0.63 &       0.62 & 0.63 \\\\\n",
      "MLP2    &     0.68 &       0.63 & 0.66 \\\\\n",
      "XGBOOST &     0.46 &       0.58 & 0.64 \\\\\n",
      "\\bottomrule\n",
      "\\end{tabular}\n",
      "\\end{table}\n",
      "\n"
     ]
    }
   ],
   "source": [
    "print(rmseDf.to_latex(caption=\"RMSE metric of models for training/validation/test sets\",\n",
    "                      label=\"tab:rmse-metrics\",\n",
    "                      formatters=[\"{:0.2f}\".format, \"{:0.2f}\".format, \"{:0.2f}\".format]))"
   ]
  },
  {
   "cell_type": "code",
   "execution_count": 14,
   "metadata": {},
   "outputs": [
    {
     "name": "stdout",
     "output_type": "stream",
     "text": [
      "\\begin{table}\n",
      "\\centering\n",
      "\\caption{MAE metric of models for training/validation/test sets}\n",
      "\\label{tab:mae-metrics}\n",
      "\\begin{tabular}{lrrr}\n",
      "\\toprule\n",
      "{} & training & validation & test \\\\\n",
      "\\midrule\n",
      "MLP0    &     0.45 &       0.45 & 0.45 \\\\\n",
      "MLP1    &     0.39 &       0.40 & 0.40 \\\\\n",
      "MLP2    &     0.41 &       0.42 & 0.43 \\\\\n",
      "XGBOOST &     0.28 &       0.37 & 0.39 \\\\\n",
      "\\bottomrule\n",
      "\\end{tabular}\n",
      "\\end{table}\n",
      "\n"
     ]
    }
   ],
   "source": [
    "print(maeDf.to_latex(caption=\"MAE metric of models for training/validation/test sets\",\n",
    "                     label=\"tab:mae-metrics\",\n",
    "                     formatters=[\"{:0.2f}\".format, \"{:0.2f}\".format, \"{:0.2f}\".format]))"
   ]
  },
  {
   "cell_type": "code",
   "execution_count": 15,
   "metadata": {},
   "outputs": [
    {
     "name": "stdout",
     "output_type": "stream",
     "text": [
      "\\begin{table}\n",
      "\\centering\n",
      "\\caption{R2 metric of models for training/validation/test sets}\n",
      "\\label{tab:r2-metrics}\n",
      "\\begin{tabular}{lrrr}\n",
      "\\toprule\n",
      "{} & training & validation &  test \\\\\n",
      "\\midrule\n",
      "MLP0    &    0.227 &      0.111 & 0.242 \\\\\n",
      "MLP1    &    0.361 &      0.279 & 0.321 \\\\\n",
      "MLP2    &    0.271 &      0.239 & 0.255 \\\\\n",
      "XGBOOST &    0.657 &      0.354 & 0.288 \\\\\n",
      "\\bottomrule\n",
      "\\end{tabular}\n",
      "\\end{table}\n",
      "\n"
     ]
    }
   ],
   "source": [
    "print(R2Df.to_latex(caption=\"R2 metric of models for training/validation/test sets\",\n",
    "                             label=\"tab:r2-metrics\",\n",
    "                             formatters=[\"{:0.3f}\".format, \"{:0.3f}\".format, \"{:0.3f}\".format]))"
   ]
  },
  {
   "cell_type": "code",
   "execution_count": null,
   "metadata": {},
   "outputs": [],
   "source": []
  }
 ],
 "metadata": {
  "kernelspec": {
   "display_name": "Python 3",
   "language": "python",
   "name": "python3"
  },
  "language_info": {
   "codemirror_mode": {
    "name": "ipython",
    "version": 3
   },
   "file_extension": ".py",
   "mimetype": "text/x-python",
   "name": "python",
   "nbconvert_exporter": "python",
   "pygments_lexer": "ipython3",
   "version": "3.7.10"
  }
 },
 "nbformat": 4,
 "nbformat_minor": 4
}
