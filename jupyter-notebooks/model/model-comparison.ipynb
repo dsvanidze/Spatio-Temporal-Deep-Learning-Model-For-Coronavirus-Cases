{
 "cells": [
  {
   "cell_type": "code",
   "execution_count": 14,
   "metadata": {},
   "outputs": [],
   "source": [
    "import sys\n",
    "import os\n",
    "\n",
    "# Add ROOT/model path to load own modules\n",
    "model_path = os.path.normpath(os.path.join(os.getcwd(), *[os.pardir]*2, \"model\"))\n",
    "sys.path.insert(0, model_path)"
   ]
  },
  {
   "cell_type": "code",
   "execution_count": 15,
   "metadata": {},
   "outputs": [],
   "source": [
    "import numpy as np\n",
    "import matplotlib\n",
    "import matplotlib.pyplot as plt\n",
    "import pandas as pd\n",
    "import tensorflow as tf\n",
    "from sklearn.metrics import mean_squared_error, r2_score\n",
    "from utils import ROOT_DIR, get_data\n",
    "from joblib import load\n",
    "\n",
    "\n",
    "%matplotlib inline"
   ]
  },
  {
   "cell_type": "code",
   "execution_count": 16,
   "metadata": {},
   "outputs": [],
   "source": [
    "X_train, Y_train, X_validation, Y_validation, X_test, Y_test = get_data()"
   ]
  },
  {
   "cell_type": "code",
   "execution_count": 17,
   "metadata": {},
   "outputs": [],
   "source": [
    "data = {\n",
    "    \"train\": (X_train, Y_train),\n",
    "    \"validation\": (X_validation, Y_validation),\n",
    "    \"test\": (X_test, Y_test)\n",
    "}"
   ]
  },
  {
   "cell_type": "code",
   "execution_count": 18,
   "metadata": {},
   "outputs": [],
   "source": [
    "sets = {\n",
    "    \"train\": None,\n",
    "    \"validation\": None,\n",
    "    \"test\": None\n",
    "}"
   ]
  },
  {
   "cell_type": "code",
   "execution_count": 19,
   "metadata": {},
   "outputs": [],
   "source": [
    "description = {\n",
    "    \"model\": None,\n",
    "    \"predictions\": {**sets},\n",
    "    \"rmse\": {**sets},\n",
    "    \"R2\": {**sets}\n",
    "}"
   ]
  },
  {
   "cell_type": "code",
   "execution_count": 20,
   "metadata": {},
   "outputs": [],
   "source": [
    "models = {\n",
    "    \"MLP_0\": {**description},\n",
    "    \"MLP_1\": {**description},\n",
    "    \"MLP_2\": {**description},\n",
    "    \"XGBOOST\": {**description}\n",
    "}"
   ]
  },
  {
   "cell_type": "code",
   "execution_count": 21,
   "metadata": {},
   "outputs": [],
   "source": [
    "models[\"MLP_0\"][\"model\"] = tf.keras.models.load_model(ROOT_DIR + \"/best-models/hidden-layers-0\")\n",
    "models[\"MLP_1\"][\"model\"] = tf.keras.models.load_model(ROOT_DIR + \"/best-models/hidden-layers-1\")\n",
    "models[\"MLP_2\"][\"model\"] = tf.keras.models.load_model(ROOT_DIR + \"/best-models/hidden-layers-2\")\n",
    "models[\"XGBOOST\"][\"model\"] = load(ROOT_DIR + \"/best-models/xgboost/model.joblib.dat\")"
   ]
  },
  {
   "cell_type": "code",
   "execution_count": 22,
   "metadata": {},
   "outputs": [],
   "source": [
    "rmseDf = pd.DataFrame(index=[model_key for model_key, _ in models.items()])"
   ]
  },
  {
   "cell_type": "code",
   "execution_count": 23,
   "metadata": {},
   "outputs": [],
   "source": [
    "R2Df = pd.DataFrame(index=[model_key for model_key, _ in models.items()])"
   ]
  },
  {
   "cell_type": "code",
   "execution_count": 24,
   "metadata": {},
   "outputs": [
    {
     "name": "stdout",
     "output_type": "stream",
     "text": [
      "--MODEL:  MLP_0\n",
      "    -SET:  train \n",
      "\n",
      "        RMSE:  0.6951549354584294\n",
      "        R2:  0.22740852976046155\n",
      "\n",
      "\n",
      "    -SET:  validation \n",
      "\n",
      "        RMSE:  0.683754234451679\n",
      "        R2:  0.11134097421652978\n",
      "\n",
      "\n",
      "    -SET:  test \n",
      "\n",
      "        RMSE:  0.6620162202354599\n",
      "        R2:  0.24175540961843844\n",
      "\n",
      "\n",
      "--MODEL:  MLP_1\n",
      "    -SET:  train \n",
      "\n",
      "        RMSE:  0.632382521034472\n",
      "        R2:  0.3606386147253703\n",
      "\n",
      "\n",
      "    -SET:  validation \n",
      "\n",
      "        RMSE:  0.6157468238915619\n",
      "        R2:  0.2793249961027262\n",
      "\n",
      "\n",
      "    -SET:  test \n",
      "\n",
      "        RMSE:  0.626530263543688\n",
      "        R2:  0.32086491483075985\n",
      "\n",
      "\n",
      "--MODEL:  MLP_2\n",
      "    -SET:  train \n",
      "\n",
      "        RMSE:  0.675205396782917\n",
      "        R2:  0.2711158644757754\n",
      "\n",
      "\n",
      "    -SET:  validation \n",
      "\n",
      "        RMSE:  0.6327858514114709\n",
      "        R2:  0.23888791347214078\n",
      "\n",
      "\n",
      "    -SET:  test \n",
      "\n",
      "        RMSE:  0.6562601344869741\n",
      "        R2:  0.2548836275446039\n",
      "\n",
      "\n",
      "--MODEL:  XGBOOST\n",
      "    -SET:  train \n",
      "\n",
      "        RMSE:  0.4630747059187001\n",
      "        R2:  0.6571621150324569\n",
      "\n",
      "\n",
      "    -SET:  validation \n",
      "\n",
      "        RMSE:  0.5830982354482114\n",
      "        R2:  0.35372321961844644\n",
      "\n",
      "\n",
      "    -SET:  test \n",
      "\n",
      "        RMSE:  0.6413999178163738\n",
      "        R2:  0.28824609298927695\n",
      "\n",
      "\n"
     ]
    }
   ],
   "source": [
    "for model_key, model_description in models.items():\n",
    "    print(\"--MODEL: \", model_key)\n",
    "    for set_key, set_value in model_description[\"predictions\"].items():\n",
    "        model_description[\"predictions\"][set_key] = model_description[\"model\"].predict(data[set_key][0]).reshape(-1)\n",
    "        model_description[\"rmse\"][set_key] = np.sqrt(mean_squared_error(data[set_key][1], model_description[\"predictions\"][set_key]))\n",
    "        model_description[\"R2\"][set_key] = r2_score(data[set_key][1], model_description[\"predictions\"][set_key])\n",
    "        \n",
    "        rmseDf.loc[model_key, set_key] = model_description[\"rmse\"][set_key]\n",
    "        R2Df.loc[model_key, set_key] = model_description[\"R2\"][set_key]\n",
    "        print(\"    -SET: \", set_key, \"\\n\")\n",
    "        print(\"        RMSE: \", model_description[\"rmse\"][set_key])\n",
    "        print(\"        R2: \", model_description[\"R2\"][set_key])\n",
    "        print(\"\\n\")"
   ]
  },
  {
   "cell_type": "code",
   "execution_count": 25,
   "metadata": {},
   "outputs": [
    {
     "name": "stdout",
     "output_type": "stream",
     "text": [
      "\\begin{table}\n",
      "\\centering\n",
      "\\caption{RMSE metric of models for train/validation/test sets}\n",
      "\\label{tab:rmse-metrics}\n",
      "\\begin{tabular}{lrrr}\n",
      "\\toprule\n",
      "{} &   train &  validation &    test \\\\\n",
      "\\midrule\n",
      "MLP\\_0   &  0.6952 &      0.6838 &  0.6620 \\\\\n",
      "MLP\\_1   &  0.6324 &      0.6157 &  0.6265 \\\\\n",
      "MLP\\_2   &  0.6752 &      0.6328 &  0.6563 \\\\\n",
      "XGBOOST &  0.4631 &      0.5831 &  0.6414 \\\\\n",
      "\\bottomrule\n",
      "\\end{tabular}\n",
      "\\end{table}\n",
      "\n"
     ]
    }
   ],
   "source": [
    "print(rmseDf.round(4).to_latex(caption=\"RMSE metric of models for train/validation/test sets\", label=\"tab:rmse-metrics\"))"
   ]
  },
  {
   "cell_type": "code",
   "execution_count": 26,
   "metadata": {},
   "outputs": [
    {
     "name": "stdout",
     "output_type": "stream",
     "text": [
      "\\begin{table}\n",
      "\\centering\n",
      "\\caption{R2 metric of models for train/validation/test sets}\n",
      "\\label{tab:r2-metrics}\n",
      "\\begin{tabular}{lrrr}\n",
      "\\toprule\n",
      "{} &   train &  validation &    test \\\\\n",
      "\\midrule\n",
      "MLP\\_0   &  0.2274 &      0.1113 &  0.2418 \\\\\n",
      "MLP\\_1   &  0.3606 &      0.2793 &  0.3209 \\\\\n",
      "MLP\\_2   &  0.2711 &      0.2389 &  0.2549 \\\\\n",
      "XGBOOST &  0.6572 &      0.3537 &  0.2882 \\\\\n",
      "\\bottomrule\n",
      "\\end{tabular}\n",
      "\\end{table}\n",
      "\n"
     ]
    }
   ],
   "source": [
    "print(R2Df.round(4).to_latex(caption=\"R2 metric of models for train/validation/test sets\", label=\"tab:r2-metrics\"))"
   ]
  },
  {
   "cell_type": "code",
   "execution_count": null,
   "metadata": {},
   "outputs": [],
   "source": []
  }
 ],
 "metadata": {
  "kernelspec": {
   "display_name": "Python 3",
   "language": "python",
   "name": "python3"
  },
  "language_info": {
   "codemirror_mode": {
    "name": "ipython",
    "version": 3
   },
   "file_extension": ".py",
   "mimetype": "text/x-python",
   "name": "python",
   "nbconvert_exporter": "python",
   "pygments_lexer": "ipython3",
   "version": "3.7.8"
  }
 },
 "nbformat": 4,
 "nbformat_minor": 4
}
