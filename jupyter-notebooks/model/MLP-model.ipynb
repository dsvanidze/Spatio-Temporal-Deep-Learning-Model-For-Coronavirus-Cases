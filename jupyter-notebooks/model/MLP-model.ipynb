{
 "cells": [
  {
   "cell_type": "code",
   "execution_count": 11,
   "metadata": {},
   "outputs": [],
   "source": [
    "import sys\n",
    "import os\n",
    "\n",
    "# Add ROOT/model path to load own modules\n",
    "model_path = os.path.normpath(os.path.join(os.getcwd(), *[os.pardir]*2, \"model\"))\n",
    "sys.path.insert(0, model_path)"
   ]
  },
  {
   "cell_type": "code",
   "execution_count": 12,
   "metadata": {},
   "outputs": [
    {
     "name": "stdout",
     "output_type": "stream",
     "text": [
      "The autoreload extension is already loaded. To reload it, use:\n",
      "  %reload_ext autoreload\n"
     ]
    }
   ],
   "source": [
    "from tensorflow import keras\n",
    "from tensorflow.keras import layers\n",
    "from tensorflow.keras.models import Sequential\n",
    "from tensorflow.keras.layers import Dense, BatchNormalization, Dropout, Activation, Lambda, InputLayer\n",
    "from tensorflow.keras.optimizers import SGD, RMSprop, Adam, Adadelta, Adagrad, Adamax, Nadam, Ftrl\n",
    "from kerastuner.tuners import RandomSearch\n",
    "from tensorflow.keras import metrics\n",
    "from keras.callbacks import TensorBoard, EarlyStopping\n",
    "\n",
    "import matplotlib.pyplot as plt\n",
    "# from keras import metrics\n",
    "import pandas as pd\n",
    "# from reproduce import reproduce\n",
    "import numpy as np\n",
    "# from tensorboard.plugins.hparams import api as hp\n",
    "import tensorflow as tf\n",
    "from utils import get_data, plot_predicted_vs_true, custom_r2, custom_adj_r2, ROOT_DIR\n",
    "from datetime import datetime\n",
    "from shutil import rmtree\n",
    "import os\n",
    "import sys\n",
    "\n",
    "%load_ext autoreload\n",
    "%autoreload 2"
   ]
  },
  {
   "cell_type": "code",
   "execution_count": 13,
   "metadata": {},
   "outputs": [],
   "source": [
    "TRAINING = True\n",
    "CLEAN = False\n",
    "\n",
    "if len(sys.argv) > 1:\n",
    "    if sys.argv[1] == \"train\":\n",
    "        TRAINING = True\n",
    "    if sys.argv[1] == \"clean\":\n",
    "        CLEAN = True\n"
   ]
  },
  {
   "cell_type": "code",
   "execution_count": 14,
   "metadata": {},
   "outputs": [],
   "source": [
    "begin = datetime.now()\n",
    "# This set seeds to make the result reproducible\n",
    "# reproduce(0)\n",
    "\n",
    "\n",
    "tensorboard = TensorBoard(log_dir=ROOT_DIR + \"/logs/\")\n",
    "\n",
    "# read in data using pandas\n",
    "\n",
    "X_train, Y_train, X_validation, Y_validation, X_test, Y_test = get_data()\n",
    "\n",
    "# get number of columns in training data\n",
    "#validation_split_rate = 0.2\n",
    "#n_units_of_N_layer = 128\n",
    "n_cols = X_train.shape[1]\n",
    "#train_total = X_train.shape[0]\n",
    "#batch_size = int(np.floor((1 - validation_split_rate) * train_total))"
   ]
  },
  {
   "cell_type": "code",
   "execution_count": 15,
   "metadata": {},
   "outputs": [
    {
     "data": {
      "text/plain": [
       "[0.01, 0.005, 0.0025, 0.00125, 0.000625, 0.0003125]"
      ]
     },
     "execution_count": 15,
     "metadata": {},
     "output_type": "execute_result"
    }
   ],
   "source": [
    "[0.01 / 2**val for val in range(6)]"
   ]
  },
  {
   "cell_type": "code",
   "execution_count": 16,
   "metadata": {},
   "outputs": [],
   "source": [
    "def build_model(hp):\n",
    "    model = Sequential()\n",
    "    model.add(InputLayer(input_shape=(n_cols,)))\n",
    "\n",
    "    num_units_per_layer = hp.Int('units_per_hidden_layer', min_value=32,\n",
    "                                 max_value=4096, step=32)\n",
    "    dropout_rate_per_layer = hp.Float('dropout_per_hidden_layer', min_value=0.0,\n",
    "                                      max_value=0.9, step=0.1, default=0.5)\n",
    "\n",
    "    for i in range(hp.Choice('num_layers', values=[1])):\n",
    "        model.add(Dense(units=num_units_per_layer,\n",
    "                        kernel_initializer='he_uniform',\n",
    "                        bias_initializer='zeros'))\n",
    "        model.add(BatchNormalization())\n",
    "        model.add(Activation(\"relu\"))\n",
    "        model.add(Dropout(rate=dropout_rate_per_layer))\n",
    "\n",
    "    model.add(Dense(1, \n",
    "                    kernel_initializer='he_uniform',\n",
    "                    bias_initializer='zeros'))\n",
    "    model.add(BatchNormalization())\n",
    "    model.add(Activation(\"relu\"))\n",
    "    \n",
    "    model.compile(optimizer=Adam(hp.Choice('learning_rate',\n",
    "                                           values=[0.01, 0.005, 0.0025, 0.00125, 0.000625, 0.0003125])),\n",
    "                  loss='mean_squared_error',\n",
    "                  metrics=[metrics.RootMeanSquaredError(), metrics.MeanAbsoluteError(), metrics.MeanAbsolutePercentageError(), metrics.MeanSquaredLogarithmicError()])\n",
    "    return model"
   ]
  },
  {
   "cell_type": "code",
   "execution_count": 17,
   "metadata": {},
   "outputs": [],
   "source": [
    "max_trial = 1000"
   ]
  },
  {
   "cell_type": "code",
   "execution_count": 18,
   "metadata": {},
   "outputs": [
    {
     "name": "stdout",
     "output_type": "stream",
     "text": [
      "INFO:tensorflow:Reloading Oracle from existing project /all/random-search/covid-19-nn/oracle.json\n",
      "INFO:tensorflow:Reloading Tuner from /all/random-search/covid-19-nn/tuner0.json\n"
     ]
    },
    {
     "data": {
      "text/html": [
       "<span style=\"color:#4527A0\"><h1 style=\"font-size:18px\">Search space summary</h1></span>"
      ],
      "text/plain": [
       "<IPython.core.display.HTML object>"
      ]
     },
     "metadata": {},
     "output_type": "display_data"
    },
    {
     "data": {
      "text/html": [
       "<span style=\"color:cyan\"> |-Default search space size: 4</span>"
      ],
      "text/plain": [
       "<IPython.core.display.HTML object>"
      ]
     },
     "metadata": {},
     "output_type": "display_data"
    },
    {
     "data": {
      "text/html": [
       "<span style=\"color:#7E57C2\"><h2 style=\"font-size:16px\">units_per_hidden_layer (Int)</h2></span>"
      ],
      "text/plain": [
       "<IPython.core.display.HTML object>"
      ]
     },
     "metadata": {},
     "output_type": "display_data"
    },
    {
     "data": {
      "text/html": [
       "<span style=\"color:cyan\"> |-default: None</span>"
      ],
      "text/plain": [
       "<IPython.core.display.HTML object>"
      ]
     },
     "metadata": {},
     "output_type": "display_data"
    },
    {
     "data": {
      "text/html": [
       "<span style=\"color:blue\"> |-max_value: 4096</span>"
      ],
      "text/plain": [
       "<IPython.core.display.HTML object>"
      ]
     },
     "metadata": {},
     "output_type": "display_data"
    },
    {
     "data": {
      "text/html": [
       "<span style=\"color:cyan\"> |-min_value: 32</span>"
      ],
      "text/plain": [
       "<IPython.core.display.HTML object>"
      ]
     },
     "metadata": {},
     "output_type": "display_data"
    },
    {
     "data": {
      "text/html": [
       "<span style=\"color:blue\"> |-sampling: None</span>"
      ],
      "text/plain": [
       "<IPython.core.display.HTML object>"
      ]
     },
     "metadata": {},
     "output_type": "display_data"
    },
    {
     "data": {
      "text/html": [
       "<span style=\"color:cyan\"> |-step: 32</span>"
      ],
      "text/plain": [
       "<IPython.core.display.HTML object>"
      ]
     },
     "metadata": {},
     "output_type": "display_data"
    },
    {
     "data": {
      "text/html": [
       "<span style=\"color:#7E57C2\"><h2 style=\"font-size:16px\">dropout_per_hidden_layer (Float)</h2></span>"
      ],
      "text/plain": [
       "<IPython.core.display.HTML object>"
      ]
     },
     "metadata": {},
     "output_type": "display_data"
    },
    {
     "data": {
      "text/html": [
       "<span style=\"color:cyan\"> |-default: 0.5</span>"
      ],
      "text/plain": [
       "<IPython.core.display.HTML object>"
      ]
     },
     "metadata": {},
     "output_type": "display_data"
    },
    {
     "data": {
      "text/html": [
       "<span style=\"color:blue\"> |-max_value: 0.9</span>"
      ],
      "text/plain": [
       "<IPython.core.display.HTML object>"
      ]
     },
     "metadata": {},
     "output_type": "display_data"
    },
    {
     "data": {
      "text/html": [
       "<span style=\"color:cyan\"> |-min_value: 0.0</span>"
      ],
      "text/plain": [
       "<IPython.core.display.HTML object>"
      ]
     },
     "metadata": {},
     "output_type": "display_data"
    },
    {
     "data": {
      "text/html": [
       "<span style=\"color:blue\"> |-sampling: None</span>"
      ],
      "text/plain": [
       "<IPython.core.display.HTML object>"
      ]
     },
     "metadata": {},
     "output_type": "display_data"
    },
    {
     "data": {
      "text/html": [
       "<span style=\"color:cyan\"> |-step: 0.1</span>"
      ],
      "text/plain": [
       "<IPython.core.display.HTML object>"
      ]
     },
     "metadata": {},
     "output_type": "display_data"
    },
    {
     "data": {
      "text/html": [
       "<span style=\"color:#7E57C2\"><h2 style=\"font-size:16px\">num_layers (Choice)</h2></span>"
      ],
      "text/plain": [
       "<IPython.core.display.HTML object>"
      ]
     },
     "metadata": {},
     "output_type": "display_data"
    },
    {
     "data": {
      "text/html": [
       "<span style=\"color:cyan\"> |-default: 1</span>"
      ],
      "text/plain": [
       "<IPython.core.display.HTML object>"
      ]
     },
     "metadata": {},
     "output_type": "display_data"
    },
    {
     "data": {
      "text/html": [
       "<span style=\"color:blue\"> |-ordered: True</span>"
      ],
      "text/plain": [
       "<IPython.core.display.HTML object>"
      ]
     },
     "metadata": {},
     "output_type": "display_data"
    },
    {
     "data": {
      "text/html": [
       "<span style=\"color:cyan\"> |-values: [1]</span>"
      ],
      "text/plain": [
       "<IPython.core.display.HTML object>"
      ]
     },
     "metadata": {},
     "output_type": "display_data"
    },
    {
     "data": {
      "text/html": [
       "<span style=\"color:#7E57C2\"><h2 style=\"font-size:16px\">learning_rate (Choice)</h2></span>"
      ],
      "text/plain": [
       "<IPython.core.display.HTML object>"
      ]
     },
     "metadata": {},
     "output_type": "display_data"
    },
    {
     "data": {
      "text/html": [
       "<span style=\"color:cyan\"> |-default: 0.01</span>"
      ],
      "text/plain": [
       "<IPython.core.display.HTML object>"
      ]
     },
     "metadata": {},
     "output_type": "display_data"
    },
    {
     "data": {
      "text/html": [
       "<span style=\"color:blue\"> |-ordered: True</span>"
      ],
      "text/plain": [
       "<IPython.core.display.HTML object>"
      ]
     },
     "metadata": {},
     "output_type": "display_data"
    },
    {
     "data": {
      "text/html": [
       "<span style=\"color:cyan\"> |-values: [0.01, 0.005, 0.0025, 0.00125, 0.000625, 0.0003125]</span>"
      ],
      "text/plain": [
       "<IPython.core.display.HTML object>"
      ]
     },
     "metadata": {},
     "output_type": "display_data"
    }
   ],
   "source": [
    "tuner = RandomSearch(\n",
    "    build_model,\n",
    "    seed=0,\n",
    "    objective=\"val_loss\",\n",
    "    max_trials=max_trial,\n",
    "    executions_per_trial=3,\n",
    "    directory=ROOT_DIR + \"/random-search\",\n",
    "    project_name=\"covid-19-nn\")\n",
    "\n",
    "if TRAINING:\n",
    "    tuner.search_space_summary()"
   ]
  },
  {
   "cell_type": "code",
   "execution_count": 19,
   "metadata": {
    "scrolled": true
   },
   "outputs": [
    {
     "name": "stdout",
     "output_type": "stream",
     "text": [
      "INFO:tensorflow:Oracle triggered exit\n"
     ]
    }
   ],
   "source": [
    "early_stopping_monitor = EarlyStopping(monitor=\"val_loss\", patience=100)\n",
    "# Use .values to convert pandas dataframe to numpy array\n",
    "# To avoid the Warning -> WARNING:tensorflow:Falling back from v2 loop because of error: Failed to find data adapter that can handle input: <class 'pandas.core.frame.DataFrame'>, <class 'NoneType'>\n",
    "tuner.search(X_train.values, Y_train.values,\n",
    "             epochs=10000,\n",
    "             batch_size=96,\n",
    "             validation_data=(X_validation.values, Y_validation.values),\n",
    "             verbose=0,\n",
    "             callbacks=[early_stopping_monitor])"
   ]
  },
  {
   "cell_type": "code",
   "execution_count": null,
   "metadata": {},
   "outputs": [],
   "source": [
    "if CLEAN:\n",
    "    # all other trial_ids than top 3\n",
    "    trial_ids_to_remove = [best_trial.trial_id for best_trial in tuner.oracle.get_best_trials(\n",
    "        num_trials=max_trial)[3:]]\n",
    "\n",
    "    for trial_id in trial_ids_to_remove:\n",
    "        rsPath = ROOT_DIR + \"/random-search/covid-19-nn/trial_{}\".format(trial_id)\n",
    "        logsPath = ROOT_DIR + \"/logs/{}\".format(trial_id)\n",
    "        if os.path.isdir(rsPath):\n",
    "            rmtree(rsPath)\n",
    "        if os.path.isdir(logsPath):\n",
    "            rmtree(logsPath)"
   ]
  },
  {
   "cell_type": "code",
   "execution_count": 26,
   "metadata": {},
   "outputs": [
    {
     "name": "stdout",
     "output_type": "stream",
     "text": [
      "######## GET BEST MODELS ########\n",
      "5/5 [==============================] - ETA: 0s - loss: 0.4989 - root_mean_squared_error: 0.7064 - mean_absolute_error: 0.4897 - mean_absolute_percentage_error: 3693531.2500 - mean_squared_logarithmic_error: 0.113 - 0s 4ms/step - loss: 0.4887 - root_mean_squared_error: 0.6991 - mean_absolute_error: 0.4648 - mean_absolute_percentage_error: 3791113.2500 - mean_squared_logarithmic_error: 0.1093\n",
      "Model: \"sequential\"\n",
      "_________________________________________________________________\n",
      "Layer (type)                 Output Shape              Param #   \n",
      "=================================================================\n",
      "dense (Dense)                (None, 64)                512       \n",
      "_________________________________________________________________\n",
      "batch_normalization (BatchNo (None, 64)                256       \n",
      "_________________________________________________________________\n",
      "activation (Activation)      (None, 64)                0         \n",
      "_________________________________________________________________\n",
      "dropout (Dropout)            (None, 64)                0         \n",
      "_________________________________________________________________\n",
      "dense_1 (Dense)              (None, 1)                 65        \n",
      "_________________________________________________________________\n",
      "batch_normalization_1 (Batch (None, 1)                 4         \n",
      "_________________________________________________________________\n",
      "activation_1 (Activation)    (None, 1)                 0         \n",
      "=================================================================\n",
      "Total params: 837\n",
      "Trainable params: 707\n",
      "Non-trainable params: 130\n",
      "_________________________________________________________________\n",
      "None\n",
      "[0.48873370885849, 0.6990948915481567, 0.46475982666015625, 3791113.25, 0.10925884544849396]\n",
      "Mean Squared Error 0.6990948915481567\n"
     ]
    },
    {
     "data": {
      "text/html": [
       "<span style=\"color:#4527A0\"><h1 style=\"font-size:18px\">Results summary</h1></span>"
      ],
      "text/plain": [
       "<IPython.core.display.HTML object>"
      ]
     },
     "metadata": {},
     "output_type": "display_data"
    },
    {
     "data": {
      "text/html": [
       "<span style=\"color:cyan\"> |-Results in /all/random-search/covid-19-nn</span>"
      ],
      "text/plain": [
       "<IPython.core.display.HTML object>"
      ]
     },
     "metadata": {},
     "output_type": "display_data"
    },
    {
     "data": {
      "text/html": [
       "<span style=\"color:cyan\"> |-Showing 1 best trials</span>"
      ],
      "text/plain": [
       "<IPython.core.display.HTML object>"
      ]
     },
     "metadata": {},
     "output_type": "display_data"
    },
    {
     "data": {
      "text/html": [
       "<span style=\"color:cyan\"> |-Objective(name='val_loss', direction='min')</span>"
      ],
      "text/plain": [
       "<IPython.core.display.HTML object>"
      ]
     },
     "metadata": {},
     "output_type": "display_data"
    },
    {
     "data": {
      "text/html": [
       "<span style=\"color:#4527A0\"><h1 style=\"font-size:18px\">Trial summary</h1></span>"
      ],
      "text/plain": [
       "<IPython.core.display.HTML object>"
      ]
     },
     "metadata": {},
     "output_type": "display_data"
    },
    {
     "data": {
      "text/html": [
       "<span style=\"color:cyan\"> |-Trial ID: 15d27359394dd5e84b5b970d8260c7b4</span>"
      ],
      "text/plain": [
       "<IPython.core.display.HTML object>"
      ]
     },
     "metadata": {},
     "output_type": "display_data"
    },
    {
     "data": {
      "text/html": [
       "<span style=\"color:cyan\"> |-Score: 0.5116623044013977</span>"
      ],
      "text/plain": [
       "<IPython.core.display.HTML object>"
      ]
     },
     "metadata": {},
     "output_type": "display_data"
    },
    {
     "data": {
      "text/html": [
       "<span style=\"color:cyan\"> |-Best step: 0</span>"
      ],
      "text/plain": [
       "<IPython.core.display.HTML object>"
      ]
     },
     "metadata": {},
     "output_type": "display_data"
    },
    {
     "data": {
      "text/html": [
       "<span style=\"color:#7E57C2\"><h2 style=\"font-size:16px\">Hyperparameters:</h2></span>"
      ],
      "text/plain": [
       "<IPython.core.display.HTML object>"
      ]
     },
     "metadata": {},
     "output_type": "display_data"
    },
    {
     "data": {
      "text/html": [
       "<span style=\"color:cyan\"> |-dropout_per_hidden_layer: 0.8</span>"
      ],
      "text/plain": [
       "<IPython.core.display.HTML object>"
      ]
     },
     "metadata": {},
     "output_type": "display_data"
    },
    {
     "data": {
      "text/html": [
       "<span style=\"color:blue\"> |-learning_rate: 0.005</span>"
      ],
      "text/plain": [
       "<IPython.core.display.HTML object>"
      ]
     },
     "metadata": {},
     "output_type": "display_data"
    },
    {
     "data": {
      "text/html": [
       "<span style=\"color:cyan\"> |-num_layers: 1</span>"
      ],
      "text/plain": [
       "<IPython.core.display.HTML object>"
      ]
     },
     "metadata": {},
     "output_type": "display_data"
    },
    {
     "data": {
      "text/html": [
       "<span style=\"color:blue\"> |-units_per_hidden_layer: 64</span>"
      ],
      "text/plain": [
       "<IPython.core.display.HTML object>"
      ]
     },
     "metadata": {},
     "output_type": "display_data"
    },
    {
     "name": "stdout",
     "output_type": "stream",
     "text": [
      "None\n",
      "R2: 0.27664662077677793\n",
      "Adj. R2: 0.1876185125646891\n",
      "######## SUMMARY ########\n",
      "Overall Runtime: 0:25:33.432705\n",
      "1/1 [==============================] - ETA: 0s - loss: 0.3375 - root_mean_squared_error: 0.5810 - mean_absolute_error: 0.3970 - mean_absolute_percentage_error: 840378.0000 - mean_squared_logarithmic_error: 0.08 - 0s 3ms/step - loss: 0.3375 - root_mean_squared_error: 0.5810 - mean_absolute_error: 0.3970 - mean_absolute_percentage_error: 840378.0000 - mean_squared_logarithmic_error: 0.0822\n",
      "1/1 [==============================] - ETA: 0s - loss: 0.5081 - root_mean_squared_error: 0.7128 - mean_absolute_error: 0.4655 - mean_absolute_percentage_error: 1349490.2500 - mean_squared_logarithmic_error: 0.112 - 0s 3ms/step - loss: 0.5081 - root_mean_squared_error: 0.7128 - mean_absolute_error: 0.4655 - mean_absolute_percentage_error: 1349490.2500 - mean_squared_logarithmic_error: 0.1125\n",
      "1/1 [==============================] - ETA: 0s - loss: 0.4887 - root_mean_squared_error: 0.6991 - mean_absolute_error: 0.4648 - mean_absolute_percentage_error: 3791112.7500 - mean_squared_logarithmic_error: 0.109 - 0s 4ms/step - loss: 0.4887 - root_mean_squared_error: 0.6991 - mean_absolute_error: 0.4648 - mean_absolute_percentage_error: 3791112.7500 - mean_squared_logarithmic_error: 0.1093\n"
     ]
    },
    {
     "data": {
      "image/png": "[encoded data removed]",
      "text/plain": [
       "<Figure size 1152x288 with 3 Axes>"
      ]
     },
     "metadata": {
      "needs_background": "light"
     },
     "output_type": "display_data"
    },
    {
     "name": "stdout",
     "output_type": "stream",
     "text": [
      "INFO:tensorflow:Assets written to: /all/best-models/one-hidden-layer-2/assets\n"
     ]
    }
   ],
   "source": [
    "print(\"######## GET BEST MODELS ########\")\n",
    "models = tuner.get_best_models()\n",
    "evaluation = models[0].evaluate(X_test.values, Y_test.values)\n",
    "print(models[0].summary())\n",
    "print(evaluation)\n",
    "print(\"Mean Squared Error\", evaluation[1])\n",
    "\n",
    "print(tuner.results_summary(1))\n",
    "\n",
    "print(\"R2:\", custom_r2(evaluation[0], Y_test.to_numpy()))\n",
    "print(\"Adj. R2:\", custom_adj_r2(evaluation[0], Y_test.to_numpy(), 16))\n",
    "\n",
    "print(\"######## SUMMARY ########\")\n",
    "print(\"Overall Runtime:\", datetime.now() - begin)\n",
    "\n",
    "# if not TRAINING and not CLEAN:\n",
    "plot_predicted_vs_true(Xs=[X_train, X_validation, X_test],\n",
    "                       Ys=[Y_train, Y_validation, Y_test],\n",
    "                       model=models[0])\n",
    "\n",
    "# # Save the best model\n",
    "models[0].save(ROOT_DIR + \"/best-models/one-hidden-layer-2\")\n",
    "\n",
    "\n",
    "# # Instantiate a model with the best hyperparameters -> makes the model retrainable\n",
    "# best_hp = tuner.get_best_hyperparameters()[0]\n",
    "# mode_of_best_hp = tuner.hypermodel.build(best_hp)\n",
    "# print(mode_of_best_hp.evaluate(X_test, Y_test))\n",
    "# mode_of_best_hp.fit(X_train, Y_train, batch_size=train_total, validation_data=(X_validation, Y_validation),\n",
    "#           epochs=1000, verbose=1, callbacks=[])\n"
   ]
  },
  {
   "cell_type": "code",
   "execution_count": 21,
   "metadata": {},
   "outputs": [
    {
     "name": "stdout",
     "output_type": "stream",
     "text": [
      "5/5 [==============================] - ETA: 0s - loss: 0.9198 - root_mean_squared_error: 0.9591 - mean_absolute_error: 0.7329 - mean_absolute_percentage_error: 265288.9062 - mean_squared_logarithmic_error: 0.20 - 0s 10ms/step - loss: 1.1096 - root_mean_squared_error: 1.0534 - mean_absolute_error: 0.7369 - mean_absolute_percentage_error: 3986315.7500 - mean_squared_logarithmic_error: 0.2607\n",
      "[1.1096388101577759, 1.0533939599990845, 0.7369298338890076, 3986315.75, 0.26072609424591064]\n"
     ]
    }
   ],
   "source": [
    "# Instantiate a model with the best hyperparameters -> makes the model retrainable\n",
    "best_hp = tuner.get_best_hyperparameters()[0]\n",
    "mode_of_best_hp = tuner.hypermodel.build(best_hp)\n",
    "print(mode_of_best_hp.evaluate(X_test, Y_test))\n"
   ]
  },
  {
   "cell_type": "code",
   "execution_count": null,
   "metadata": {
    "scrolled": true
   },
   "outputs": [],
   "source": [
    "history = mode_of_best_hp.fit(X_train, Y_train, batch_size=96, validation_data=(X_validation, Y_validation),\n",
    "          epochs=1000, verbose=2, callbacks=[early_stopping_monitor])"
   ]
  },
  {
   "cell_type": "code",
   "execution_count": null,
   "metadata": {
    "scrolled": true
   },
   "outputs": [],
   "source": [
    "history.history"
   ]
  },
  {
   "cell_type": "code",
   "execution_count": 25,
   "metadata": {},
   "outputs": [
    {
     "ename": "AttributeError",
     "evalue": "'str' object has no attribute 'hyperparameters'",
     "output_type": "error",
     "traceback": [
      "\u001b[0;31m---------------------------------------------------------------------------\u001b[0m",
      "\u001b[0;31mAttributeError\u001b[0m                            Traceback (most recent call last)",
      "\u001b[0;32m<ipython-input-25-616d0fb2f93f>\u001b[0m in \u001b[0;36m<module>\u001b[0;34m\u001b[0m\n\u001b[0;32m----> 1\u001b[0;31m \u001b[0mtuner\u001b[0m\u001b[0;34m.\u001b[0m\u001b[0mload_model\u001b[0m\u001b[0;34m(\u001b[0m\u001b[0;34m\"15d27359394dd5e84b5b970d8260c7b4\"\u001b[0m\u001b[0;34m)\u001b[0m\u001b[0;34m\u001b[0m\u001b[0;34m\u001b[0m\u001b[0m\n\u001b[0m",
      "\u001b[0;32m/usr/local/envs/bachelor/lib/python3.7/site-packages/kerastuner/engine/tuner.py\u001b[0m in \u001b[0;36mload_model\u001b[0;34m(self, trial)\u001b[0m\n\u001b[1;32m    148\u001b[0m \u001b[0;34m\u001b[0m\u001b[0m\n\u001b[1;32m    149\u001b[0m     \u001b[0;32mdef\u001b[0m \u001b[0mload_model\u001b[0m\u001b[0;34m(\u001b[0m\u001b[0mself\u001b[0m\u001b[0;34m,\u001b[0m \u001b[0mtrial\u001b[0m\u001b[0;34m)\u001b[0m\u001b[0;34m:\u001b[0m\u001b[0;34m\u001b[0m\u001b[0;34m\u001b[0m\u001b[0m\n\u001b[0;32m--> 150\u001b[0;31m         \u001b[0mmodel\u001b[0m \u001b[0;34m=\u001b[0m \u001b[0mself\u001b[0m\u001b[0;34m.\u001b[0m\u001b[0mhypermodel\u001b[0m\u001b[0;34m.\u001b[0m\u001b[0mbuild\u001b[0m\u001b[0;34m(\u001b[0m\u001b[0mtrial\u001b[0m\u001b[0;34m.\u001b[0m\u001b[0mhyperparameters\u001b[0m\u001b[0;34m)\u001b[0m\u001b[0;34m\u001b[0m\u001b[0;34m\u001b[0m\u001b[0m\n\u001b[0m\u001b[1;32m    151\u001b[0m         \u001b[0;31m# Reload best checkpoint. The Oracle scores the Trial and also\u001b[0m\u001b[0;34m\u001b[0m\u001b[0;34m\u001b[0m\u001b[0;34m\u001b[0m\u001b[0m\n\u001b[1;32m    152\u001b[0m         \u001b[0;31m# indicates at what epoch the best value of the objective was\u001b[0m\u001b[0;34m\u001b[0m\u001b[0;34m\u001b[0m\u001b[0;34m\u001b[0m\u001b[0m\n",
      "\u001b[0;31mAttributeError\u001b[0m: 'str' object has no attribute 'hyperparameters'"
     ]
    }
   ],
   "source": [
    "tuner.load_model(\"15d27359394dd5e84b5b970d8260c7b4\")"
   ]
  },
  {
   "cell_type": "code",
   "execution_count": null,
   "metadata": {},
   "outputs": [],
   "source": []
  }
 ],
 "metadata": {
  "kernelspec": {
   "display_name": "Python 3",
   "language": "python",
   "name": "python3"
  },
  "language_info": {
   "codemirror_mode": {
    "name": "ipython",
    "version": 3
   },
   "file_extension": ".py",
   "mimetype": "text/x-python",
   "name": "python",
   "nbconvert_exporter": "python",
   "pygments_lexer": "ipython3",
   "version": "3.7.8"
  }
 },
 "nbformat": 4,
 "nbformat_minor": 4
}
