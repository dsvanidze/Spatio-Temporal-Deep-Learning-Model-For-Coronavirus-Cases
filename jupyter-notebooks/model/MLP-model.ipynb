{
 "cells": [
  {
   "cell_type": "code",
   "execution_count": 1,
   "metadata": {},
   "outputs": [],
   "source": [
    "import sys\n",
    "import os\n",
    "\n",
    "# Add ROOT/model path to load own modules\n",
    "model_path = os.path.normpath(os.path.join(os.getcwd(), *[os.pardir]*2, \"model\"))\n",
    "sys.path.insert(0, model_path)"
   ]
  },
  {
   "cell_type": "code",
   "execution_count": 2,
   "metadata": {},
   "outputs": [],
   "source": [
    "from tensorflow import keras\n",
    "from tensorflow.keras import layers\n",
    "from tensorflow.keras.models import Sequential\n",
    "from tensorflow.keras.layers import Dense, BatchNormalization, Dropout, Activation, Lambda, InputLayer\n",
    "from tensorflow.keras.optimizers import SGD, RMSprop, Adam, Adadelta, Adagrad, Adamax, Nadam, Ftrl\n",
    "from kerastuner.tuners import RandomSearch\n",
    "from tensorflow.keras import metrics\n",
    "from keras.callbacks import TensorBoard, EarlyStopping\n",
    "\n",
    "import matplotlib.pyplot as plt\n",
    "# from keras import metrics\n",
    "import pandas as pd\n",
    "# from reproduce import reproduce\n",
    "import numpy as np\n",
    "# from tensorboard.plugins.hparams import api as hp\n",
    "import tensorflow as tf\n",
    "from utils import get_data, plot_predicted_vs_true, custom_r2, custom_adj_r2, ROOT_DIR\n",
    "from datetime import datetime\n",
    "from shutil import rmtree\n",
    "import os\n",
    "import sys\n",
    "\n",
    "%load_ext autoreload\n",
    "%autoreload 2"
   ]
  },
  {
   "cell_type": "code",
   "execution_count": 3,
   "metadata": {},
   "outputs": [
    {
     "data": {
      "text/plain": [
       "'\\nTRAINING = True\\nCLEAN = False\\n\\nif len(sys.argv) > 1:\\n    if sys.argv[1] == \"train\":\\n        TRAINING = True\\n    if sys.argv[1] == \"clean\":\\n        CLEAN = True\\n'"
      ]
     },
     "execution_count": 3,
     "metadata": {},
     "output_type": "execute_result"
    }
   ],
   "source": [
    "'''\n",
    "TRAINING = True\n",
    "CLEAN = False\n",
    "\n",
    "if len(sys.argv) > 1:\n",
    "    if sys.argv[1] == \"train\":\n",
    "        TRAINING = True\n",
    "    if sys.argv[1] == \"clean\":\n",
    "        CLEAN = True\n",
    "'''"
   ]
  },
  {
   "cell_type": "code",
   "execution_count": 4,
   "metadata": {},
   "outputs": [],
   "source": [
    "begin = datetime.now()\n",
    "# This set seeds to make the result reproducible\n",
    "# reproduce(0)\n",
    "\n",
    "\n",
    "#tensorboard = TensorBoard(log_dir=ROOT_DIR + \"/logs/\")\n",
    "\n",
    "# read in data using pandas\n",
    "\n",
    "X_train, Y_train, X_validation, Y_validation, X_test, Y_test = get_data()\n",
    "\n",
    "# get number of columns in training data\n",
    "#validation_split_rate = 0.2\n",
    "#n_units_of_N_layer = 128\n",
    "n_cols = X_train.shape[1]\n",
    "#train_total = X_train.shape[0]\n",
    "#batch_size = int(np.floor((1 - validation_split_rate) * train_total))"
   ]
  },
  {
   "cell_type": "code",
   "execution_count": 5,
   "metadata": {},
   "outputs": [],
   "source": [
    "def build_model(hp):\n",
    "    model = Sequential()\n",
    "    model.add(InputLayer(input_shape=(n_cols,)))\n",
    "\n",
    "    num_units_per_layer = hp.Int('units_per_hidden_layer', min_value=32,\n",
    "                                 max_value=4096, step=32)\n",
    "    dropout_rate_per_layer = hp.Float('dropout_per_hidden_layer', min_value=0.0,\n",
    "                                      max_value=0.9, step=0.1, default=0.5)\n",
    "\n",
    "    for i in range(hp.Choice('num_layers', values=[2])):\n",
    "        model.add(Dense(units=num_units_per_layer,\n",
    "                        kernel_initializer='he_uniform',\n",
    "                        bias_initializer='zeros'))\n",
    "        model.add(BatchNormalization())\n",
    "        model.add(Activation(\"relu\"))\n",
    "        model.add(Dropout(rate=dropout_rate_per_layer))\n",
    "\n",
    "    model.add(Dense(1, \n",
    "                    kernel_initializer='he_uniform',\n",
    "                    bias_initializer='zeros'))\n",
    "    model.add(BatchNormalization())\n",
    "    model.add(Activation(\"relu\"))\n",
    "    \n",
    "    model.compile(optimizer=Adam(hp.Choice('learning_rate',\n",
    "                                           values=[0.01, 0.005, 0.0025, 0.00125, 0.000625, 0.0003125])),\n",
    "                  loss='mean_squared_error',\n",
    "                  metrics=[metrics.RootMeanSquaredError(), metrics.MeanAbsoluteError(), metrics.MeanAbsolutePercentageError(), metrics.MeanSquaredLogarithmicError()])\n",
    "    return model"
   ]
  },
  {
   "cell_type": "code",
   "execution_count": 6,
   "metadata": {},
   "outputs": [],
   "source": [
    "TRAINING = False"
   ]
  },
  {
   "cell_type": "code",
   "execution_count": 7,
   "metadata": {},
   "outputs": [],
   "source": [
    "max_trial = 1000"
   ]
  },
  {
   "cell_type": "code",
   "execution_count": 8,
   "metadata": {},
   "outputs": [
    {
     "name": "stdout",
     "output_type": "stream",
     "text": [
      "INFO:tensorflow:Reloading Oracle from existing project /all/random-search/covid-19-nn-2/oracle.json\n",
      "INFO:tensorflow:Reloading Tuner from /all/random-search/covid-19-nn-2/tuner0.json\n"
     ]
    }
   ],
   "source": [
    "tuner = RandomSearch(\n",
    "    build_model,\n",
    "    seed=0,\n",
    "    objective=\"val_loss\",\n",
    "    max_trials=max_trial,\n",
    "    executions_per_trial=3,\n",
    "    directory=ROOT_DIR + \"/random-search\",\n",
    "    project_name=\"covid-19-nn-2\")\n",
    "\n",
    "if TRAINING:\n",
    "    tuner.search_space_summary()"
   ]
  },
  {
   "cell_type": "code",
   "execution_count": 9,
   "metadata": {
    "scrolled": true
   },
   "outputs": [],
   "source": [
    "if TRAINING:\n",
    "    early_stopping_monitor = EarlyStopping(monitor=\"val_loss\", patience=100)\n",
    "    # Use .values to convert pandas dataframe to numpy array\n",
    "    # To avoid the Warning -> WARNING:tensorflow:Falling back from v2 loop because of error: Failed to find data adapter that can handle input: <class 'pandas.core.frame.DataFrame'>, <class 'NoneType'>\n",
    "    tuner.search(X_train.values, Y_train.values,\n",
    "                 epochs=10000,\n",
    "                 batch_size=96,\n",
    "                 validation_data=(X_validation.values, Y_validation.values),\n",
    "                 verbose=0,\n",
    "                 callbacks=[early_stopping_monitor])"
   ]
  },
  {
   "cell_type": "code",
   "execution_count": 10,
   "metadata": {},
   "outputs": [],
   "source": [
    "CLEAN = False\n",
    "\n",
    "if CLEAN:\n",
    "    # all other trial_ids than top 3\n",
    "    trial_ids_to_remove = [best_trial.trial_id for best_trial in tuner.oracle.get_best_trials(\n",
    "        num_trials=max_trial)[3:]]\n",
    "\n",
    "    for trial_id in trial_ids_to_remove:\n",
    "        rsPath = ROOT_DIR + \"/random-search/covid-19-nn-2/trial_{}\".format(trial_id)\n",
    "        logsPath = ROOT_DIR + \"/logs/{}\".format(trial_id)\n",
    "        if os.path.isdir(rsPath):\n",
    "            rmtree(rsPath)\n",
    "        if os.path.isdir(logsPath):\n",
    "            rmtree(logsPath)"
   ]
  },
  {
   "cell_type": "code",
   "execution_count": 11,
   "metadata": {},
   "outputs": [
    {
     "name": "stdout",
     "output_type": "stream",
     "text": [
      "######## GET BEST MODELS ########\n",
      "5/5 [==============================] - ETA: 0s - loss: 0.5134 - root_mean_squared_error: 0.7165 - mean_absolute_error: 0.5353 - mean_absolute_percentage_error: 144.3128 - mean_squared_logarithmic_error: 0.115 - 0s 6ms/step - loss: 0.4962 - root_mean_squared_error: 0.7044 - mean_absolute_error: 0.4785 - mean_absolute_percentage_error: 1431260.8750 - mean_squared_logarithmic_error: 0.1111\n",
      "Model: \"sequential\"\n",
      "_________________________________________________________________\n",
      "Layer (type)                 Output Shape              Param #   \n",
      "=================================================================\n",
      "dense (Dense)                (None, 128)               1024      \n",
      "_________________________________________________________________\n",
      "batch_normalization (BatchNo (None, 128)               512       \n",
      "_________________________________________________________________\n",
      "activation (Activation)      (None, 128)               0         \n",
      "_________________________________________________________________\n",
      "dropout (Dropout)            (None, 128)               0         \n",
      "_________________________________________________________________\n",
      "dense_1 (Dense)              (None, 128)               16512     \n",
      "_________________________________________________________________\n",
      "batch_normalization_1 (Batch (None, 128)               512       \n",
      "_________________________________________________________________\n",
      "activation_1 (Activation)    (None, 128)               0         \n",
      "_________________________________________________________________\n",
      "dropout_1 (Dropout)          (None, 128)               0         \n",
      "_________________________________________________________________\n",
      "dense_2 (Dense)              (None, 1)                 129       \n",
      "_________________________________________________________________\n",
      "batch_normalization_2 (Batch (None, 1)                 4         \n",
      "_________________________________________________________________\n",
      "activation_2 (Activation)    (None, 1)                 0         \n",
      "=================================================================\n",
      "Total params: 18,693\n",
      "Trainable params: 18,179\n",
      "Non-trainable params: 514\n",
      "_________________________________________________________________\n",
      "None\n",
      "[0.49622973799705505, 0.7044357657432556, 0.4784635603427887, 1431260.875, 0.11114779859781265]\n",
      "Mean Squared Error 0.7044357657432556\n"
     ]
    },
    {
     "data": {
      "text/html": [
       "<span style=\"color:#4527A0\"><h1 style=\"font-size:18px\">Results summary</h1></span>"
      ],
      "text/plain": [
       "<IPython.core.display.HTML object>"
      ]
     },
     "metadata": {},
     "output_type": "display_data"
    },
    {
     "data": {
      "text/html": [
       "<span style=\"color:cyan\"> |-Results in /all/random-search/covid-19-nn-2</span>"
      ],
      "text/plain": [
       "<IPython.core.display.HTML object>"
      ]
     },
     "metadata": {},
     "output_type": "display_data"
    },
    {
     "data": {
      "text/html": [
       "<span style=\"color:cyan\"> |-Showing 1 best trials</span>"
      ],
      "text/plain": [
       "<IPython.core.display.HTML object>"
      ]
     },
     "metadata": {},
     "output_type": "display_data"
    },
    {
     "data": {
      "text/html": [
       "<span style=\"color:cyan\"> |-Objective(name='val_loss', direction='min')</span>"
      ],
      "text/plain": [
       "<IPython.core.display.HTML object>"
      ]
     },
     "metadata": {},
     "output_type": "display_data"
    },
    {
     "data": {
      "text/html": [
       "<span style=\"color:#4527A0\"><h1 style=\"font-size:18px\">Trial summary</h1></span>"
      ],
      "text/plain": [
       "<IPython.core.display.HTML object>"
      ]
     },
     "metadata": {},
     "output_type": "display_data"
    },
    {
     "data": {
      "text/html": [
       "<span style=\"color:cyan\"> |-Trial ID: 65c4efa2234f6b65f6b521c16e12962c</span>"
      ],
      "text/plain": [
       "<IPython.core.display.HTML object>"
      ]
     },
     "metadata": {},
     "output_type": "display_data"
    },
    {
     "data": {
      "text/html": [
       "<span style=\"color:cyan\"> |-Score: 0.5086687405904134</span>"
      ],
      "text/plain": [
       "<IPython.core.display.HTML object>"
      ]
     },
     "metadata": {},
     "output_type": "display_data"
    },
    {
     "data": {
      "text/html": [
       "<span style=\"color:cyan\"> |-Best step: 0</span>"
      ],
      "text/plain": [
       "<IPython.core.display.HTML object>"
      ]
     },
     "metadata": {},
     "output_type": "display_data"
    },
    {
     "data": {
      "text/html": [
       "<span style=\"color:#7E57C2\"><h2 style=\"font-size:16px\">Hyperparameters:</h2></span>"
      ],
      "text/plain": [
       "<IPython.core.display.HTML object>"
      ]
     },
     "metadata": {},
     "output_type": "display_data"
    },
    {
     "data": {
      "text/html": [
       "<span style=\"color:cyan\"> |-dropout_per_hidden_layer: 0.9</span>"
      ],
      "text/plain": [
       "<IPython.core.display.HTML object>"
      ]
     },
     "metadata": {},
     "output_type": "display_data"
    },
    {
     "data": {
      "text/html": [
       "<span style=\"color:blue\"> |-learning_rate: 0.01</span>"
      ],
      "text/plain": [
       "<IPython.core.display.HTML object>"
      ]
     },
     "metadata": {},
     "output_type": "display_data"
    },
    {
     "data": {
      "text/html": [
       "<span style=\"color:cyan\"> |-num_layers: 2</span>"
      ],
      "text/plain": [
       "<IPython.core.display.HTML object>"
      ]
     },
     "metadata": {},
     "output_type": "display_data"
    },
    {
     "data": {
      "text/html": [
       "<span style=\"color:blue\"> |-units_per_hidden_layer: 128</span>"
      ],
      "text/plain": [
       "<IPython.core.display.HTML object>"
      ]
     },
     "metadata": {},
     "output_type": "display_data"
    },
    {
     "name": "stdout",
     "output_type": "stream",
     "text": [
      "None\n",
      "R2: 0.2655520760178307\n",
      "Adj. R2: 0.17515848537387135\n",
      "######## SUMMARY ########\n",
      "Overall Runtime: 0:00:04.456773\n"
     ]
    }
   ],
   "source": [
    "print(\"######## GET BEST MODELS ########\")\n",
    "models = tuner.get_best_models()\n",
    "evaluation = models[0].evaluate(X_test.values, Y_test.values)\n",
    "print(models[0].summary())\n",
    "print(evaluation)\n",
    "print(\"Mean Squared Error\", evaluation[1])\n",
    "\n",
    "print(tuner.results_summary(1))\n",
    "\n",
    "print(\"R2:\", custom_r2(evaluation[0], Y_test.to_numpy()))\n",
    "print(\"Adj. R2:\", custom_adj_r2(evaluation[0], Y_test.to_numpy(), 16))\n",
    "\n",
    "print(\"######## SUMMARY ########\")\n",
    "print(\"Overall Runtime:\", datetime.now() - begin)"
   ]
  },
  {
   "cell_type": "code",
   "execution_count": 12,
   "metadata": {},
   "outputs": [
    {
     "name": "stdout",
     "output_type": "stream",
     "text": [
      "WARNING:tensorflow:From /usr/local/envs/bachelor/lib/python3.7/site-packages/tensorflow/python/ops/resource_variable_ops.py:1817: calling BaseResourceVariable.__init__ (from tensorflow.python.ops.resource_variable_ops) with constraint is deprecated and will be removed in a future version.\n",
      "Instructions for updating:\n",
      "If using Keras pass *_constraint arguments to layers.\n",
      "INFO:tensorflow:Assets written to: /all/best-models/two-hidden-layers-2/assets\n",
      "1/1 [==============================] - ETA: 0s - loss: 0.3850 - root_mean_squared_error: 0.6205 - mean_absolute_error: 0.4218 - mean_absolute_percentage_error: 18513.4570 - mean_squared_logarithmic_error: 0.091 - 0s 4ms/step - loss: 0.3850 - root_mean_squared_error: 0.6205 - mean_absolute_error: 0.4218 - mean_absolute_percentage_error: 18513.4570 - mean_squared_logarithmic_error: 0.0915\n",
      "1/1 [==============================] - ETA: 0s - loss: 0.5079 - root_mean_squared_error: 0.7127 - mean_absolute_error: 0.4815 - mean_absolute_percentage_error: 158.0988 - mean_squared_logarithmic_error: 0.113 - 0s 5ms/step - loss: 0.5079 - root_mean_squared_error: 0.7127 - mean_absolute_error: 0.4815 - mean_absolute_percentage_error: 158.0988 - mean_squared_logarithmic_error: 0.1133\n",
      "1/1 [==============================] - ETA: 0s - loss: 0.4962 - root_mean_squared_error: 0.7044 - mean_absolute_error: 0.4785 - mean_absolute_percentage_error: 1431261.0000 - mean_squared_logarithmic_error: 0.111 - 0s 2ms/step - loss: 0.4962 - root_mean_squared_error: 0.7044 - mean_absolute_error: 0.4785 - mean_absolute_percentage_error: 1431261.0000 - mean_squared_logarithmic_error: 0.1111\n"
     ]
    },
    {
     "data": {
      "image/png": "[encoded data removed]",
      "text/plain": [
       "<Figure size 1152x288 with 3 Axes>"
      ]
     },
     "metadata": {
      "needs_background": "light"
     },
     "output_type": "display_data"
    }
   ],
   "source": [
    "# # Save the best model\n",
    "models[0].save(ROOT_DIR + \"/best-models/two-hidden-layers-2\")\n",
    "\n",
    "# if not TRAINING and not CLEAN:\n",
    "plot_predicted_vs_true(Xs=[X_train, X_validation, X_test],\n",
    "                       Ys=[Y_train, Y_validation, Y_test],\n",
    "                       model=models[0],\n",
    "                       path=ROOT_DIR + \"/best-models/two-hidden-layers-2/train-validation-test-plot.jpg\")"
   ]
  },
  {
   "cell_type": "code",
   "execution_count": 13,
   "metadata": {},
   "outputs": [
    {
     "name": "stdout",
     "output_type": "stream",
     "text": [
      "5/5 [==============================] - ETA: 0s - loss: 2.6189 - root_mean_squared_error: 1.6183 - mean_absolute_error: 1.1559 - mean_absolute_percentage_error: 455.6787 - mean_squared_logarithmic_error: 0.395 - 0s 7ms/step - loss: 3.1616 - root_mean_squared_error: 1.7781 - mean_absolute_error: 1.2769 - mean_absolute_percentage_error: 13159885.0000 - mean_squared_logarithmic_error: 0.4997\n",
      "[3.1616134643554688, 1.778092622756958, 1.2768815755844116, 13159885.0, 0.4996638894081116]\n"
     ]
    }
   ],
   "source": [
    "# Instantiate a model with the best hyperparameters -> makes the model retrainable\n",
    "best_hp = tuner.get_best_hyperparameters()[0]\n",
    "mode_of_best_hp = tuner.hypermodel.build(best_hp)\n",
    "print(mode_of_best_hp.evaluate(X_test, Y_test))\n"
   ]
  },
  {
   "cell_type": "code",
   "execution_count": null,
   "metadata": {
    "scrolled": true
   },
   "outputs": [],
   "source": [
    "history = mode_of_best_hp.fit(X_train, Y_train, batch_size=96, validation_data=(X_validation, Y_validation),\n",
    "          epochs=1000, verbose=2, callbacks=[early_stopping_monitor])"
   ]
  },
  {
   "cell_type": "code",
   "execution_count": null,
   "metadata": {
    "scrolled": true
   },
   "outputs": [],
   "source": [
    "history.history"
   ]
  },
  {
   "cell_type": "code",
   "execution_count": null,
   "metadata": {},
   "outputs": [],
   "source": [
    "tuner.load_model(\"15d27359394dd5e84b5b970d8260c7b4\")"
   ]
  },
  {
   "cell_type": "code",
   "execution_count": null,
   "metadata": {},
   "outputs": [],
   "source": [
    "np.squeeze(models[0].predict(X_test) == 0)"
   ]
  },
  {
   "cell_type": "code",
   "execution_count": null,
   "metadata": {},
   "outputs": [],
   "source": []
  }
 ],
 "metadata": {
  "kernelspec": {
   "display_name": "Python 3",
   "language": "python",
   "name": "python3"
  },
  "language_info": {
   "codemirror_mode": {
    "name": "ipython",
    "version": 3
   },
   "file_extension": ".py",
   "mimetype": "text/x-python",
   "name": "python",
   "nbconvert_exporter": "python",
   "pygments_lexer": "ipython3",
   "version": "3.7.8"
  }
 },
 "nbformat": 4,
 "nbformat_minor": 4
}
