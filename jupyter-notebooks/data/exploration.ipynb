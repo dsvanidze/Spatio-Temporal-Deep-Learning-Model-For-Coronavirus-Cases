{
 "cells": [
  {
   "cell_type": "code",
   "execution_count": 6,
   "metadata": {},
   "outputs": [
    {
     "name": "stdout",
     "output_type": "stream",
     "text": [
      "The autoreload extension is already loaded. To reload it, use:\n",
      "  %reload_ext autoreload\n"
     ]
    }
   ],
   "source": [
    "import matplotlib.pyplot as plt\n",
    "from sklearn.preprocessing import StandardScaler\n",
    "import pandas as pd\n",
    "import numpy as np\n",
    "\n",
    "%load_ext autoreload\n",
    "%autoreload 2\n",
    "\n",
    "%matplotlib inline"
   ]
  },
  {
   "cell_type": "markdown",
   "metadata": {},
   "source": [
    "# Description of Variables"
   ]
  },
  {
   "cell_type": "markdown",
   "metadata": {},
   "source": [
    " **Variable name** | **Description**                                                                                                                                                                            \n",
    ":-------------------|:--------------------------------------------------------------------------------------------------------------------------------------------------------------------------------------------\n",
    " pop               | NOT USED                                                                                                                                                                                          \n",
    " logpop            | NOT USED                                                                                                                                                                                          \n",
    " nbHF              | NOT USED                                                                                                                                                                                          \n",
    " adjpop            | NOT USED                                                                                                                                                                                          \n",
    " longitude         | Longitude, is a geographic coordinate that specifies the east–west position of a point on the Earth's surface, or the surface of a celestial body\\. UNIT: Degrees                          \n",
    " latitude          | Latitude, is a geographic coordinate that specifies the north–south position of a point on the Earth's surface\\. UNIT: Degrees                                                             \n",
    " sampling          | Whether or not was made a sample. Use this variable only for me to go through data and fill total_cases with logical values (Himalyas Example = 0 total_cases). Write an assumption in the thesis about this.                                                                                                                                                                                        \n",
    " total\\_cases      | Number of total COVID\\-19 cases for a given Longitude and Latitude\\. UNIT: Number of cases                                                                                                 \n",
    " adj\\_cases\\*      | Number of COVID\\-19 cases per 100,000 population for a given Longitude and Latitude\\. It is calculated by \\(total\\_cases/adjpop\\)\\*100000\\. UNIT: Number of cases per 100,000 population\\. \n",
    " Waccess            | Traveltime to Wuhan. (Higher means far from Wuhan, and low near to Wuhan)(Social Covariate)                                                                                                                                                                                         \n",
    " access             | This covariate indicates how near people are to cities measured by traveltime \\(Accessibility to cities >50,000 people\\) (Weiss 2018) (Social Covariate)                                                                                   \n",
    " elevation         | NOT USED                                                                                                                      \n",
    " aridity           | NOT USED\n",
    " irrigation        | NOT USED                                                                                                                                                                                          \n",
    " lst               | NOT USED Land-Surface Temperature (January). Satelite Data (!IMPORTANT). (Natural Covariate)                                                                                                                                                                                         \n",
    " pet               | Potential evapotranspiration (Something with humidity). MODIS Satelite Data (Natural Covariate)                                                                                                                                              \n",
    " pop\\.1            | Sum of population at pixel-level (STANDARDIZED) (Social Covariate)                                                                                                                                                                                          \n",
    " urban             | Proportion of ubran in each pixel (Higher means high proportion of urban land - very ) (Social Covariate).                                                                              \n",
    "\n"
   ]
  },
  {
   "cell_type": "markdown",
   "metadata": {},
   "source": [
    "# Load data"
   ]
  },
  {
   "cell_type": "code",
   "execution_count": 6,
   "metadata": {},
   "outputs": [],
   "source": [
    "# save all different datas in the \"data\" dictionary\n",
    "data = {}\n",
    "data[\"all\"] = pd.read_csv(\"../../data/csvs/data.csv\", index_col=\"index\")\n",
    "data[\"train\"] = pd.read_csv(\"../../data/csvs/split/train.csv\", index_col=\"index\")\n",
    "data[\"validation\"] = pd.read_csv(\"../../data/csvs/split/validation.csv\", index_col=\"index\")\n",
    "data[\"test\"] = pd.read_csv(\"../../data/csvs/split/test.csv\", index_col=\"index\")"
   ]
  },
  {
   "cell_type": "code",
   "execution_count": 7,
   "metadata": {},
   "outputs": [
    {
     "data": {
      "text/html": [
       "<div>\n",
       "<style scoped>\n",
       "    .dataframe tbody tr th:only-of-type {\n",
       "        vertical-align: middle;\n",
       "    }\n",
       "\n",
       "    .dataframe tbody tr th {\n",
       "        vertical-align: top;\n",
       "    }\n",
       "\n",
       "    .dataframe thead th {\n",
       "        text-align: right;\n",
       "    }\n",
       "</style>\n",
       "<table border=\"1\" class=\"dataframe\">\n",
       "  <thead>\n",
       "    <tr style=\"text-align: right;\">\n",
       "      <th></th>\n",
       "      <th>longitude</th>\n",
       "      <th>latitude</th>\n",
       "      <th>access</th>\n",
       "      <th>pet</th>\n",
       "      <th>pop</th>\n",
       "      <th>urban</th>\n",
       "      <th>W_access</th>\n",
       "      <th>adj_cases</th>\n",
       "    </tr>\n",
       "  </thead>\n",
       "  <tbody>\n",
       "    <tr>\n",
       "      <th>count</th>\n",
       "      <td>735.000000</td>\n",
       "      <td>735.000000</td>\n",
       "      <td>735.000000</td>\n",
       "      <td>735.000000</td>\n",
       "      <td>735.000000</td>\n",
       "      <td>735.000000</td>\n",
       "      <td>735.000000</td>\n",
       "      <td>735.000000</td>\n",
       "    </tr>\n",
       "    <tr>\n",
       "      <th>mean</th>\n",
       "      <td>108.876944</td>\n",
       "      <td>32.965877</td>\n",
       "      <td>-0.622909</td>\n",
       "      <td>0.033685</td>\n",
       "      <td>0.949638</td>\n",
       "      <td>0.917807</td>\n",
       "      <td>-0.518920</td>\n",
       "      <td>2.293977</td>\n",
       "    </tr>\n",
       "    <tr>\n",
       "      <th>std</th>\n",
       "      <td>11.863252</td>\n",
       "      <td>6.241687</td>\n",
       "      <td>1.399624</td>\n",
       "      <td>0.655489</td>\n",
       "      <td>1.391114</td>\n",
       "      <td>1.147988</td>\n",
       "      <td>1.122475</td>\n",
       "      <td>7.067644</td>\n",
       "    </tr>\n",
       "    <tr>\n",
       "      <th>min</th>\n",
       "      <td>78.270833</td>\n",
       "      <td>18.291870</td>\n",
       "      <td>-3.487341</td>\n",
       "      <td>-2.363020</td>\n",
       "      <td>-1.974678</td>\n",
       "      <td>-0.482502</td>\n",
       "      <td>-3.676348</td>\n",
       "      <td>0.000000</td>\n",
       "    </tr>\n",
       "    <tr>\n",
       "      <th>25%</th>\n",
       "      <td>104.984800</td>\n",
       "      <td>29.050435</td>\n",
       "      <td>-1.576518</td>\n",
       "      <td>-0.408445</td>\n",
       "      <td>0.352628</td>\n",
       "      <td>-0.482502</td>\n",
       "      <td>-1.188745</td>\n",
       "      <td>0.140595</td>\n",
       "    </tr>\n",
       "    <tr>\n",
       "      <th>50%</th>\n",
       "      <td>111.572700</td>\n",
       "      <td>33.436710</td>\n",
       "      <td>-0.883368</td>\n",
       "      <td>0.114834</td>\n",
       "      <td>1.067258</td>\n",
       "      <td>0.983505</td>\n",
       "      <td>-0.800532</td>\n",
       "      <td>0.497871</td>\n",
       "    </tr>\n",
       "    <tr>\n",
       "      <th>75%</th>\n",
       "      <td>117.293800</td>\n",
       "      <td>36.409282</td>\n",
       "      <td>-0.153806</td>\n",
       "      <td>0.483794</td>\n",
       "      <td>1.851361</td>\n",
       "      <td>1.684877</td>\n",
       "      <td>-0.160515</td>\n",
       "      <td>1.449808</td>\n",
       "    </tr>\n",
       "    <tr>\n",
       "      <th>max</th>\n",
       "      <td>132.546400</td>\n",
       "      <td>49.717850</td>\n",
       "      <td>3.444752</td>\n",
       "      <td>2.789949</td>\n",
       "      <td>4.630500</td>\n",
       "      <td>4.335167</td>\n",
       "      <td>2.691532</td>\n",
       "      <td>131.926332</td>\n",
       "    </tr>\n",
       "  </tbody>\n",
       "</table>\n",
       "</div>"
      ],
      "text/plain": [
       "        longitude    latitude      access         pet         pop       urban  \\\n",
       "count  735.000000  735.000000  735.000000  735.000000  735.000000  735.000000   \n",
       "mean   108.876944   32.965877   -0.622909    0.033685    0.949638    0.917807   \n",
       "std     11.863252    6.241687    1.399624    0.655489    1.391114    1.147988   \n",
       "min     78.270833   18.291870   -3.487341   -2.363020   -1.974678   -0.482502   \n",
       "25%    104.984800   29.050435   -1.576518   -0.408445    0.352628   -0.482502   \n",
       "50%    111.572700   33.436710   -0.883368    0.114834    1.067258    0.983505   \n",
       "75%    117.293800   36.409282   -0.153806    0.483794    1.851361    1.684877   \n",
       "max    132.546400   49.717850    3.444752    2.789949    4.630500    4.335167   \n",
       "\n",
       "         W_access   adj_cases  \n",
       "count  735.000000  735.000000  \n",
       "mean    -0.518920    2.293977  \n",
       "std      1.122475    7.067644  \n",
       "min     -3.676348    0.000000  \n",
       "25%     -1.188745    0.140595  \n",
       "50%     -0.800532    0.497871  \n",
       "75%     -0.160515    1.449808  \n",
       "max      2.691532  131.926332  "
      ]
     },
     "execution_count": 7,
     "metadata": {},
     "output_type": "execute_result"
    }
   ],
   "source": [
    "data[\"all\"].describe()"
   ]
  },
  {
   "cell_type": "code",
   "execution_count": 8,
   "metadata": {},
   "outputs": [
    {
     "data": {
      "text/html": [
       "<div>\n",
       "<style scoped>\n",
       "    .dataframe tbody tr th:only-of-type {\n",
       "        vertical-align: middle;\n",
       "    }\n",
       "\n",
       "    .dataframe tbody tr th {\n",
       "        vertical-align: top;\n",
       "    }\n",
       "\n",
       "    .dataframe thead th {\n",
       "        text-align: right;\n",
       "    }\n",
       "</style>\n",
       "<table border=\"1\" class=\"dataframe\">\n",
       "  <thead>\n",
       "    <tr style=\"text-align: right;\">\n",
       "      <th></th>\n",
       "      <th>longitude</th>\n",
       "      <th>latitude</th>\n",
       "      <th>access</th>\n",
       "      <th>pet</th>\n",
       "      <th>pop</th>\n",
       "      <th>urban</th>\n",
       "      <th>W_access</th>\n",
       "      <th>adj_cases</th>\n",
       "    </tr>\n",
       "  </thead>\n",
       "  <tbody>\n",
       "    <tr>\n",
       "      <th>count</th>\n",
       "      <td>441.000000</td>\n",
       "      <td>441.000000</td>\n",
       "      <td>441.000000</td>\n",
       "      <td>441.000000</td>\n",
       "      <td>441.000000</td>\n",
       "      <td>441.000000</td>\n",
       "      <td>441.000000</td>\n",
       "      <td>441.000000</td>\n",
       "    </tr>\n",
       "    <tr>\n",
       "      <th>mean</th>\n",
       "      <td>108.837794</td>\n",
       "      <td>33.070114</td>\n",
       "      <td>-0.614838</td>\n",
       "      <td>0.021414</td>\n",
       "      <td>0.940790</td>\n",
       "      <td>0.916743</td>\n",
       "      <td>-0.506130</td>\n",
       "      <td>2.230415</td>\n",
       "    </tr>\n",
       "    <tr>\n",
       "      <th>std</th>\n",
       "      <td>11.981972</td>\n",
       "      <td>6.247987</td>\n",
       "      <td>1.410351</td>\n",
       "      <td>0.668321</td>\n",
       "      <td>1.383413</td>\n",
       "      <td>1.148650</td>\n",
       "      <td>1.095439</td>\n",
       "      <td>7.867399</td>\n",
       "    </tr>\n",
       "    <tr>\n",
       "      <th>min</th>\n",
       "      <td>78.270833</td>\n",
       "      <td>18.291870</td>\n",
       "      <td>-3.487341</td>\n",
       "      <td>-2.363020</td>\n",
       "      <td>-1.974678</td>\n",
       "      <td>-0.482502</td>\n",
       "      <td>-3.676348</td>\n",
       "      <td>0.000000</td>\n",
       "    </tr>\n",
       "    <tr>\n",
       "      <th>25%</th>\n",
       "      <td>105.056500</td>\n",
       "      <td>28.697300</td>\n",
       "      <td>-1.581374</td>\n",
       "      <td>-0.412116</td>\n",
       "      <td>0.329067</td>\n",
       "      <td>-0.482502</td>\n",
       "      <td>-1.161913</td>\n",
       "      <td>0.139569</td>\n",
       "    </tr>\n",
       "    <tr>\n",
       "      <th>50%</th>\n",
       "      <td>111.362600</td>\n",
       "      <td>33.270833</td>\n",
       "      <td>-0.848071</td>\n",
       "      <td>0.112708</td>\n",
       "      <td>1.027002</td>\n",
       "      <td>0.956714</td>\n",
       "      <td>-0.786357</td>\n",
       "      <td>0.506065</td>\n",
       "    </tr>\n",
       "    <tr>\n",
       "      <th>75%</th>\n",
       "      <td>117.224844</td>\n",
       "      <td>36.454840</td>\n",
       "      <td>-0.136734</td>\n",
       "      <td>0.497390</td>\n",
       "      <td>1.809566</td>\n",
       "      <td>1.667885</td>\n",
       "      <td>-0.214856</td>\n",
       "      <td>1.416457</td>\n",
       "    </tr>\n",
       "    <tr>\n",
       "      <th>max</th>\n",
       "      <td>132.546400</td>\n",
       "      <td>49.281860</td>\n",
       "      <td>3.444752</td>\n",
       "      <td>2.789949</td>\n",
       "      <td>4.630500</td>\n",
       "      <td>4.285826</td>\n",
       "      <td>2.691532</td>\n",
       "      <td>131.926332</td>\n",
       "    </tr>\n",
       "  </tbody>\n",
       "</table>\n",
       "</div>"
      ],
      "text/plain": [
       "        longitude    latitude      access         pet         pop       urban  \\\n",
       "count  441.000000  441.000000  441.000000  441.000000  441.000000  441.000000   \n",
       "mean   108.837794   33.070114   -0.614838    0.021414    0.940790    0.916743   \n",
       "std     11.981972    6.247987    1.410351    0.668321    1.383413    1.148650   \n",
       "min     78.270833   18.291870   -3.487341   -2.363020   -1.974678   -0.482502   \n",
       "25%    105.056500   28.697300   -1.581374   -0.412116    0.329067   -0.482502   \n",
       "50%    111.362600   33.270833   -0.848071    0.112708    1.027002    0.956714   \n",
       "75%    117.224844   36.454840   -0.136734    0.497390    1.809566    1.667885   \n",
       "max    132.546400   49.281860    3.444752    2.789949    4.630500    4.285826   \n",
       "\n",
       "         W_access   adj_cases  \n",
       "count  441.000000  441.000000  \n",
       "mean    -0.506130    2.230415  \n",
       "std      1.095439    7.867399  \n",
       "min     -3.676348    0.000000  \n",
       "25%     -1.161913    0.139569  \n",
       "50%     -0.786357    0.506065  \n",
       "75%     -0.214856    1.416457  \n",
       "max      2.691532  131.926332  "
      ]
     },
     "execution_count": 8,
     "metadata": {},
     "output_type": "execute_result"
    }
   ],
   "source": [
    "data[\"train\"].describe()"
   ]
  },
  {
   "cell_type": "code",
   "execution_count": 9,
   "metadata": {},
   "outputs": [
    {
     "data": {
      "text/html": [
       "<div>\n",
       "<style scoped>\n",
       "    .dataframe tbody tr th:only-of-type {\n",
       "        vertical-align: middle;\n",
       "    }\n",
       "\n",
       "    .dataframe tbody tr th {\n",
       "        vertical-align: top;\n",
       "    }\n",
       "\n",
       "    .dataframe thead th {\n",
       "        text-align: right;\n",
       "    }\n",
       "</style>\n",
       "<table border=\"1\" class=\"dataframe\">\n",
       "  <thead>\n",
       "    <tr style=\"text-align: right;\">\n",
       "      <th></th>\n",
       "      <th>longitude</th>\n",
       "      <th>latitude</th>\n",
       "      <th>access</th>\n",
       "      <th>pet</th>\n",
       "      <th>pop</th>\n",
       "      <th>urban</th>\n",
       "      <th>W_access</th>\n",
       "      <th>adj_cases</th>\n",
       "    </tr>\n",
       "  </thead>\n",
       "  <tbody>\n",
       "    <tr>\n",
       "      <th>count</th>\n",
       "      <td>147.000000</td>\n",
       "      <td>147.000000</td>\n",
       "      <td>147.000000</td>\n",
       "      <td>147.000000</td>\n",
       "      <td>147.000000</td>\n",
       "      <td>147.000000</td>\n",
       "      <td>147.000000</td>\n",
       "      <td>147.000000</td>\n",
       "    </tr>\n",
       "    <tr>\n",
       "      <th>mean</th>\n",
       "      <td>109.623965</td>\n",
       "      <td>32.873224</td>\n",
       "      <td>-0.696157</td>\n",
       "      <td>0.063322</td>\n",
       "      <td>1.029015</td>\n",
       "      <td>0.981973</td>\n",
       "      <td>-0.552267</td>\n",
       "      <td>2.428266</td>\n",
       "    </tr>\n",
       "    <tr>\n",
       "      <th>std</th>\n",
       "      <td>11.041373</td>\n",
       "      <td>6.548817</td>\n",
       "      <td>1.353946</td>\n",
       "      <td>0.624483</td>\n",
       "      <td>1.403718</td>\n",
       "      <td>1.130084</td>\n",
       "      <td>1.102247</td>\n",
       "      <td>5.796444</td>\n",
       "    </tr>\n",
       "    <tr>\n",
       "      <th>min</th>\n",
       "      <td>82.020833</td>\n",
       "      <td>18.594640</td>\n",
       "      <td>-3.085057</td>\n",
       "      <td>-2.092401</td>\n",
       "      <td>-1.974678</td>\n",
       "      <td>-0.482502</td>\n",
       "      <td>-2.999472</td>\n",
       "      <td>0.000000</td>\n",
       "    </tr>\n",
       "    <tr>\n",
       "      <th>25%</th>\n",
       "      <td>106.110700</td>\n",
       "      <td>29.309255</td>\n",
       "      <td>-1.581157</td>\n",
       "      <td>-0.305511</td>\n",
       "      <td>0.497047</td>\n",
       "      <td>-0.482502</td>\n",
       "      <td>-1.212322</td>\n",
       "      <td>0.148739</td>\n",
       "    </tr>\n",
       "    <tr>\n",
       "      <th>50%</th>\n",
       "      <td>112.032300</td>\n",
       "      <td>33.895833</td>\n",
       "      <td>-0.913176</td>\n",
       "      <td>0.194353</td>\n",
       "      <td>1.203674</td>\n",
       "      <td>1.035829</td>\n",
       "      <td>-0.833404</td>\n",
       "      <td>0.508551</td>\n",
       "    </tr>\n",
       "    <tr>\n",
       "      <th>75%</th>\n",
       "      <td>117.504400</td>\n",
       "      <td>36.377512</td>\n",
       "      <td>-0.338152</td>\n",
       "      <td>0.476485</td>\n",
       "      <td>1.962960</td>\n",
       "      <td>1.759181</td>\n",
       "      <td>-0.219936</td>\n",
       "      <td>1.591885</td>\n",
       "    </tr>\n",
       "    <tr>\n",
       "      <th>max</th>\n",
       "      <td>127.680400</td>\n",
       "      <td>49.717850</td>\n",
       "      <td>2.581888</td>\n",
       "      <td>1.268342</td>\n",
       "      <td>4.484875</td>\n",
       "      <td>3.792246</td>\n",
       "      <td>2.670783</td>\n",
       "      <td>38.558924</td>\n",
       "    </tr>\n",
       "  </tbody>\n",
       "</table>\n",
       "</div>"
      ],
      "text/plain": [
       "        longitude    latitude      access         pet         pop       urban  \\\n",
       "count  147.000000  147.000000  147.000000  147.000000  147.000000  147.000000   \n",
       "mean   109.623965   32.873224   -0.696157    0.063322    1.029015    0.981973   \n",
       "std     11.041373    6.548817    1.353946    0.624483    1.403718    1.130084   \n",
       "min     82.020833   18.594640   -3.085057   -2.092401   -1.974678   -0.482502   \n",
       "25%    106.110700   29.309255   -1.581157   -0.305511    0.497047   -0.482502   \n",
       "50%    112.032300   33.895833   -0.913176    0.194353    1.203674    1.035829   \n",
       "75%    117.504400   36.377512   -0.338152    0.476485    1.962960    1.759181   \n",
       "max    127.680400   49.717850    2.581888    1.268342    4.484875    3.792246   \n",
       "\n",
       "         W_access   adj_cases  \n",
       "count  147.000000  147.000000  \n",
       "mean    -0.552267    2.428266  \n",
       "std      1.102247    5.796444  \n",
       "min     -2.999472    0.000000  \n",
       "25%     -1.212322    0.148739  \n",
       "50%     -0.833404    0.508551  \n",
       "75%     -0.219936    1.591885  \n",
       "max      2.670783   38.558924  "
      ]
     },
     "execution_count": 9,
     "metadata": {},
     "output_type": "execute_result"
    }
   ],
   "source": [
    "data[\"validation\"].describe()"
   ]
  },
  {
   "cell_type": "code",
   "execution_count": 10,
   "metadata": {},
   "outputs": [
    {
     "data": {
      "text/html": [
       "<div>\n",
       "<style scoped>\n",
       "    .dataframe tbody tr th:only-of-type {\n",
       "        vertical-align: middle;\n",
       "    }\n",
       "\n",
       "    .dataframe tbody tr th {\n",
       "        vertical-align: top;\n",
       "    }\n",
       "\n",
       "    .dataframe thead th {\n",
       "        text-align: right;\n",
       "    }\n",
       "</style>\n",
       "<table border=\"1\" class=\"dataframe\">\n",
       "  <thead>\n",
       "    <tr style=\"text-align: right;\">\n",
       "      <th></th>\n",
       "      <th>longitude</th>\n",
       "      <th>latitude</th>\n",
       "      <th>access</th>\n",
       "      <th>pet</th>\n",
       "      <th>pop</th>\n",
       "      <th>urban</th>\n",
       "      <th>W_access</th>\n",
       "      <th>adj_cases</th>\n",
       "    </tr>\n",
       "  </thead>\n",
       "  <tbody>\n",
       "    <tr>\n",
       "      <th>count</th>\n",
       "      <td>147.000000</td>\n",
       "      <td>147.000000</td>\n",
       "      <td>147.000000</td>\n",
       "      <td>147.000000</td>\n",
       "      <td>147.000000</td>\n",
       "      <td>147.000000</td>\n",
       "      <td>147.000000</td>\n",
       "      <td>147.000000</td>\n",
       "    </tr>\n",
       "    <tr>\n",
       "      <th>mean</th>\n",
       "      <td>108.247372</td>\n",
       "      <td>32.745816</td>\n",
       "      <td>-0.573876</td>\n",
       "      <td>0.040860</td>\n",
       "      <td>0.896801</td>\n",
       "      <td>0.856834</td>\n",
       "      <td>-0.523941</td>\n",
       "      <td>2.350376</td>\n",
       "    </tr>\n",
       "    <tr>\n",
       "      <th>std</th>\n",
       "      <td>12.328522</td>\n",
       "      <td>5.936045</td>\n",
       "      <td>1.418696</td>\n",
       "      <td>0.650117</td>\n",
       "      <td>1.407650</td>\n",
       "      <td>1.168009</td>\n",
       "      <td>1.225268</td>\n",
       "      <td>5.564024</td>\n",
       "    </tr>\n",
       "    <tr>\n",
       "      <th>min</th>\n",
       "      <td>81.395833</td>\n",
       "      <td>18.390840</td>\n",
       "      <td>-3.077173</td>\n",
       "      <td>-1.809758</td>\n",
       "      <td>-1.974678</td>\n",
       "      <td>-0.482502</td>\n",
       "      <td>-2.839588</td>\n",
       "      <td>0.000000</td>\n",
       "    </tr>\n",
       "    <tr>\n",
       "      <th>25%</th>\n",
       "      <td>103.518950</td>\n",
       "      <td>29.582645</td>\n",
       "      <td>-1.560054</td>\n",
       "      <td>-0.423065</td>\n",
       "      <td>0.335608</td>\n",
       "      <td>-0.482502</td>\n",
       "      <td>-1.282488</td>\n",
       "      <td>0.143853</td>\n",
       "    </tr>\n",
       "    <tr>\n",
       "      <th>50%</th>\n",
       "      <td>111.624700</td>\n",
       "      <td>33.270833</td>\n",
       "      <td>-0.883368</td>\n",
       "      <td>0.099768</td>\n",
       "      <td>1.057355</td>\n",
       "      <td>0.926667</td>\n",
       "      <td>-0.824623</td>\n",
       "      <td>0.483680</td>\n",
       "    </tr>\n",
       "    <tr>\n",
       "      <th>75%</th>\n",
       "      <td>117.028800</td>\n",
       "      <td>36.395833</td>\n",
       "      <td>-0.070773</td>\n",
       "      <td>0.480171</td>\n",
       "      <td>1.784480</td>\n",
       "      <td>1.632240</td>\n",
       "      <td>0.073721</td>\n",
       "      <td>1.572767</td>\n",
       "    </tr>\n",
       "    <tr>\n",
       "      <th>max</th>\n",
       "      <td>129.457900</td>\n",
       "      <td>49.096510</td>\n",
       "      <td>3.166352</td>\n",
       "      <td>1.200021</td>\n",
       "      <td>4.285423</td>\n",
       "      <td>4.335167</td>\n",
       "      <td>2.674515</td>\n",
       "      <td>42.815878</td>\n",
       "    </tr>\n",
       "  </tbody>\n",
       "</table>\n",
       "</div>"
      ],
      "text/plain": [
       "        longitude    latitude      access         pet         pop       urban  \\\n",
       "count  147.000000  147.000000  147.000000  147.000000  147.000000  147.000000   \n",
       "mean   108.247372   32.745816   -0.573876    0.040860    0.896801    0.856834   \n",
       "std     12.328522    5.936045    1.418696    0.650117    1.407650    1.168009   \n",
       "min     81.395833   18.390840   -3.077173   -1.809758   -1.974678   -0.482502   \n",
       "25%    103.518950   29.582645   -1.560054   -0.423065    0.335608   -0.482502   \n",
       "50%    111.624700   33.270833   -0.883368    0.099768    1.057355    0.926667   \n",
       "75%    117.028800   36.395833   -0.070773    0.480171    1.784480    1.632240   \n",
       "max    129.457900   49.096510    3.166352    1.200021    4.285423    4.335167   \n",
       "\n",
       "         W_access   adj_cases  \n",
       "count  147.000000  147.000000  \n",
       "mean    -0.523941    2.350376  \n",
       "std      1.225268    5.564024  \n",
       "min     -2.839588    0.000000  \n",
       "25%     -1.282488    0.143853  \n",
       "50%     -0.824623    0.483680  \n",
       "75%      0.073721    1.572767  \n",
       "max      2.674515   42.815878  "
      ]
     },
     "execution_count": 10,
     "metadata": {},
     "output_type": "execute_result"
    }
   ],
   "source": [
    "data[\"test\"].describe()"
   ]
  },
  {
   "cell_type": "markdown",
   "metadata": {},
   "source": [
    "# Plot and explore each variable"
   ]
  },
  {
   "cell_type": "code",
   "execution_count": 11,
   "metadata": {},
   "outputs": [
    {
     "data": {
      "text/plain": [
       "<matplotlib.axes._subplots.AxesSubplot at 0x119b4cd10>"
      ]
     },
     "execution_count": 11,
     "metadata": {},
     "output_type": "execute_result"
    },
    {
     "data": {
      "image/png": "[encoded data removed]",
      "text/plain": [
       "<Figure size 432x288 with 1 Axes>"
      ]
     },
     "metadata": {
      "needs_background": "light"
     },
     "output_type": "display_data"
    }
   ],
   "source": [
    "data[\"all\"][\"longitude\"].plot.hist()"
   ]
  },
  {
   "cell_type": "code",
   "execution_count": 12,
   "metadata": {},
   "outputs": [
    {
     "data": {
      "text/plain": [
       "<matplotlib.axes._subplots.AxesSubplot at 0x11bc42d50>"
      ]
     },
     "execution_count": 12,
     "metadata": {},
     "output_type": "execute_result"
    },
    {
     "data": {
      "image/png": "[encoded data removed]",
      "text/plain": [
       "<Figure size 432x288 with 1 Axes>"
      ]
     },
     "metadata": {
      "needs_background": "light"
     },
     "output_type": "display_data"
    }
   ],
   "source": [
    "data[\"all\"][\"latitude\"].plot.hist()"
   ]
  },
  {
   "cell_type": "code",
   "execution_count": 13,
   "metadata": {},
   "outputs": [
    {
     "data": {
      "text/plain": [
       "<matplotlib.axes._subplots.AxesSubplot at 0x11bd55210>"
      ]
     },
     "execution_count": 13,
     "metadata": {},
     "output_type": "execute_result"
    },
    {
     "data": {
      "image/png": "[encoded data removed]",
      "text/plain": [
       "<Figure size 432x288 with 1 Axes>"
      ]
     },
     "metadata": {
      "needs_background": "light"
     },
     "output_type": "display_data"
    }
   ],
   "source": [
    "data[\"all\"][\"access\"].plot.hist()"
   ]
  },
  {
   "cell_type": "code",
   "execution_count": 14,
   "metadata": {},
   "outputs": [
    {
     "data": {
      "text/plain": [
       "<matplotlib.axes._subplots.AxesSubplot at 0x11bdd3610>"
      ]
     },
     "execution_count": 14,
     "metadata": {},
     "output_type": "execute_result"
    },
    {
     "data": {
      "image/png": "[encoded data removed]",
      "text/plain": [
       "<Figure size 432x288 with 1 Axes>"
      ]
     },
     "metadata": {
      "needs_background": "light"
     },
     "output_type": "display_data"
    }
   ],
   "source": [
    "data[\"all\"][\"W_access\"].plot.hist()"
   ]
  },
  {
   "cell_type": "code",
   "execution_count": 15,
   "metadata": {
    "scrolled": true
   },
   "outputs": [
    {
     "data": {
      "text/plain": [
       "<matplotlib.axes._subplots.AxesSubplot at 0x11be4d510>"
      ]
     },
     "execution_count": 15,
     "metadata": {},
     "output_type": "execute_result"
    },
    {
     "data": {
      "image/png": "[encoded data removed]",
      "text/plain": [
       "<Figure size 432x288 with 1 Axes>"
      ]
     },
     "metadata": {
      "needs_background": "light"
     },
     "output_type": "display_data"
    }
   ],
   "source": [
    "data[\"all\"][\"pet\"].plot.hist()"
   ]
  },
  {
   "cell_type": "code",
   "execution_count": 16,
   "metadata": {},
   "outputs": [
    {
     "data": {
      "text/plain": [
       "<matplotlib.axes._subplots.AxesSubplot at 0x11bece8d0>"
      ]
     },
     "execution_count": 16,
     "metadata": {},
     "output_type": "execute_result"
    },
    {
     "data": {
      "image/png": "[encoded data removed]",
      "text/plain": [
       "<Figure size 432x288 with 1 Axes>"
      ]
     },
     "metadata": {
      "needs_background": "light"
     },
     "output_type": "display_data"
    }
   ],
   "source": [
    "data[\"all\"][\"pop\"].plot.hist()"
   ]
  },
  {
   "cell_type": "code",
   "execution_count": 17,
   "metadata": {},
   "outputs": [
    {
     "data": {
      "text/plain": [
       "<matplotlib.axes._subplots.AxesSubplot at 0x11bee0f50>"
      ]
     },
     "execution_count": 17,
     "metadata": {},
     "output_type": "execute_result"
    },
    {
     "data": {
      "image/png": "[encoded data removed]",
      "text/plain": [
       "<Figure size 432x288 with 1 Axes>"
      ]
     },
     "metadata": {
      "needs_background": "light"
     },
     "output_type": "display_data"
    }
   ],
   "source": [
    "data[\"all\"][\"urban\"].plot.hist()"
   ]
  },
  {
   "cell_type": "code",
   "execution_count": 18,
   "metadata": {},
   "outputs": [
    {
     "data": {
      "text/plain": [
       "<matplotlib.axes._subplots.AxesSubplot at 0x11bfc2f50>"
      ]
     },
     "execution_count": 18,
     "metadata": {},
     "output_type": "execute_result"
    },
    {
     "data": {
      "image/png": "[encoded data removed]",
      "text/plain": [
       "<Figure size 432x288 with 1 Axes>"
      ]
     },
     "metadata": {
      "needs_background": "light"
     },
     "output_type": "display_data"
    }
   ],
   "source": [
    "data[\"all\"][\"adj_cases\"].plot.hist()"
   ]
  },
  {
   "cell_type": "markdown",
   "metadata": {},
   "source": [
    "# Standardise and normalise data"
   ]
  },
  {
   "cell_type": "code",
   "execution_count": 19,
   "metadata": {},
   "outputs": [],
   "source": [
    "data_scaled = data[\"all\"].copy()"
   ]
  },
  {
   "cell_type": "code",
   "execution_count": 20,
   "metadata": {},
   "outputs": [
    {
     "data": {
      "text/plain": [
       "<matplotlib.axes._subplots.AxesSubplot at 0x1198de0d0>"
      ]
     },
     "execution_count": 20,
     "metadata": {},
     "output_type": "execute_result"
    },
    {
     "data": {
      "image/png": "[encoded data removed]",
      "text/plain": [
       "<Figure size 432x288 with 1 Axes>"
      ]
     },
     "metadata": {
      "needs_background": "light"
     },
     "output_type": "display_data"
    }
   ],
   "source": [
    "data_scaled[\"longitude\"] = data[\"all\"][\"longitude\"] / 180\n",
    "data_scaled[\"longitude\"].plot.hist()"
   ]
  },
  {
   "cell_type": "code",
   "execution_count": 21,
   "metadata": {},
   "outputs": [
    {
     "name": "stdout",
     "output_type": "stream",
     "text": [
      "Using matplotlib backend: MacOSX\n"
     ]
    },
    {
     "data": {
      "text/plain": [
       "<matplotlib.axes._subplots.AxesSubplot at 0x11c0e3a10>"
      ]
     },
     "execution_count": 21,
     "metadata": {},
     "output_type": "execute_result"
    },
    {
     "data": {
      "image/png": "[encoded data removed]",
      "text/plain": [
       "<Figure size 432x288 with 1 Axes>"
      ]
     },
     "metadata": {
      "needs_background": "light"
     },
     "output_type": "display_data"
    }
   ],
   "source": [
    "data_scaled[\"latitude\"] = data[\"all\"][\"latitude\"] / 90\n",
    "data_scaled[\"latitude\"].plot.hist()"
   ]
  },
  {
   "cell_type": "code",
   "execution_count": 22,
   "metadata": {},
   "outputs": [
    {
     "data": {
      "text/plain": [
       "<matplotlib.axes._subplots.AxesSubplot at 0x11c597950>"
      ]
     },
     "execution_count": 22,
     "metadata": {},
     "output_type": "execute_result"
    },
    {
     "data": {
      "image/png": "[encoded data removed]",
      "text/plain": [
       "<Figure size 432x288 with 1 Axes>"
      ]
     },
     "metadata": {
      "needs_background": "light"
     },
     "output_type": "display_data"
    }
   ],
   "source": [
    "data_scaled[\"adj_cases\"] = np.log(data[\"all\"][\"adj_cases\"] + 1)\n",
    "data_scaled[\"adj_cases\"].plot.hist()"
   ]
  },
  {
   "cell_type": "code",
   "execution_count": null,
   "metadata": {},
   "outputs": [],
   "source": []
  }
 ],
 "metadata": {
  "kernelspec": {
   "display_name": "Python 3.7.5 64-bit ('Spatio-Temporal-Deep-Learning-Model-For-Coronavirus-Cases': pipenv)",
   "language": "python",
   "name": "python37564bitspatiotemporaldeeplearningmodelforcoronaviruscasespipenv0ec514e155bd4d18ba9ff2a22a88a501"
  },
  "language_info": {
   "codemirror_mode": {
    "name": "ipython",
    "version": 3
   },
   "file_extension": ".py",
   "mimetype": "text/x-python",
   "name": "python",
   "nbconvert_exporter": "python",
   "pygments_lexer": "ipython3",
   "version": "3.7.5"
  }
 },
 "nbformat": 4,
 "nbformat_minor": 2
}
